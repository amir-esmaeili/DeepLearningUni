{
 "cells": [
  {
   "cell_type": "code",
   "execution_count": 26,
   "id": "initial_id",
   "metadata": {
    "collapsed": true,
    "ExecuteTime": {
     "end_time": "2024-10-29T12:55:32.091924200Z",
     "start_time": "2024-10-29T12:55:32.044827300Z"
    }
   },
   "outputs": [
    {
     "name": "stdout",
     "output_type": "stream",
     "text": [
      "(2111, 17)\n"
     ]
    }
   ],
   "source": [
    "import numpy as np\n",
    "import pandas as pd\n",
    "myData = pd.read_csv('../../data/ObesityDataSet.csv')\n",
    "print(myData.shape)"
   ]
  },
  {
   "cell_type": "code",
   "outputs": [
    {
     "name": "stdout",
     "output_type": "stream",
     "text": [
      "    Age  Gender  Height  Weight        CALC FAVC  FCVC  NCP  SCC SMOKE  CH2O  \\\n",
      "0  21.0  Female    1.62    64.0          no   no   2.0  3.0   no    no   2.0   \n",
      "1  21.0  Female    1.52    56.0   Sometimes   no   3.0  3.0  yes   yes   3.0   \n",
      "2  23.0    Male    1.80    77.0  Frequently   no   2.0  3.0   no    no   2.0   \n",
      "3  27.0    Male    1.80    87.0  Frequently   no   3.0  3.0   no    no   2.0   \n",
      "4  22.0    Male    1.78    89.8   Sometimes   no   2.0  1.0   no    no   2.0   \n",
      "5  29.0    Male    1.62    53.0   Sometimes  yes   2.0  3.0   no    no   2.0   \n",
      "6  23.0  Female    1.50    55.0   Sometimes  yes   3.0  3.0   no    no   2.0   \n",
      "7  22.0    Male    1.64    53.0   Sometimes   no   2.0  3.0   no    no   2.0   \n",
      "8  24.0    Male    1.78    64.0  Frequently  yes   3.0  3.0   no    no   2.0   \n",
      "9  22.0    Male    1.72    68.0          no  yes   2.0  3.0   no    no   2.0   \n",
      "\n",
      "  family_history_with_overweight  FAF  TUE       CAEC                 MTRANS           NObeyesdad  \n",
      "0                            yes  0.0  1.0  Sometimes  Public_Transportation        Normal_Weight  \n",
      "1                            yes  3.0  0.0  Sometimes  Public_Transportation        Normal_Weight  \n",
      "2                            yes  2.0  1.0  Sometimes  Public_Transportation        Normal_Weight  \n",
      "3                             no  2.0  0.0  Sometimes                Walking   Overweight_Level_I  \n",
      "4                             no  0.0  0.0  Sometimes  Public_Transportation  Overweight_Level_II  \n",
      "5                             no  0.0  0.0  Sometimes             Automobile        Normal_Weight  \n",
      "6                            yes  1.0  0.0  Sometimes              Motorbike        Normal_Weight  \n",
      "7                             no  3.0  0.0  Sometimes  Public_Transportation        Normal_Weight  \n",
      "8                            yes  1.0  1.0  Sometimes  Public_Transportation        Normal_Weight  \n",
      "9                            yes  1.0  1.0  Sometimes  Public_Transportation        Normal_Weight  \n"
     ]
    }
   ],
   "source": [
    "peek = myData.head(10)\n",
    "print(peek)"
   ],
   "metadata": {
    "collapsed": false,
    "ExecuteTime": {
     "end_time": "2024-10-29T12:55:32.503307600Z",
     "start_time": "2024-10-29T12:55:32.466250900Z"
    }
   },
   "id": "f9e165253c8f0c5f",
   "execution_count": 27
  },
  {
   "cell_type": "code",
   "outputs": [
    {
     "name": "stdout",
     "output_type": "stream",
     "text": [
      "(2111, 17)\n"
     ]
    }
   ],
   "source": [
    "shape = myData.shape\n",
    "print(shape)"
   ],
   "metadata": {
    "collapsed": false,
    "ExecuteTime": {
     "end_time": "2024-10-29T12:55:33.384570Z",
     "start_time": "2024-10-29T12:55:33.373700200Z"
    }
   },
   "id": "3c4da3a492eb3c79",
   "execution_count": 28
  },
  {
   "cell_type": "code",
   "outputs": [
    {
     "name": "stdout",
     "output_type": "stream",
     "text": [
      "Age                               float64\n",
      "Gender                             object\n",
      "Height                            float64\n",
      "Weight                            float64\n",
      "CALC                               object\n",
      "FAVC                               object\n",
      "FCVC                              float64\n",
      "NCP                               float64\n",
      "SCC                                object\n",
      "SMOKE                              object\n",
      "CH2O                              float64\n",
      "family_history_with_overweight     object\n",
      "FAF                               float64\n",
      "TUE                               float64\n",
      "CAEC                               object\n",
      "MTRANS                             object\n",
      "NObeyesdad                         object\n",
      "dtype: object\n"
     ]
    }
   ],
   "source": [
    "types = myData.dtypes\n",
    "print(types)"
   ],
   "metadata": {
    "collapsed": false,
    "ExecuteTime": {
     "end_time": "2024-10-29T12:55:34.254252100Z",
     "start_time": "2024-10-29T12:55:34.233489900Z"
    }
   },
   "id": "f2355301eef161ef",
   "execution_count": 29
  },
  {
   "cell_type": "code",
   "outputs": [
    {
     "name": "stdout",
     "output_type": "stream",
     "text": [
      "NObeyesdad\n",
      "Insufficient_Weight    272\n",
      "Normal_Weight          287\n",
      "Obesity_Type_I         351\n",
      "Obesity_Type_II        297\n",
      "Obesity_Type_III       324\n",
      "Overweight_Level_I     290\n",
      "Overweight_Level_II    290\n",
      "dtype: int64\n"
     ]
    }
   ],
   "source": [
    "outcome_counts = myData.groupby('NObeyesdad').size()\n",
    "print(outcome_counts)"
   ],
   "metadata": {
    "collapsed": false,
    "ExecuteTime": {
     "end_time": "2024-10-29T12:55:35.193434700Z",
     "start_time": "2024-10-29T12:55:35.165698Z"
    }
   },
   "id": "c37eb3e2836bd018",
   "execution_count": 30
  },
  {
   "cell_type": "code",
   "outputs": [
    {
     "name": "stdout",
     "output_type": "stream",
     "text": [
      "          Age  Height  Weight   FCVC    NCP   CH2O    FAF    TUE\n",
      "Age     1.000  -0.026   0.203  0.016 -0.044 -0.045 -0.145 -0.297\n",
      "Height -0.026   1.000   0.463 -0.038  0.244  0.213  0.295  0.052\n",
      "Weight  0.203   0.463   1.000  0.216  0.107  0.201 -0.051 -0.072\n",
      "FCVC    0.016  -0.038   0.216  1.000  0.042  0.068  0.020 -0.101\n",
      "NCP    -0.044   0.244   0.107  0.042  1.000  0.057  0.130  0.036\n",
      "CH2O   -0.045   0.213   0.201  0.068  0.057  1.000  0.167  0.012\n",
      "FAF    -0.145   0.295  -0.051  0.020  0.130  0.167  1.000  0.059\n",
      "TUE    -0.297   0.052  -0.072 -0.101  0.036  0.012  0.059  1.000\n"
     ]
    }
   ],
   "source": [
    "from pandas import set_option\n",
    "\n",
    "set_option('display.width', 100)\n",
    "set_option('precision', 3)\n",
    "correlations = myData.corr(method = 'pearson')\n",
    "print(correlations)"
   ],
   "metadata": {
    "collapsed": false,
    "ExecuteTime": {
     "end_time": "2024-10-29T12:55:35.848735100Z",
     "start_time": "2024-10-29T12:55:35.826354100Z"
    }
   },
   "id": "1a2de44d2b9cecaf",
   "execution_count": 31
  },
  {
   "cell_type": "code",
   "outputs": [
    {
     "data": {
      "text/plain": "<AxesSubplot:ylabel='Frequency'>"
     },
     "execution_count": 32,
     "metadata": {},
     "output_type": "execute_result"
    },
    {
     "data": {
      "text/plain": "<Figure size 640x480 with 1 Axes>",
      "image/png": "[encoded data removed]"
     },
     "metadata": {},
     "output_type": "display_data"
    }
   ],
   "source": [
    "import matplotlib.pyplot as plt\n",
    "myData.plot.hist()"
   ],
   "metadata": {
    "collapsed": false,
    "ExecuteTime": {
     "end_time": "2024-10-29T12:55:36.950699800Z",
     "start_time": "2024-10-29T12:55:36.654941700Z"
    }
   },
   "id": "8e41194f39bdcb37",
   "execution_count": 32
  },
  {
   "cell_type": "code",
   "outputs": [
    {
     "data": {
      "text/plain": "<Figure size 1000x1000 with 9 Axes>",
      "image/png": "[encoded data removed]"
     },
     "metadata": {},
     "output_type": "display_data"
    }
   ],
   "source": [
    "myData.plot(kind='box', subplots=True, layout=(3,3), sharex=False, sharey=False, figsize = (10,10))\n",
    "plt.show()"
   ],
   "metadata": {
    "collapsed": false,
    "ExecuteTime": {
     "end_time": "2024-10-29T12:55:40.362830700Z",
     "start_time": "2024-10-29T12:55:39.761173800Z"
    }
   },
   "id": "4859f4939b692114",
   "execution_count": 33
  },
  {
   "cell_type": "code",
   "outputs": [
    {
     "data": {
      "text/plain": "<Figure size 640x480 with 2 Axes>",
      "image/png": "[encoded data removed]"
     },
     "metadata": {},
     "output_type": "display_data"
    }
   ],
   "source": [
    "correlations = myData.corr()\n",
    "# plot correlation matrix\n",
    "myfig = plt.figure()\n",
    "axis = myfig.add_subplot(111) # There is only one subplot or graph;\n",
    "# \"111\" means \"1x1 grid, first subplot\"\n",
    "cax = axis.matshow(correlations, vmin = -1, vmax = 1)\n",
    "myfig.colorbar(cax)\n",
    "ticks = np.arange(0, 9, 1)"
   ],
   "metadata": {
    "collapsed": false,
    "ExecuteTime": {
     "end_time": "2024-10-29T12:55:43.873623200Z",
     "start_time": "2024-10-29T12:55:43.661914900Z"
    }
   },
   "id": "1eb668224cf017e0",
   "execution_count": 34
  },
  {
   "cell_type": "code",
   "outputs": [],
   "source": [
    "from sklearn.preprocessing import LabelEncoder, MinMaxScaler\n",
    "from numpy import set_printoptions\n",
    "\n",
    "label_encoder = LabelEncoder()\n",
    "\n",
    "categorical_columns = ['Gender', 'CALC', 'FAVC', 'SCC', 'SMOKE', 'family_history_with_overweight', 'CAEC', 'MTRANS', 'NObeyesdad']\n",
    "\n",
    "for col in categorical_columns:\n",
    "    myData[col] = label_encoder.fit_transform(myData[col])"
   ],
   "metadata": {
    "collapsed": false,
    "ExecuteTime": {
     "end_time": "2024-10-29T12:55:44.517531800Z",
     "start_time": "2024-10-29T12:55:44.505491300Z"
    }
   },
   "id": "2a17e22b60c24825",
   "execution_count": 35
  },
  {
   "cell_type": "code",
   "outputs": [
    {
     "name": "stdout",
     "output_type": "stream",
     "text": [
      "[[0.17  1.    0.377 0.306 1.    0.    0.5   0.667 0.    0.    0.5   1.\n",
      "  1.    1.    0.667 1.   ]\n",
      " [0.809 0.    0.453 0.358 1.    1.    1.    0.    0.    1.    0.5   1.\n",
      "  0.    0.    0.667 0.   ]\n",
      " [0.17  0.    0.377 0.157 0.667 1.    1.    0.667 0.    0.    0.5   1.\n",
      "  0.333 0.    0.667 0.   ]\n",
      " [0.17  0.    0.283 0.321 0.667 1.    0.    0.    0.    0.    0.5   1.\n",
      "  0.    1.    0.667 0.75 ]\n",
      " [0.149 1.    0.755 0.216 0.667 1.    0.5   0.667 0.    0.    0.5   1.\n",
      "  0.    0.5   0.667 0.75 ]]\n"
     ]
    }
   ],
   "source": [
    "X = myData.drop('NObeyesdad', axis=1).values\n",
    "Y = myData['NObeyesdad'].values\n",
    "\n",
    "mydataScaler = MinMaxScaler(feature_range=(0, 1))\n",
    "mydataRescaled = mydataScaler.fit_transform(X)\n",
    "\n",
    "set_printoptions(precision=3)\n",
    "print(mydataRescaled[20:25, :])"
   ],
   "metadata": {
    "collapsed": false,
    "ExecuteTime": {
     "end_time": "2024-10-29T12:55:45.381320700Z",
     "start_time": "2024-10-29T12:55:45.349576100Z"
    }
   },
   "id": "fc7d20d1d52c2898",
   "execution_count": 36
  },
  {
   "cell_type": "code",
   "outputs": [
    {
     "name": "stdout",
     "output_type": "stream",
     "text": [
      "[[0.264 0.012 0.02  0.96  0.036 0.    0.024 0.036 0.    0.    0.024 0.012\n",
      "  0.036 0.024 0.024 0.048]\n",
      " [0.512 0.    0.017 0.857 0.03  0.01  0.03  0.01  0.    0.01  0.02  0.01\n",
      "  0.    0.    0.02  0.   ]\n",
      " [0.343 0.    0.026 0.935 0.031 0.016 0.047 0.047 0.    0.    0.031 0.016\n",
      "  0.016 0.    0.031 0.   ]\n",
      " [0.259 0.    0.019 0.964 0.024 0.012 0.012 0.012 0.    0.    0.024 0.012\n",
      "  0.    0.024 0.024 0.035]\n",
      " [0.294 0.014 0.026 0.952 0.028 0.014 0.028 0.042 0.    0.    0.028 0.014\n",
      "  0.    0.014 0.028 0.042]]\n"
     ]
    }
   ],
   "source": [
    "from sklearn.preprocessing import LabelEncoder, Normalizer\n",
    "\n",
    "myData.replace([np.inf, -np.inf], np.nan, inplace=True)\n",
    "myData.dropna(inplace=True)\n",
    "\n",
    "mydata_train = myData.drop('NObeyesdad', axis=1).values\n",
    "mydata_label = myData['NObeyesdad'].values\n",
    "\n",
    "mydataScaler = Normalizer().fit(mydata_train)\n",
    "mydataNormalized = mydataScaler.transform(mydata_train)\n",
    "\n",
    "set_printoptions(precision=3)\n",
    "print(mydataNormalized[20:25, :])"
   ],
   "metadata": {
    "collapsed": false,
    "ExecuteTime": {
     "end_time": "2024-10-29T12:55:46.033334Z",
     "start_time": "2024-10-29T12:55:45.996211400Z"
    }
   },
   "id": "ddd05633650b0989",
   "execution_count": 37
  },
  {
   "cell_type": "code",
   "outputs": [
    {
     "name": "stdout",
     "output_type": "stream",
     "text": [
      "[[1. 0. 1. 1. 1. 0. 1. 1. 0. 0. 1. 1. 0. 1. 1. 1.]\n",
      " [1. 0. 1. 1. 1. 0. 1. 1. 1. 1. 1. 1. 1. 0. 1. 1.]\n",
      " [1. 1. 1. 1. 1. 0. 1. 1. 0. 0. 1. 1. 1. 1. 1. 1.]\n",
      " [1. 1. 1. 1. 1. 0. 1. 1. 0. 0. 1. 0. 1. 0. 1. 1.]\n",
      " [1. 1. 1. 1. 1. 0. 1. 1. 0. 0. 1. 0. 0. 0. 1. 1.]]\n"
     ]
    }
   ],
   "source": [
    "from sklearn.preprocessing import Binarizer\n",
    "\n",
    "mydataBinarizer = Binarizer(threshold=0.0).fit(mydata_train)\n",
    "mydatabinarized = mydataBinarizer.transform(mydata_train)\n",
    "set_printoptions(precision = 3)\n",
    "print(mydatabinarized[0:5,:])"
   ],
   "metadata": {
    "collapsed": false,
    "ExecuteTime": {
     "end_time": "2024-10-29T12:55:46.754683100Z",
     "start_time": "2024-10-29T12:55:46.733024700Z"
    }
   },
   "id": "d1446285c582184",
   "execution_count": 38
  },
  {
   "cell_type": "code",
   "outputs": [
    {
     "name": "stdout",
     "output_type": "stream",
     "text": [
      "[124.581   1.309   3.21  372.955  38.933   4.2     0.724  18.247   5.431\n",
      "   1.141  25.296 230.141  36.008  10.221 253.025   4.512]\n"
     ]
    }
   ],
   "source": [
    "from sklearn.feature_selection import SelectKBest, f_regression\n",
    "\n",
    "myData.replace([np.inf, -np.inf], np.nan, inplace=True)\n",
    "myData.dropna(inplace=True)\n",
    "\n",
    "min_value = myData.drop('NObeyesdad', axis=1).min().min()\n",
    "if min_value < 0:\n",
    "    myData += abs(min_value)\n",
    "\n",
    "mydata_train = myData.drop('NObeyesdad', axis=1).values\n",
    "mydata_label = myData['NObeyesdad'].values\n",
    "\n",
    "myFeature = SelectKBest(score_func=f_regression, k=4)\n",
    "fit = myFeature.fit(mydata_train, mydata_label)\n",
    "\n",
    "set_printoptions(precision=3)\n",
    "print(fit.scores_)"
   ],
   "metadata": {
    "collapsed": false,
    "ExecuteTime": {
     "end_time": "2024-10-29T12:55:47.419216600Z",
     "start_time": "2024-10-29T12:55:47.383476800Z"
    }
   },
   "id": "77297c4e396677d7",
   "execution_count": 39
  },
  {
   "cell_type": "code",
   "outputs": [
    {
     "name": "stdout",
     "output_type": "stream",
     "text": [
      "Number of features selected: 4\n",
      "Selected features are denoted by True: [False False False False  True  True False False False False False  True\n",
      " False False  True False]\n",
      "Feature Ranking: [ 9 10  7 13  1  1 12  3  4  2  6  1  5 11  1  8]\n"
     ]
    }
   ],
   "source": [
    "from sklearn.feature_selection import RFE\n",
    "from sklearn.linear_model import LinearRegression\n",
    "\n",
    "model = LinearRegression()\n",
    "mydataRFE = RFE(model, n_features_to_select=4)\n",
    "mydataFit = mydataRFE.fit(mydata_train, mydata_label)\n",
    "\n",
    "print(\"Number of features selected: %d\" % mydataFit.n_features_)\n",
    "print(\"Selected features are denoted by True: %s\" % mydataFit.support_)\n",
    "print(\"Feature Ranking: %s\" % mydataFit.ranking_)"
   ],
   "metadata": {
    "collapsed": false,
    "ExecuteTime": {
     "end_time": "2024-10-29T12:55:48.304286300Z",
     "start_time": "2024-10-29T12:55:48.266142500Z"
    }
   },
   "id": "b09d63185809d4cf",
   "execution_count": 40
  },
  {
   "cell_type": "code",
   "outputs": [
    {
     "name": "stdout",
     "output_type": "stream",
     "text": [
      "Explained Variance: [0.941 0.054 0.001]\n",
      "[[ 5.193e-02  3.087e-03  1.642e-03  9.986e-01 -4.064e-03  3.328e-03\n",
      "   4.394e-03  3.166e-03 -1.612e-03  1.462e-04  4.665e-03  7.337e-03\n",
      "  -1.724e-03 -1.745e-03  5.143e-03 -1.444e-04]\n",
      " [ 9.899e-01  1.337e-03 -1.866e-03 -5.156e-02  7.560e-06  3.786e-04\n",
      "  -2.735e-03 -8.377e-03 -2.482e-03  1.986e-03 -8.927e-03  6.303e-03\n",
      "  -1.868e-02 -2.820e-02  1.771e-03 -1.272e-01]\n",
      " [ 1.042e-01 -1.390e-01 -3.046e-02 -4.344e-03 -1.891e-02 -1.435e-02\n",
      "   4.375e-02 -2.546e-01 -2.510e-03  5.624e-03 -6.440e-02 -2.002e-02\n",
      "  -3.379e-01 -1.766e-02 -1.016e-02  8.845e-01]]\n"
     ]
    }
   ],
   "source": [
    "from sklearn.decomposition import PCA\n",
    "\n",
    "pca = PCA(n_components = 3)\n",
    "fit = pca.fit(mydata_train)\n",
    "print(\"Explained Variance: %s\" % fit.explained_variance_ratio_)\n",
    "print(fit.components_)"
   ],
   "metadata": {
    "collapsed": false,
    "ExecuteTime": {
     "end_time": "2024-10-29T12:55:49.707544800Z",
     "start_time": "2024-10-29T12:55:49.595828200Z"
    }
   },
   "id": "c86acca8b82f8d8",
   "execution_count": 41
  },
  {
   "cell_type": "code",
   "outputs": [
    {
     "name": "stdout",
     "output_type": "stream",
     "text": [
      "(2111, 1)\n"
     ]
    }
   ],
   "source": [
    "pca=PCA(0.92)\n",
    "selectedFeatures = pca.fit_transform(mydata_train)\n",
    "print (selectedFeatures.shape)"
   ],
   "metadata": {
    "collapsed": false,
    "ExecuteTime": {
     "end_time": "2024-10-29T12:55:50.536698700Z",
     "start_time": "2024-10-29T12:55:50.507217Z"
    }
   },
   "id": "f4b123f9ef30e6e6",
   "execution_count": 42
  },
  {
   "cell_type": "code",
   "outputs": [
    {
     "name": "stdout",
     "output_type": "stream",
     "text": [
      "(2111, 2)\n"
     ]
    }
   ],
   "source": [
    "pca=PCA(0.98)\n",
    "selectedFeatures=pca.fit_transform(mydata_train)\n",
    "print (selectedFeatures.shape)"
   ],
   "metadata": {
    "collapsed": false,
    "ExecuteTime": {
     "end_time": "2024-10-29T12:55:51.225376100Z",
     "start_time": "2024-10-29T12:55:51.199542600Z"
    }
   },
   "id": "12909b653d36d221",
   "execution_count": 43
  },
  {
   "cell_type": "code",
   "outputs": [
    {
     "name": "stdout",
     "output_type": "stream",
     "text": [
      "[0.076 0.076 0.08  0.281 0.054 0.025 0.076 0.056 0.012 0.004 0.044 0.046\n",
      " 0.045 0.046 0.041 0.04 ]\n"
     ]
    }
   ],
   "source": [
    "import pandas as pd\n",
    "from sklearn.ensemble import ExtraTreesClassifier\n",
    "\n",
    "myData['num'] = pd.cut(myData['NObeyesdad'], bins=3, labels=[0, 1, 2])\n",
    "mydata_label = myData['NObeyesdad'].values\n",
    "\n",
    "model = ExtraTreesClassifier()\n",
    "model.fit(mydata_train, mydata_label)\n",
    "print(model.feature_importances_)"
   ],
   "metadata": {
    "collapsed": false,
    "ExecuteTime": {
     "end_time": "2024-10-29T12:55:52.040347800Z",
     "start_time": "2024-10-29T12:55:51.738733200Z"
    }
   },
   "id": "522e63e0ac85fc3b",
   "execution_count": 44
  },
  {
   "cell_type": "code",
   "outputs": [],
   "source": [],
   "metadata": {
    "collapsed": false
   },
   "id": "50f99d5f57132186",
   "execution_count": null
  }
 ],
 "metadata": {
  "kernelspec": {
   "display_name": "Python 3",
   "language": "python",
   "name": "python3"
  },
  "language_info": {
   "codemirror_mode": {
    "name": "ipython",
    "version": 2
   },
   "file_extension": ".py",
   "mimetype": "text/x-python",
   "name": "python",
   "nbconvert_exporter": "python",
   "pygments_lexer": "ipython2",
   "version": "2.7.6"
  }
 },
 "nbformat": 4,
 "nbformat_minor": 5
}
