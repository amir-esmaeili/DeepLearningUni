{
 "cells": [
  {
   "cell_type": "code",
   "execution_count": 1,
   "id": "initial_id",
   "metadata": {
    "collapsed": true,
    "ExecuteTime": {
     "end_time": "2024-10-29T07:18:14.120657200Z",
     "start_time": "2024-10-29T07:18:13.705099100Z"
    }
   },
   "outputs": [
    {
     "name": "stdout",
     "output_type": "stream",
     "text": [
      "(400, 26)\n"
     ]
    }
   ],
   "source": [
    "import numpy as np\n",
    "import pandas as pd\n",
    "myData = pd.read_csv('../data/kidney_disease.csv')\n",
    "print(myData.shape)"
   ]
  },
  {
   "cell_type": "code",
   "outputs": [
    {
     "name": "stdout",
     "output_type": "stream",
     "text": [
      "   id   age     bp     sg   al   su       rbc        pc         pcc  \\\n",
      "0   0  48.0   80.0  1.020  1.0  0.0       NaN    normal  notpresent   \n",
      "1   1   7.0   50.0  1.020  4.0  0.0       NaN    normal  notpresent   \n",
      "2   2  62.0   80.0  1.010  2.0  3.0    normal    normal  notpresent   \n",
      "3   3  48.0   70.0  1.005  4.0  0.0    normal  abnormal     present   \n",
      "4   4  51.0   80.0  1.010  2.0  0.0    normal    normal  notpresent   \n",
      "5   5  60.0   90.0  1.015  3.0  0.0       NaN       NaN  notpresent   \n",
      "6   6  68.0   70.0  1.010  0.0  0.0       NaN    normal  notpresent   \n",
      "7   7  24.0    NaN  1.015  2.0  4.0    normal  abnormal  notpresent   \n",
      "8   8  52.0  100.0  1.015  3.0  0.0    normal  abnormal     present   \n",
      "9   9  53.0   90.0  1.020  2.0  0.0  abnormal  abnormal     present   \n",
      "\n",
      "           ba  ...  pcv     wc   rc  htn   dm  cad appet   pe  ane  \\\n",
      "0  notpresent  ...   44   7800  5.2  yes  yes   no  good   no   no   \n",
      "1  notpresent  ...   38   6000  NaN   no   no   no  good   no   no   \n",
      "2  notpresent  ...   31   7500  NaN   no  yes   no  poor   no  yes   \n",
      "3  notpresent  ...   32   6700  3.9  yes   no   no  poor  yes  yes   \n",
      "4  notpresent  ...   35   7300  4.6   no   no   no  good   no   no   \n",
      "5  notpresent  ...   39   7800  4.4  yes  yes   no  good  yes   no   \n",
      "6  notpresent  ...   36    NaN  NaN   no   no   no  good   no   no   \n",
      "7  notpresent  ...   44   6900    5   no  yes   no  good  yes   no   \n",
      "8  notpresent  ...   33   9600  4.0  yes  yes   no  good   no  yes   \n",
      "9  notpresent  ...   29  12100  3.7  yes  yes   no  poor   no  yes   \n",
      "\n",
      "  classification  \n",
      "0            ckd  \n",
      "1            ckd  \n",
      "2            ckd  \n",
      "3            ckd  \n",
      "4            ckd  \n",
      "5            ckd  \n",
      "6            ckd  \n",
      "7            ckd  \n",
      "8            ckd  \n",
      "9            ckd  \n",
      "\n",
      "[10 rows x 26 columns]\n"
     ]
    }
   ],
   "source": [
    "peek = myData.head(10)\n",
    "print(peek)"
   ],
   "metadata": {
    "collapsed": false,
    "ExecuteTime": {
     "end_time": "2024-10-29T07:18:20.771249600Z",
     "start_time": "2024-10-29T07:18:20.741253Z"
    }
   },
   "id": "2cd8194cbf55de11",
   "execution_count": 2
  },
  {
   "cell_type": "code",
   "outputs": [
    {
     "name": "stdout",
     "output_type": "stream",
     "text": [
      "(400, 26)\n"
     ]
    }
   ],
   "source": [
    "shape = myData.shape\n",
    "print(shape)"
   ],
   "metadata": {
    "collapsed": false,
    "ExecuteTime": {
     "end_time": "2024-10-29T07:18:32.788900500Z",
     "start_time": "2024-10-29T07:18:32.761388300Z"
    }
   },
   "id": "4f62be7ebb6ecfab",
   "execution_count": 3
  },
  {
   "cell_type": "code",
   "outputs": [
    {
     "name": "stdout",
     "output_type": "stream",
     "text": [
      "id                  int64\n",
      "age               float64\n",
      "bp                float64\n",
      "sg                float64\n",
      "al                float64\n",
      "su                float64\n",
      "rbc                object\n",
      "pc                 object\n",
      "pcc                object\n",
      "ba                 object\n",
      "bgr               float64\n",
      "bu                float64\n",
      "sc                float64\n",
      "sod               float64\n",
      "pot               float64\n",
      "hemo              float64\n",
      "pcv                object\n",
      "wc                 object\n",
      "rc                 object\n",
      "htn                object\n",
      "dm                 object\n",
      "cad                object\n",
      "appet              object\n",
      "pe                 object\n",
      "ane                object\n",
      "classification     object\n",
      "dtype: object\n"
     ]
    }
   ],
   "source": [
    "types = myData.dtypes\n",
    "print(types)"
   ],
   "metadata": {
    "collapsed": false,
    "ExecuteTime": {
     "end_time": "2024-10-29T07:18:38.628518100Z",
     "start_time": "2024-10-29T07:18:38.597509700Z"
    }
   },
   "id": "33e6cc5408e2dc79",
   "execution_count": 4
  },
  {
   "cell_type": "code",
   "outputs": [
    {
     "name": "stdout",
     "output_type": "stream",
     "text": [
      "classification\n",
      "ckd       248\n",
      "ckd\\t       2\n",
      "notckd    150\n",
      "dtype: int64\n"
     ]
    }
   ],
   "source": [
    "outcome_counts = myData.groupby('classification').size()\n",
    "print(outcome_counts)"
   ],
   "metadata": {
    "collapsed": false,
    "ExecuteTime": {
     "end_time": "2024-10-29T07:18:57.616264Z",
     "start_time": "2024-10-29T07:18:57.589025500Z"
    }
   },
   "id": "8e2c16f3c26ee936",
   "execution_count": 5
  },
  {
   "cell_type": "code",
   "outputs": [
    {
     "name": "stdout",
     "output_type": "stream",
     "text": [
      "         id    age     bp     sg     al     su    bgr     bu     sc    sod    pot   hemo\n",
      "id    1.000 -0.185 -0.246  0.642 -0.542 -0.283 -0.339 -0.307 -0.269  0.364 -0.092  0.640\n",
      "age  -0.185  1.000  0.159 -0.191  0.122  0.221  0.245  0.197  0.133 -0.100  0.058 -0.193\n",
      "bp   -0.246  0.159  1.000 -0.219  0.161  0.223  0.160  0.189  0.146 -0.116  0.075 -0.307\n",
      "sg    0.642 -0.191 -0.219  1.000 -0.470 -0.296 -0.375 -0.314 -0.361  0.412 -0.073  0.603\n",
      "al   -0.542  0.122  0.161 -0.470  1.000  0.269  0.379  0.454  0.399 -0.460  0.129 -0.635\n",
      "su   -0.283  0.221  0.223 -0.296  0.269  1.000  0.718  0.169  0.223 -0.132  0.219 -0.225\n",
      "bgr  -0.339  0.245  0.160 -0.375  0.379  0.718  1.000  0.143  0.115 -0.268  0.067 -0.306\n",
      "bu   -0.307  0.197  0.189 -0.314  0.454  0.169  0.143  1.000  0.586 -0.323  0.357 -0.610\n",
      "sc   -0.269  0.133  0.146 -0.361  0.399  0.223  0.115  0.586  1.000 -0.690  0.326 -0.402\n",
      "sod   0.364 -0.100 -0.116  0.412 -0.460 -0.132 -0.268 -0.323 -0.690  1.000  0.098  0.365\n",
      "pot  -0.092  0.058  0.075 -0.073  0.129  0.219  0.067  0.357  0.326  0.098  1.000 -0.134\n",
      "hemo  0.640 -0.193 -0.307  0.603 -0.635 -0.225 -0.306 -0.610 -0.402  0.365 -0.134  1.000\n"
     ]
    }
   ],
   "source": [
    "from pandas import set_option\n",
    "\n",
    "set_option('display.width', 100)\n",
    "set_option('precision', 3)\n",
    "correlations = myData.corr(method = 'pearson')\n",
    "print(correlations)"
   ],
   "metadata": {
    "collapsed": false,
    "ExecuteTime": {
     "end_time": "2024-10-29T07:19:09.494586600Z",
     "start_time": "2024-10-29T07:19:09.462875600Z"
    }
   },
   "id": "ba8b1737fe739ed1",
   "execution_count": 6
  },
  {
   "cell_type": "code",
   "outputs": [
    {
     "data": {
      "text/plain": "<AxesSubplot:ylabel='Frequency'>"
     },
     "execution_count": 7,
     "metadata": {},
     "output_type": "execute_result"
    },
    {
     "data": {
      "text/plain": "<Figure size 640x480 with 1 Axes>",
      "image/png": "[encoded data removed]"
     },
     "metadata": {},
     "output_type": "display_data"
    }
   ],
   "source": [
    "import matplotlib.pyplot as plt\n",
    "myData.plot.hist()"
   ],
   "metadata": {
    "collapsed": false,
    "ExecuteTime": {
     "end_time": "2024-10-29T07:19:19.339557100Z",
     "start_time": "2024-10-29T07:19:17.813588800Z"
    }
   },
   "id": "f7d9687e49c4ccbe",
   "execution_count": 7
  },
  {
   "cell_type": "code",
   "outputs": [
    {
     "data": {
      "text/plain": "<Figure size 1200x1200 with 144 Axes>",
      "image/png": "[encoded data removed]"
     },
     "metadata": {},
     "output_type": "display_data"
    }
   ],
   "source": [
    "myData.plot(kind='box', subplots=True, layout=(12,12), sharex=False, sharey=False, figsize = (12,12))\n",
    "plt.show()"
   ],
   "metadata": {
    "collapsed": false,
    "ExecuteTime": {
     "end_time": "2024-10-29T07:21:06.454548700Z",
     "start_time": "2024-10-29T07:21:04.356313700Z"
    }
   },
   "id": "6014ccd1699512b6",
   "execution_count": 14
  },
  {
   "cell_type": "code",
   "outputs": [
    {
     "data": {
      "text/plain": "<Figure size 640x480 with 2 Axes>",
      "image/png": "[encoded data removed]"
     },
     "metadata": {},
     "output_type": "display_data"
    }
   ],
   "source": [
    "correlations = myData.corr()\n",
    "# plot correlation matrix\n",
    "myfig = plt.figure()\n",
    "axis = myfig.add_subplot(111) # There is only one subplot or graph;\n",
    "# \"111\" means \"1x1 grid, first subplot\"\n",
    "cax = axis.matshow(correlations, vmin = -1, vmax = 1)\n",
    "myfig.colorbar(cax)\n",
    "ticks = np.arange(0, 9, 1)"
   ],
   "metadata": {
    "collapsed": false,
    "ExecuteTime": {
     "end_time": "2024-10-29T07:21:12.041360100Z",
     "start_time": "2024-10-29T07:21:11.837366100Z"
    }
   },
   "id": "a6a1e4c5d909c859",
   "execution_count": 15
  },
  {
   "cell_type": "code",
   "outputs": [],
   "source": [
    "from sklearn.preprocessing import LabelEncoder, MinMaxScaler\n",
    "from numpy import set_printoptions\n",
    "\n",
    "label_encoder = LabelEncoder()\n",
    "\n",
    "categorical_columns = ['rbc', 'pc', 'pcc', 'ba', 'pcv', 'wc', 'rc', 'htn', 'dm', 'cad', 'appet', 'pe', 'ane', 'classification']\n",
    "\n",
    "for col in categorical_columns:\n",
    "    myData[col] = label_encoder.fit_transform(myData[col])"
   ],
   "metadata": {
    "collapsed": false,
    "ExecuteTime": {
     "end_time": "2024-10-29T07:41:28.640109700Z",
     "start_time": "2024-10-29T07:41:28.623105500Z"
    }
   },
   "id": "6cc43fdfa9d7105e",
   "execution_count": 54
  },
  {
   "cell_type": "code",
   "outputs": [
    {
     "name": "stdout",
     "output_type": "stream",
     "text": [
      "[[0.101 0.345 0.5   0.25  0.25  0.    0.    1.    0.    0.    0.122 0.652\n",
      "  0.441 0.652 0.02  0.327 0.111 0.766 0.178 0.    0.5   0.    0.    0.\n",
      "  0.   ]\n",
      " [0.104 0.571 0.5   0.25  0.75  0.    0.    0.    0.    0.    0.395 0.246\n",
      "  0.25  0.652 0.052 0.449 0.222 1.    1.    0.5   0.5   0.    0.5   0.5\n",
      "  0.   ]\n",
      " [0.106 0.571 0.5   0.75  0.75  0.    1.    0.    0.    0.    0.397 0.285\n",
      "  0.233 0.565 0.054 0.422 1.    1.    1.    0.5   0.5   0.    0.5   0.5\n",
      "  0.   ]\n",
      " [0.109 0.5   0.333 0.5   0.    0.    1.    0.5   0.    0.    0.218 0.073\n",
      "  0.034 0.826 0.038 0.633 0.472 0.584 0.556 0.    0.5   0.    0.    0.\n",
      "  0.   ]\n",
      " [0.114 0.798 0.333 0.    0.    0.    0.5   0.5   0.    0.    0.103 0.099\n",
      "  0.021 0.457 0.034 0.469 0.25  0.325 0.267 0.5   0.5   0.    0.    0.5\n",
      "  0.   ]]\n"
     ]
    }
   ],
   "source": [
    "X = myData.drop('classification', axis=1).values\n",
    "Y = myData['classification'].values\n",
    "\n",
    "mydataScaler = MinMaxScaler(feature_range=(0, 1))\n",
    "mydataRescaled = mydataScaler.fit_transform(X)\n",
    "\n",
    "set_printoptions(precision=3)\n",
    "print(mydataRescaled[20:25, :])"
   ],
   "metadata": {
    "collapsed": false,
    "ExecuteTime": {
     "end_time": "2024-10-29T07:41:29.177274100Z",
     "start_time": "2024-10-29T07:41:29.145264900Z"
    }
   },
   "id": "22b4d2bb4c25f582",
   "execution_count": 55
  },
  {
   "cell_type": "code",
   "outputs": [
    {
     "name": "stdout",
     "output_type": "stream",
     "text": [
      "[[0.154 0.125 0.286 0.004 0.004 0.    0.    0.007 0.    0.    0.282 0.722\n",
      "  0.039 0.479 0.012 0.028 0.014 0.211 0.029 0.    0.004 0.    0.    0.\n",
      "  0.   ]\n",
      " [0.15  0.184 0.273 0.003 0.01  0.    0.    0.    0.    0.    0.705 0.262\n",
      "  0.021 0.456 0.016 0.033 0.027 0.262 0.153 0.003 0.003 0.    0.003 0.003\n",
      "  0.   ]\n",
      " [0.151 0.181 0.268 0.003 0.01  0.    0.007 0.    0.    0.    0.698 0.299\n",
      "  0.02  0.436 0.016 0.031 0.121 0.258 0.151 0.003 0.003 0.    0.003 0.003\n",
      "  0.   ]\n",
      " [0.209 0.218 0.318 0.005 0.    0.    0.009 0.005 0.    0.    0.563 0.109\n",
      "  0.005 0.644 0.019 0.056 0.077 0.204 0.113 0.    0.005 0.    0.    0.\n",
      "  0.   ]\n",
      " [0.256 0.39  0.374 0.005 0.    0.    0.005 0.005 0.    0.    0.374 0.171\n",
      "  0.005 0.668 0.021 0.053 0.048 0.134 0.064 0.005 0.005 0.    0.    0.005\n",
      "  0.   ]]\n"
     ]
    }
   ],
   "source": [
    "from sklearn.preprocessing import LabelEncoder, Normalizer\n",
    "\n",
    "myData.replace([np.inf, -np.inf], np.nan, inplace=True)\n",
    "myData.dropna(inplace=True)\n",
    "\n",
    "mydata_train = myData.drop('classification', axis=1).values\n",
    "mydata_label = myData['classification'].values\n",
    "\n",
    "mydataScaler = Normalizer().fit(mydata_train)\n",
    "mydataNormalized = mydataScaler.transform(mydata_train)\n",
    "\n",
    "set_printoptions(precision=3)\n",
    "print(mydataNormalized[20:25, :])"
   ],
   "metadata": {
    "collapsed": false,
    "ExecuteTime": {
     "end_time": "2024-10-29T07:41:29.705827500Z",
     "start_time": "2024-10-29T07:41:29.687826600Z"
    }
   },
   "id": "c6dd008a01f68a7a",
   "execution_count": 56
  },
  {
   "cell_type": "code",
   "outputs": [
    {
     "name": "stdout",
     "output_type": "stream",
     "text": [
      "[[1. 1. 1. 1. 1. 0. 1. 0. 1. 0. 1. 1. 1. 1. 1. 1. 1. 1. 1. 1. 0. 0. 1. 1.\n",
      "  1.]\n",
      " [1. 1. 1. 1. 1. 0. 1. 1. 0. 0. 1. 1. 1. 1. 1. 1. 1. 1. 1. 1. 1. 0. 0. 1.\n",
      "  0.]\n",
      " [1. 1. 1. 1. 0. 0. 1. 1. 0. 0. 1. 1. 1. 1. 1. 1. 1. 1. 1. 0. 0. 0. 0. 0.\n",
      "  0.]\n",
      " [1. 1. 1. 1. 1. 0. 0. 0. 1. 0. 1. 1. 1. 1. 1. 1. 1. 1. 1. 1. 1. 0. 1. 0.\n",
      "  1.]\n",
      " [1. 1. 1. 1. 1. 0. 0. 0. 1. 0. 1. 1. 1. 1. 1. 1. 1. 1. 1. 1. 1. 0. 1. 1.\n",
      "  0.]]\n"
     ]
    }
   ],
   "source": [
    "from sklearn.preprocessing import Binarizer\n",
    "\n",
    "mydataBinarizer = Binarizer(threshold=0.0).fit(mydata_train)\n",
    "mydatabinarized = mydataBinarizer.transform(mydata_train)\n",
    "set_printoptions(precision = 3)\n",
    "print(mydatabinarized[0:5,:])"
   ],
   "metadata": {
    "collapsed": false,
    "ExecuteTime": {
     "end_time": "2024-10-29T07:41:30.306169800Z",
     "start_time": "2024-10-29T07:41:30.276123700Z"
    }
   },
   "id": "80bd15681e881edc",
   "execution_count": 57
  },
  {
   "cell_type": "code",
   "outputs": [
    {
     "name": "stdout",
     "output_type": "stream",
     "text": [
      "[644.196  28.976  34.458 299.005 260.738  52.745   4.006  52.457  17.599\n",
      "   7.319  70.054  85.887  92.146  89.56    1.523 424.34  224.833   0.918\n",
      "  51.033 189.544 141.241  13.386  54.382  49.36   29.983]\n"
     ]
    }
   ],
   "source": [
    "from sklearn.feature_selection import SelectKBest, f_regression\n",
    "\n",
    "myData.replace([np.inf, -np.inf], np.nan, inplace=True)\n",
    "myData.dropna(inplace=True)\n",
    "\n",
    "min_value = myData.drop('classification', axis=1).min().min()\n",
    "if min_value < 0:\n",
    "    myData += abs(min_value)\n",
    "\n",
    "mydata_train = myData.drop('classification', axis=1).values\n",
    "mydata_label = myData['classification'].values\n",
    "\n",
    "myFeature = SelectKBest(score_func=f_regression, k=4)\n",
    "fit = myFeature.fit(mydata_train, mydata_label)\n",
    "\n",
    "set_printoptions(precision=3)\n",
    "print(fit.scores_)"
   ],
   "metadata": {
    "collapsed": false,
    "ExecuteTime": {
     "end_time": "2024-10-29T07:41:46.767110200Z",
     "start_time": "2024-10-29T07:41:46.737034700Z"
    }
   },
   "id": "577b3ee0e415bb6a",
   "execution_count": 61
  },
  {
   "cell_type": "code",
   "outputs": [
    {
     "name": "stdout",
     "output_type": "stream",
     "text": [
      "Number of features selected: 4\n",
      "Selected features are denoted by True: [False False False  True False False  True False False False False False\n",
      " False False False False False False False  True False False  True False\n",
      " False]\n",
      "Feature Ranking: [17 18 16  1  3 11  1  9  8  5 21 20 22 15 12  7 13 19 14  1  4 10  1  2\n",
      "  6]\n"
     ]
    }
   ],
   "source": [
    "from sklearn.feature_selection import RFE\n",
    "from sklearn.linear_model import LinearRegression\n",
    "\n",
    "model = LinearRegression()\n",
    "mydataRFE = RFE(model, n_features_to_select=4)\n",
    "mydataFit = mydataRFE.fit(mydata_train, mydata_label)\n",
    "\n",
    "print(\"Number of features selected: %d\" % mydataFit.n_features_)\n",
    "print(\"Selected features are denoted by True: %s\" % mydataFit.support_)\n",
    "print(\"Feature Ranking: %s\" % mydataFit.ranking_)"
   ],
   "metadata": {
    "collapsed": false,
    "ExecuteTime": {
     "end_time": "2024-10-29T07:41:47.515639700Z",
     "start_time": "2024-10-29T07:41:47.483642800Z"
    }
   },
   "id": "25561e721b057b3e",
   "execution_count": 62
  },
  {
   "cell_type": "code",
   "outputs": [
    {
     "name": "stdout",
     "output_type": "stream",
     "text": [
      "Explained Variance: [0.67  0.211 0.072]\n",
      "[[-9.290e-01  4.054e-02  2.972e-02 -3.182e-05  7.098e-03  3.300e-03\n",
      "   5.575e-04 -1.393e-03  7.399e-04  3.108e-04  3.177e-01  1.686e-01\n",
      "   1.294e-02 -2.906e-02  2.202e-03 -1.669e-02 -4.744e-02 -2.747e-03\n",
      "  -3.858e-02  2.612e-03  2.379e-03  7.175e-04  1.375e-03  1.203e-03\n",
      "   8.183e-04]\n",
      " [ 3.303e-01  4.050e-02  7.443e-03 -5.352e-06  2.921e-03  9.153e-03\n",
      "  -9.761e-04 -8.060e-04  3.235e-04  2.196e-04  9.423e-01  3.177e-02\n",
      "  -1.724e-03 -3.939e-03  1.309e-03  2.409e-04  7.532e-04  8.826e-03\n",
      "  -4.523e-03  1.227e-03  1.762e-03  1.092e-03  2.001e-04  1.568e-07\n",
      "  -1.548e-04]\n",
      " [ 1.573e-01  1.015e-02  4.121e-02 -2.272e-05  1.144e-02 -4.604e-04\n",
      "  -4.520e-03 -3.244e-03  1.049e-03  4.824e-04 -8.868e-02  9.714e-01\n",
      "   4.862e-02 -3.945e-02  1.426e-02 -2.567e-02 -4.907e-02 -5.925e-02\n",
      "  -1.052e-01  1.758e-03  1.246e-03  4.211e-04  1.946e-03  2.950e-03\n",
      "   3.645e-03]]\n"
     ]
    }
   ],
   "source": [
    "from sklearn.decomposition import PCA\n",
    "\n",
    "pca = PCA(n_components = 3)\n",
    "fit = pca.fit(mydata_train)\n",
    "print(\"Explained Variance: %s\" % fit.explained_variance_ratio_)\n",
    "print(fit.components_)"
   ],
   "metadata": {
    "collapsed": false,
    "ExecuteTime": {
     "end_time": "2024-10-29T07:41:48.400905500Z",
     "start_time": "2024-10-29T07:41:48.391906800Z"
    }
   },
   "id": "73ef338d68c4d3eb",
   "execution_count": 63
  },
  {
   "cell_type": "code",
   "outputs": [
    {
     "name": "stdout",
     "output_type": "stream",
     "text": [
      "(228, 3)\n"
     ]
    }
   ],
   "source": [
    "pca=PCA(0.92)\n",
    "selectedFeatures = pca.fit_transform(mydata_train)\n",
    "print (selectedFeatures.shape)"
   ],
   "metadata": {
    "collapsed": false,
    "ExecuteTime": {
     "end_time": "2024-10-29T07:41:49.147915100Z",
     "start_time": "2024-10-29T07:41:49.128915900Z"
    }
   },
   "id": "cd758952455d90c7",
   "execution_count": 64
  },
  {
   "cell_type": "code",
   "outputs": [
    {
     "name": "stdout",
     "output_type": "stream",
     "text": [
      "(228, 5)\n"
     ]
    }
   ],
   "source": [
    "pca=PCA(0.98)\n",
    "selectedFeatures=pca.fit_transform(mydata_train)\n",
    "print (selectedFeatures.shape)"
   ],
   "metadata": {
    "collapsed": false,
    "ExecuteTime": {
     "end_time": "2024-10-29T07:41:49.627698700Z",
     "start_time": "2024-10-29T07:41:49.621678Z"
    }
   },
   "id": "8d4d6aa79dc6623a",
   "execution_count": 65
  },
  {
   "cell_type": "code",
   "outputs": [
    {
     "name": "stdout",
     "output_type": "stream",
     "text": [
      "[0.169 0.003 0.019 0.092 0.13  0.03  0.052 0.02  0.003 0.001 0.022 0.018\n",
      " 0.042 0.015 0.002 0.103 0.05  0.002 0.022 0.111 0.069 0.004 0.008 0.012\n",
      " 0.004]\n"
     ]
    }
   ],
   "source": [
    "import pandas as pd\n",
    "from sklearn.ensemble import ExtraTreesClassifier\n",
    "\n",
    "\n",
    "myData['num'] = pd.cut(myData['classification'], bins=3, labels=[0, 1, 2])\n",
    "mydata_label = myData['classification'].values\n",
    "\n",
    "model = ExtraTreesClassifier()\n",
    "model.fit(mydata_train, mydata_label)\n",
    "print(model.feature_importances_)"
   ],
   "metadata": {
    "collapsed": false,
    "ExecuteTime": {
     "end_time": "2024-10-29T07:42:14.238731300Z",
     "start_time": "2024-10-29T07:42:14.154733600Z"
    }
   },
   "id": "ec6cbb5672a19fc3",
   "execution_count": 68
  },
  {
   "cell_type": "code",
   "outputs": [],
   "source": [],
   "metadata": {
    "collapsed": false
   },
   "id": "8f91e8ff164a4c34"
  }
 ],
 "metadata": {
  "kernelspec": {
   "display_name": "Python 3",
   "language": "python",
   "name": "python3"
  },
  "language_info": {
   "codemirror_mode": {
    "name": "ipython",
    "version": 2
   },
   "file_extension": ".py",
   "mimetype": "text/x-python",
   "name": "python",
   "nbconvert_exporter": "python",
   "pygments_lexer": "ipython2",
   "version": "2.7.6"
  }
 },
 "nbformat": 4,
 "nbformat_minor": 5
}
