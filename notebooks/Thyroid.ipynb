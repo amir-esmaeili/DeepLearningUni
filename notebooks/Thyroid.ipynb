{
 "cells": [
  {
   "cell_type": "code",
   "execution_count": 2,
   "id": "initial_id",
   "metadata": {
    "collapsed": true,
    "ExecuteTime": {
     "end_time": "2024-10-29T08:07:57.825700700Z",
     "start_time": "2024-10-29T08:07:57.791587900Z"
    }
   },
   "outputs": [
    {
     "name": "stdout",
     "output_type": "stream",
     "text": [
      "(383, 17)\n"
     ]
    }
   ],
   "source": [
    "import numpy as np\n",
    "import pandas as pd\n",
    "myData = pd.read_csv('../data/Thyroid_Diff.csv')\n",
    "print(myData.shape)"
   ]
  },
  {
   "cell_type": "code",
   "outputs": [
    {
     "name": "stdout",
     "output_type": "stream",
     "text": [
      "   Age Gender Smoking Hx Smoking Hx Radiothreapy          Thyroid Function  \\\n",
      "0   27      F      No         No              No                 Euthyroid   \n",
      "1   34      F      No        Yes              No                 Euthyroid   \n",
      "2   30      F      No         No              No                 Euthyroid   \n",
      "3   62      F      No         No              No                 Euthyroid   \n",
      "4   62      F      No         No              No                 Euthyroid   \n",
      "5   52      M     Yes         No              No                 Euthyroid   \n",
      "6   41      F      No        Yes              No  Clinical Hyperthyroidism   \n",
      "7   46      F      No         No              No                 Euthyroid   \n",
      "8   51      F      No         No              No                 Euthyroid   \n",
      "9   40      F      No         No              No                 Euthyroid   \n",
      "\n",
      "          Physical Examination Adenopathy       Pathology     Focality Risk  \\\n",
      "0   Single nodular goiter-left         No  Micropapillary    Uni-Focal  Low   \n",
      "1          Multinodular goiter         No  Micropapillary    Uni-Focal  Low   \n",
      "2  Single nodular goiter-right         No  Micropapillary    Uni-Focal  Low   \n",
      "3  Single nodular goiter-right         No  Micropapillary    Uni-Focal  Low   \n",
      "4          Multinodular goiter         No  Micropapillary  Multi-Focal  Low   \n",
      "5          Multinodular goiter         No  Micropapillary  Multi-Focal  Low   \n",
      "6  Single nodular goiter-right         No  Micropapillary    Uni-Focal  Low   \n",
      "7  Single nodular goiter-right         No  Micropapillary    Uni-Focal  Low   \n",
      "8  Single nodular goiter-right         No  Micropapillary    Uni-Focal  Low   \n",
      "9  Single nodular goiter-right         No  Micropapillary    Uni-Focal  Low   \n",
      "\n",
      "     T   N   M Stage       Response Recurred  \n",
      "0  T1a  N0  M0     I  Indeterminate       No  \n",
      "1  T1a  N0  M0     I      Excellent       No  \n",
      "2  T1a  N0  M0     I      Excellent       No  \n",
      "3  T1a  N0  M0     I      Excellent       No  \n",
      "4  T1a  N0  M0     I      Excellent       No  \n",
      "5  T1a  N0  M0     I  Indeterminate       No  \n",
      "6  T1a  N0  M0     I      Excellent       No  \n",
      "7  T1a  N0  M0     I      Excellent       No  \n",
      "8  T1a  N0  M0     I      Excellent       No  \n",
      "9  T1a  N0  M0     I      Excellent       No  \n"
     ]
    }
   ],
   "source": [
    "peek = myData.head(10)\n",
    "print(peek)"
   ],
   "metadata": {
    "collapsed": false,
    "ExecuteTime": {
     "end_time": "2024-10-29T08:07:58.691669700Z",
     "start_time": "2024-10-29T08:07:58.660664600Z"
    }
   },
   "id": "f9e165253c8f0c5f",
   "execution_count": 3
  },
  {
   "cell_type": "code",
   "outputs": [
    {
     "name": "stdout",
     "output_type": "stream",
     "text": [
      "(383, 17)\n"
     ]
    }
   ],
   "source": [
    "shape = myData.shape\n",
    "print(shape)"
   ],
   "metadata": {
    "collapsed": false,
    "ExecuteTime": {
     "end_time": "2024-10-29T08:08:02.256261Z",
     "start_time": "2024-10-29T08:08:02.251253400Z"
    }
   },
   "id": "3c4da3a492eb3c79",
   "execution_count": 4
  },
  {
   "cell_type": "code",
   "outputs": [
    {
     "name": "stdout",
     "output_type": "stream",
     "text": [
      "Age                      int64\n",
      "Gender                  object\n",
      "Smoking                 object\n",
      "Hx Smoking              object\n",
      "Hx Radiothreapy         object\n",
      "Thyroid Function        object\n",
      "Physical Examination    object\n",
      "Adenopathy              object\n",
      "Pathology               object\n",
      "Focality                object\n",
      "Risk                    object\n",
      "T                       object\n",
      "N                       object\n",
      "M                       object\n",
      "Stage                   object\n",
      "Response                object\n",
      "Recurred                object\n",
      "dtype: object\n"
     ]
    }
   ],
   "source": [
    "types = myData.dtypes\n",
    "print(types)"
   ],
   "metadata": {
    "collapsed": false,
    "ExecuteTime": {
     "end_time": "2024-10-29T08:08:02.973773500Z",
     "start_time": "2024-10-29T08:08:02.955564100Z"
    }
   },
   "id": "f2355301eef161ef",
   "execution_count": 5
  },
  {
   "cell_type": "code",
   "outputs": [
    {
     "name": "stdout",
     "output_type": "stream",
     "text": [
      "Recurred\n",
      "No     275\n",
      "Yes    108\n",
      "dtype: int64\n"
     ]
    }
   ],
   "source": [
    "outcome_counts = myData.groupby('Recurred').size()\n",
    "print(outcome_counts)"
   ],
   "metadata": {
    "collapsed": false,
    "ExecuteTime": {
     "end_time": "2024-10-29T08:08:20.375728400Z",
     "start_time": "2024-10-29T08:08:20.350839100Z"
    }
   },
   "id": "c37eb3e2836bd018",
   "execution_count": 7
  },
  {
   "cell_type": "code",
   "outputs": [],
   "source": [
    "from sklearn.preprocessing import LabelEncoder, MinMaxScaler\n",
    "from numpy import set_printoptions\n",
    "\n",
    "label_encoder = LabelEncoder()\n",
    "\n",
    "categorical_columns = ['Gender','Smoking','Hx Smoking','Hx Radiothreapy','Thyroid Function','Physical Examination','Adenopathy','Pathology','Focality','Risk','T','N','M','Stage','Response','Recurred']\n",
    "\n",
    "for col in categorical_columns:\n",
    "    myData[col] = label_encoder.fit_transform(myData[col])"
   ],
   "metadata": {
    "collapsed": false,
    "ExecuteTime": {
     "end_time": "2024-10-29T08:10:24.004123800Z",
     "start_time": "2024-10-29T08:10:23.446751900Z"
    }
   },
   "id": "ff07de6eae8ff0c7",
   "execution_count": 9
  },
  {
   "cell_type": "code",
   "outputs": [
    {
     "name": "stdout",
     "output_type": "stream",
     "text": [
      "                        Age  Gender  Smoking  Hx Smoking  Hx Radiothreapy  Thyroid Function  \\\n",
      "Age                   1.000   0.186    0.310       0.135            0.177             0.036   \n",
      "Gender                0.186   1.000    0.622       0.176            0.236             0.038   \n",
      "Smoking               0.310   0.622    1.000       0.253            0.298             0.018   \n",
      "Hx Smoking            0.135   0.176    0.253       1.000            0.261             0.022   \n",
      "Hx Radiothreapy       0.177   0.236    0.298       0.261            1.000            -0.113   \n",
      "Thyroid Function      0.036   0.038    0.018       0.022           -0.113             1.000   \n",
      "Physical Examination -0.093  -0.079   -0.067      -0.028           -0.013             0.097   \n",
      "Adenopathy           -0.102  -0.216   -0.156      -0.050           -0.058            -0.044   \n",
      "Pathology            -0.160  -0.024   -0.202      -0.095           -0.106             0.095   \n",
      "Focality             -0.224  -0.208   -0.238      -0.001           -0.102            -0.067   \n",
      "Risk                 -0.296  -0.295   -0.374      -0.138           -0.272            -0.072   \n",
      "T                     0.243   0.272    0.378       0.151            0.226             0.068   \n",
      "N                     0.061   0.239    0.204       0.044            0.096             0.093   \n",
      "M                     0.235   0.212    0.321       0.127            0.430             0.017   \n",
      "Stage                 0.527   0.250    0.426       0.262            0.462             0.046   \n",
      "Response              0.181   0.273    0.263       0.043            0.106             0.045   \n",
      "Recurred              0.259   0.328    0.333       0.136            0.174             0.068   \n",
      "\n",
      "                      Physical Examination  Adenopathy  Pathology  Focality   Risk      T      N  \\\n",
      "Age                                 -0.093      -0.102     -0.160    -0.224 -0.296  0.243  0.061   \n",
      "Gender                              -0.079      -0.216     -0.024    -0.208 -0.295  0.272  0.239   \n",
      "Smoking                             -0.067      -0.156     -0.202    -0.238 -0.374  0.378  0.204   \n",
      "Hx Smoking                          -0.028      -0.050     -0.095    -0.001 -0.138  0.151  0.044   \n",
      "Hx Radiothreapy                     -0.013      -0.058     -0.106    -0.102 -0.272  0.226  0.096   \n",
      "Thyroid Function                     0.097      -0.044      0.095    -0.067 -0.072  0.068  0.093   \n",
      "Physical Examination                 1.000       0.249      0.001     0.305  0.187 -0.140 -0.142   \n",
      "Adenopathy                           0.249       1.000     -0.015     0.176  0.182 -0.208 -0.154   \n",
      "Pathology                            0.001      -0.015      1.000     0.030  0.020  0.008  0.241   \n",
      "Focality                             0.305       0.176      0.030     1.000  0.451 -0.455 -0.377   \n",
      "Risk                                 0.187       0.182      0.020     0.451  1.000 -0.680 -0.697   \n",
      "T                                   -0.140      -0.208      0.008    -0.455 -0.680  1.000  0.459   \n",
      "N                                   -0.142      -0.154      0.241    -0.377 -0.697  0.459  1.000   \n",
      "M                                   -0.010      -0.080     -0.096    -0.222 -0.503  0.388  0.219   \n",
      "Stage                               -0.106      -0.150     -0.111    -0.332 -0.619  0.538  0.274   \n",
      "Response                            -0.130      -0.191     -0.020    -0.357 -0.606  0.460  0.584   \n",
      "Recurred                            -0.132      -0.183      0.003    -0.384 -0.733  0.556  0.632   \n",
      "\n",
      "                          M  Stage  Response  Recurred  \n",
      "Age                   0.235  0.527     0.181     0.259  \n",
      "Gender                0.212  0.250     0.273     0.328  \n",
      "Smoking               0.321  0.426     0.263     0.333  \n",
      "Hx Smoking            0.127  0.262     0.043     0.136  \n",
      "Hx Radiothreapy       0.430  0.462     0.106     0.174  \n",
      "Thyroid Function      0.017  0.046     0.045     0.068  \n",
      "Physical Examination -0.010 -0.106    -0.130    -0.132  \n",
      "Adenopathy           -0.080 -0.150    -0.191    -0.183  \n",
      "Pathology            -0.096 -0.111    -0.020     0.003  \n",
      "Focality             -0.222 -0.332    -0.357    -0.384  \n",
      "Risk                 -0.503 -0.619    -0.606    -0.733  \n",
      "T                     0.388  0.538     0.460     0.556  \n",
      "N                     0.219  0.274     0.584     0.632  \n",
      "M                     1.000  0.681     0.305     0.354  \n",
      "Stage                 0.681  1.000     0.338     0.449  \n",
      "Response              0.305  0.338     1.000     0.709  \n",
      "Recurred              0.354  0.449     0.709     1.000  \n"
     ]
    }
   ],
   "source": [
    "from pandas import set_option\n",
    "\n",
    "set_option('display.width', 100)\n",
    "set_option('precision', 3)\n",
    "correlations = myData.corr(method = 'pearson')\n",
    "print(correlations)"
   ],
   "metadata": {
    "collapsed": false,
    "ExecuteTime": {
     "end_time": "2024-10-29T08:10:24.940896900Z",
     "start_time": "2024-10-29T08:10:24.916896600Z"
    }
   },
   "id": "1a2de44d2b9cecaf",
   "execution_count": 10
  },
  {
   "cell_type": "code",
   "outputs": [
    {
     "data": {
      "text/plain": "<AxesSubplot:ylabel='Frequency'>"
     },
     "execution_count": 11,
     "metadata": {},
     "output_type": "execute_result"
    },
    {
     "data": {
      "text/plain": "<Figure size 640x480 with 1 Axes>",
      "image/png": "[encoded data removed]"
     },
     "metadata": {},
     "output_type": "display_data"
    }
   ],
   "source": [
    "import matplotlib.pyplot as plt\n",
    "myData.plot.hist()"
   ],
   "metadata": {
    "collapsed": false,
    "ExecuteTime": {
     "end_time": "2024-10-29T08:10:34.506861700Z",
     "start_time": "2024-10-29T08:10:33.412457Z"
    }
   },
   "id": "8e41194f39bdcb37",
   "execution_count": 11
  },
  {
   "cell_type": "code",
   "outputs": [
    {
     "ename": "ValueError",
     "evalue": "Layout of 3x3 must be larger than required size 17",
     "output_type": "error",
     "traceback": [
      "\u001B[1;31m---------------------------------------------------------------------------\u001B[0m",
      "\u001B[1;31mValueError\u001B[0m                                Traceback (most recent call last)",
      "\u001B[1;32m~\\AppData\\Local\\Temp\\ipykernel_40592\\909650294.py\u001B[0m in \u001B[0;36m<module>\u001B[1;34m\u001B[0m\n\u001B[1;32m----> 1\u001B[1;33m \u001B[0mmyData\u001B[0m\u001B[1;33m.\u001B[0m\u001B[0mplot\u001B[0m\u001B[1;33m(\u001B[0m\u001B[0mkind\u001B[0m\u001B[1;33m=\u001B[0m\u001B[1;34m'box'\u001B[0m\u001B[1;33m,\u001B[0m \u001B[0msubplots\u001B[0m\u001B[1;33m=\u001B[0m\u001B[1;32mTrue\u001B[0m\u001B[1;33m,\u001B[0m \u001B[0mlayout\u001B[0m\u001B[1;33m=\u001B[0m\u001B[1;33m(\u001B[0m\u001B[1;36m3\u001B[0m\u001B[1;33m,\u001B[0m\u001B[1;36m3\u001B[0m\u001B[1;33m)\u001B[0m\u001B[1;33m,\u001B[0m \u001B[0msharex\u001B[0m\u001B[1;33m=\u001B[0m\u001B[1;32mFalse\u001B[0m\u001B[1;33m,\u001B[0m \u001B[0msharey\u001B[0m\u001B[1;33m=\u001B[0m\u001B[1;32mFalse\u001B[0m\u001B[1;33m,\u001B[0m \u001B[0mfigsize\u001B[0m \u001B[1;33m=\u001B[0m \u001B[1;33m(\u001B[0m\u001B[1;36m10\u001B[0m\u001B[1;33m,\u001B[0m\u001B[1;36m10\u001B[0m\u001B[1;33m)\u001B[0m\u001B[1;33m)\u001B[0m\u001B[1;33m\u001B[0m\u001B[1;33m\u001B[0m\u001B[0m\n\u001B[0m\u001B[0;32m      2\u001B[0m \u001B[0mplt\u001B[0m\u001B[1;33m.\u001B[0m\u001B[0mshow\u001B[0m\u001B[1;33m(\u001B[0m\u001B[1;33m)\u001B[0m\u001B[1;33m\u001B[0m\u001B[1;33m\u001B[0m\u001B[0m\n",
      "\u001B[1;32m~\\Documents\\Uni\\DeepLearninProject\\.venv\\lib\\site-packages\\pandas\\plotting\\_core.py\u001B[0m in \u001B[0;36m__call__\u001B[1;34m(self, *args, **kwargs)\u001B[0m\n\u001B[0;32m    970\u001B[0m                     \u001B[0mdata\u001B[0m\u001B[1;33m.\u001B[0m\u001B[0mcolumns\u001B[0m \u001B[1;33m=\u001B[0m \u001B[0mlabel_name\u001B[0m\u001B[1;33m\u001B[0m\u001B[1;33m\u001B[0m\u001B[0m\n\u001B[0;32m    971\u001B[0m \u001B[1;33m\u001B[0m\u001B[0m\n\u001B[1;32m--> 972\u001B[1;33m         \u001B[1;32mreturn\u001B[0m \u001B[0mplot_backend\u001B[0m\u001B[1;33m.\u001B[0m\u001B[0mplot\u001B[0m\u001B[1;33m(\u001B[0m\u001B[0mdata\u001B[0m\u001B[1;33m,\u001B[0m \u001B[0mkind\u001B[0m\u001B[1;33m=\u001B[0m\u001B[0mkind\u001B[0m\u001B[1;33m,\u001B[0m \u001B[1;33m**\u001B[0m\u001B[0mkwargs\u001B[0m\u001B[1;33m)\u001B[0m\u001B[1;33m\u001B[0m\u001B[1;33m\u001B[0m\u001B[0m\n\u001B[0m\u001B[0;32m    973\u001B[0m \u001B[1;33m\u001B[0m\u001B[0m\n\u001B[0;32m    974\u001B[0m     \u001B[0m__call__\u001B[0m\u001B[1;33m.\u001B[0m\u001B[0m__doc__\u001B[0m \u001B[1;33m=\u001B[0m \u001B[0m__doc__\u001B[0m\u001B[1;33m\u001B[0m\u001B[1;33m\u001B[0m\u001B[0m\n",
      "\u001B[1;32m~\\Documents\\Uni\\DeepLearninProject\\.venv\\lib\\site-packages\\pandas\\plotting\\_matplotlib\\__init__.py\u001B[0m in \u001B[0;36mplot\u001B[1;34m(data, kind, **kwargs)\u001B[0m\n\u001B[0;32m     69\u001B[0m             \u001B[0mkwargs\u001B[0m\u001B[1;33m[\u001B[0m\u001B[1;34m\"ax\"\u001B[0m\u001B[1;33m]\u001B[0m \u001B[1;33m=\u001B[0m \u001B[0mgetattr\u001B[0m\u001B[1;33m(\u001B[0m\u001B[0max\u001B[0m\u001B[1;33m,\u001B[0m \u001B[1;34m\"left_ax\"\u001B[0m\u001B[1;33m,\u001B[0m \u001B[0max\u001B[0m\u001B[1;33m)\u001B[0m\u001B[1;33m\u001B[0m\u001B[1;33m\u001B[0m\u001B[0m\n\u001B[0;32m     70\u001B[0m     \u001B[0mplot_obj\u001B[0m \u001B[1;33m=\u001B[0m \u001B[0mPLOT_CLASSES\u001B[0m\u001B[1;33m[\u001B[0m\u001B[0mkind\u001B[0m\u001B[1;33m]\u001B[0m\u001B[1;33m(\u001B[0m\u001B[0mdata\u001B[0m\u001B[1;33m,\u001B[0m \u001B[1;33m**\u001B[0m\u001B[0mkwargs\u001B[0m\u001B[1;33m)\u001B[0m\u001B[1;33m\u001B[0m\u001B[1;33m\u001B[0m\u001B[0m\n\u001B[1;32m---> 71\u001B[1;33m     \u001B[0mplot_obj\u001B[0m\u001B[1;33m.\u001B[0m\u001B[0mgenerate\u001B[0m\u001B[1;33m(\u001B[0m\u001B[1;33m)\u001B[0m\u001B[1;33m\u001B[0m\u001B[1;33m\u001B[0m\u001B[0m\n\u001B[0m\u001B[0;32m     72\u001B[0m     \u001B[0mplot_obj\u001B[0m\u001B[1;33m.\u001B[0m\u001B[0mdraw\u001B[0m\u001B[1;33m(\u001B[0m\u001B[1;33m)\u001B[0m\u001B[1;33m\u001B[0m\u001B[1;33m\u001B[0m\u001B[0m\n\u001B[0;32m     73\u001B[0m     \u001B[1;32mreturn\u001B[0m \u001B[0mplot_obj\u001B[0m\u001B[1;33m.\u001B[0m\u001B[0mresult\u001B[0m\u001B[1;33m\u001B[0m\u001B[1;33m\u001B[0m\u001B[0m\n",
      "\u001B[1;32m~\\Documents\\Uni\\DeepLearninProject\\.venv\\lib\\site-packages\\pandas\\plotting\\_matplotlib\\core.py\u001B[0m in \u001B[0;36mgenerate\u001B[1;34m(self)\u001B[0m\n\u001B[0;32m    285\u001B[0m         \u001B[0mself\u001B[0m\u001B[1;33m.\u001B[0m\u001B[0m_args_adjust\u001B[0m\u001B[1;33m(\u001B[0m\u001B[1;33m)\u001B[0m\u001B[1;33m\u001B[0m\u001B[1;33m\u001B[0m\u001B[0m\n\u001B[0;32m    286\u001B[0m         \u001B[0mself\u001B[0m\u001B[1;33m.\u001B[0m\u001B[0m_compute_plot_data\u001B[0m\u001B[1;33m(\u001B[0m\u001B[1;33m)\u001B[0m\u001B[1;33m\u001B[0m\u001B[1;33m\u001B[0m\u001B[0m\n\u001B[1;32m--> 287\u001B[1;33m         \u001B[0mself\u001B[0m\u001B[1;33m.\u001B[0m\u001B[0m_setup_subplots\u001B[0m\u001B[1;33m(\u001B[0m\u001B[1;33m)\u001B[0m\u001B[1;33m\u001B[0m\u001B[1;33m\u001B[0m\u001B[0m\n\u001B[0m\u001B[0;32m    288\u001B[0m         \u001B[0mself\u001B[0m\u001B[1;33m.\u001B[0m\u001B[0m_make_plot\u001B[0m\u001B[1;33m(\u001B[0m\u001B[1;33m)\u001B[0m\u001B[1;33m\u001B[0m\u001B[1;33m\u001B[0m\u001B[0m\n\u001B[0;32m    289\u001B[0m         \u001B[0mself\u001B[0m\u001B[1;33m.\u001B[0m\u001B[0m_add_table\u001B[0m\u001B[1;33m(\u001B[0m\u001B[1;33m)\u001B[0m\u001B[1;33m\u001B[0m\u001B[1;33m\u001B[0m\u001B[0m\n",
      "\u001B[1;32m~\\Documents\\Uni\\DeepLearninProject\\.venv\\lib\\site-packages\\pandas\\plotting\\_matplotlib\\core.py\u001B[0m in \u001B[0;36m_setup_subplots\u001B[1;34m(self)\u001B[0m\n\u001B[0;32m    339\u001B[0m                 \u001B[0max\u001B[0m\u001B[1;33m=\u001B[0m\u001B[0mself\u001B[0m\u001B[1;33m.\u001B[0m\u001B[0max\u001B[0m\u001B[1;33m,\u001B[0m\u001B[1;33m\u001B[0m\u001B[1;33m\u001B[0m\u001B[0m\n\u001B[0;32m    340\u001B[0m                 \u001B[0mlayout\u001B[0m\u001B[1;33m=\u001B[0m\u001B[0mself\u001B[0m\u001B[1;33m.\u001B[0m\u001B[0mlayout\u001B[0m\u001B[1;33m,\u001B[0m\u001B[1;33m\u001B[0m\u001B[1;33m\u001B[0m\u001B[0m\n\u001B[1;32m--> 341\u001B[1;33m                 \u001B[0mlayout_type\u001B[0m\u001B[1;33m=\u001B[0m\u001B[0mself\u001B[0m\u001B[1;33m.\u001B[0m\u001B[0m_layout_type\u001B[0m\u001B[1;33m,\u001B[0m\u001B[1;33m\u001B[0m\u001B[1;33m\u001B[0m\u001B[0m\n\u001B[0m\u001B[0;32m    342\u001B[0m             )\n\u001B[0;32m    343\u001B[0m         \u001B[1;32melse\u001B[0m\u001B[1;33m:\u001B[0m\u001B[1;33m\u001B[0m\u001B[1;33m\u001B[0m\u001B[0m\n",
      "\u001B[1;32m~\\Documents\\Uni\\DeepLearninProject\\.venv\\lib\\site-packages\\pandas\\plotting\\_matplotlib\\tools.py\u001B[0m in \u001B[0;36mcreate_subplots\u001B[1;34m(naxes, sharex, sharey, squeeze, subplot_kw, ax, layout, layout_type, **fig_kw)\u001B[0m\n\u001B[0;32m    257\u001B[0m             \u001B[0mfig\u001B[0m\u001B[1;33m.\u001B[0m\u001B[0mclear\u001B[0m\u001B[1;33m(\u001B[0m\u001B[1;33m)\u001B[0m\u001B[1;33m\u001B[0m\u001B[1;33m\u001B[0m\u001B[0m\n\u001B[0;32m    258\u001B[0m \u001B[1;33m\u001B[0m\u001B[0m\n\u001B[1;32m--> 259\u001B[1;33m     \u001B[0mnrows\u001B[0m\u001B[1;33m,\u001B[0m \u001B[0mncols\u001B[0m \u001B[1;33m=\u001B[0m \u001B[0m_get_layout\u001B[0m\u001B[1;33m(\u001B[0m\u001B[0mnaxes\u001B[0m\u001B[1;33m,\u001B[0m \u001B[0mlayout\u001B[0m\u001B[1;33m=\u001B[0m\u001B[0mlayout\u001B[0m\u001B[1;33m,\u001B[0m \u001B[0mlayout_type\u001B[0m\u001B[1;33m=\u001B[0m\u001B[0mlayout_type\u001B[0m\u001B[1;33m)\u001B[0m\u001B[1;33m\u001B[0m\u001B[1;33m\u001B[0m\u001B[0m\n\u001B[0m\u001B[0;32m    260\u001B[0m     \u001B[0mnplots\u001B[0m \u001B[1;33m=\u001B[0m \u001B[0mnrows\u001B[0m \u001B[1;33m*\u001B[0m \u001B[0mncols\u001B[0m\u001B[1;33m\u001B[0m\u001B[1;33m\u001B[0m\u001B[0m\n\u001B[0;32m    261\u001B[0m \u001B[1;33m\u001B[0m\u001B[0m\n",
      "\u001B[1;32m~\\Documents\\Uni\\DeepLearninProject\\.venv\\lib\\site-packages\\pandas\\plotting\\_matplotlib\\tools.py\u001B[0m in \u001B[0;36m_get_layout\u001B[1;34m(nplots, layout, layout_type)\u001B[0m\n\u001B[0;32m     96\u001B[0m         \u001B[1;32mif\u001B[0m \u001B[0mnrows\u001B[0m \u001B[1;33m*\u001B[0m \u001B[0mncols\u001B[0m \u001B[1;33m<\u001B[0m \u001B[0mnplots\u001B[0m\u001B[1;33m:\u001B[0m\u001B[1;33m\u001B[0m\u001B[1;33m\u001B[0m\u001B[0m\n\u001B[0;32m     97\u001B[0m             raise ValueError(\n\u001B[1;32m---> 98\u001B[1;33m                 \u001B[1;34mf\"Layout of {nrows}x{ncols} must be larger than required size {nplots}\"\u001B[0m\u001B[1;33m\u001B[0m\u001B[1;33m\u001B[0m\u001B[0m\n\u001B[0m\u001B[0;32m     99\u001B[0m             )\n\u001B[0;32m    100\u001B[0m \u001B[1;33m\u001B[0m\u001B[0m\n",
      "\u001B[1;31mValueError\u001B[0m: Layout of 3x3 must be larger than required size 17"
     ]
    },
    {
     "data": {
      "text/plain": "<Figure size 1000x1000 with 0 Axes>"
     },
     "metadata": {},
     "output_type": "display_data"
    }
   ],
   "source": [
    "myData.plot(kind='box', subplots=True, layout=(3,3), sharex=False, sharey=False, figsize = (10,10))\n",
    "plt.show()"
   ],
   "metadata": {
    "collapsed": false,
    "ExecuteTime": {
     "end_time": "2024-10-29T08:10:37.999708200Z",
     "start_time": "2024-10-29T08:10:37.947707400Z"
    }
   },
   "id": "4859f4939b692114",
   "execution_count": 12
  },
  {
   "cell_type": "code",
   "outputs": [
    {
     "data": {
      "text/plain": "<Figure size 640x480 with 2 Axes>",
      "image/png": "[encoded data removed]"
     },
     "metadata": {},
     "output_type": "display_data"
    }
   ],
   "source": [
    "correlations = myData.corr()\n",
    "# plot correlation matrix\n",
    "myfig = plt.figure()\n",
    "axis = myfig.add_subplot(111) # There is only one subplot or graph;\n",
    "# \"111\" means \"1x1 grid, first subplot\"\n",
    "cax = axis.matshow(correlations, vmin = -1, vmax = 1)\n",
    "myfig.colorbar(cax)\n",
    "ticks = np.arange(0, 9, 1)"
   ],
   "metadata": {
    "collapsed": false,
    "ExecuteTime": {
     "end_time": "2024-10-29T08:10:39.983449100Z",
     "start_time": "2024-10-29T08:10:39.780449900Z"
    }
   },
   "id": "1eb668224cf017e0",
   "execution_count": 13
  },
  {
   "cell_type": "code",
   "outputs": [],
   "source": [
    "# from sklearn.preprocessing import LabelEncoder, MinMaxScaler\n",
    "# from numpy import set_printoptions\n",
    "# \n",
    "# label_encoder = LabelEncoder()\n",
    "# \n",
    "# categorical_columns = ['sex', 'dataset', 'cp', 'fbs', 'restecg', 'exang', 'slope', 'thal']\n",
    "# \n",
    "# for col in categorical_columns:\n",
    "#     myData[col] = label_encoder.fit_transform(myData[col])"
   ],
   "metadata": {
    "collapsed": false,
    "ExecuteTime": {
     "end_time": "2024-10-29T08:10:46.425952800Z",
     "start_time": "2024-10-29T08:10:46.405700200Z"
    }
   },
   "id": "2a17e22b60c24825",
   "execution_count": 14
  },
  {
   "cell_type": "code",
   "outputs": [
    {
     "name": "stdout",
     "output_type": "stream",
     "text": [
      "[[0.388 0.    0.    0.    0.    0.5   0.75  0.6   0.667 1.    1.    0.\n",
      "  0.    0.    0.    0.333]\n",
      " [0.433 0.    0.    0.    0.    0.5   0.75  0.6   0.667 1.    1.    0.\n",
      "  0.    0.    0.    0.333]\n",
      " [0.313 0.    0.    0.    0.    0.5   1.    0.6   0.667 1.    1.    0.\n",
      "  0.    0.    0.    0.333]\n",
      " [0.821 0.    0.    0.    0.    0.5   1.    0.6   0.667 1.    1.    0.\n",
      "  0.    0.    0.    0.333]\n",
      " [0.672 0.    0.    0.    0.    0.5   0.25  0.6   0.667 0.    1.    0.\n",
      "  0.    0.    0.    0.333]]\n"
     ]
    }
   ],
   "source": [
    "X = myData.drop('Recurred', axis=1).values\n",
    "Y = myData['Recurred'].values\n",
    "\n",
    "mydataScaler = MinMaxScaler(feature_range=(0, 1))\n",
    "mydataRescaled = mydataScaler.fit_transform(X)\n",
    "\n",
    "set_printoptions(precision=3)\n",
    "print(mydataRescaled[20:25, :])"
   ],
   "metadata": {
    "collapsed": false,
    "ExecuteTime": {
     "end_time": "2024-10-29T08:11:00.241662900Z",
     "start_time": "2024-10-29T08:11:00.221661700Z"
    }
   },
   "id": "fc7d20d1d52c2898",
   "execution_count": 16
  },
  {
   "cell_type": "code",
   "outputs": [
    {
     "name": "stdout",
     "output_type": "stream",
     "text": [
      "[[0.991 0.    0.    0.    0.    0.048 0.072 0.072 0.048 0.024 0.048 0.\n",
      "  0.    0.    0.    0.024]\n",
      " [0.992 0.    0.    0.    0.    0.045 0.068 0.068 0.045 0.023 0.045 0.\n",
      "  0.    0.    0.    0.023]\n",
      " [0.985 0.    0.    0.    0.    0.055 0.109 0.082 0.055 0.027 0.055 0.\n",
      "  0.    0.    0.    0.027]\n",
      " [0.996 0.    0.    0.    0.    0.028 0.057 0.043 0.028 0.014 0.028 0.\n",
      "  0.    0.    0.    0.014]\n",
      " [0.997 0.    0.    0.    0.    0.033 0.017 0.05  0.033 0.    0.033 0.\n",
      "  0.    0.    0.    0.017]]\n"
     ]
    }
   ],
   "source": [
    "from sklearn.preprocessing import LabelEncoder, Normalizer\n",
    "\n",
    "myData.replace([np.inf, -np.inf], np.nan, inplace=True)\n",
    "myData.dropna(inplace=True)\n",
    "\n",
    "mydata_train = myData.drop('Recurred', axis=1).values\n",
    "mydata_label = myData['Recurred'].values\n",
    "\n",
    "mydataScaler = Normalizer().fit(mydata_train)\n",
    "mydataNormalized = mydataScaler.transform(mydata_train)\n",
    "\n",
    "set_printoptions(precision=3)\n",
    "print(mydataNormalized[20:25, :])"
   ],
   "metadata": {
    "collapsed": false,
    "ExecuteTime": {
     "end_time": "2024-10-29T08:11:06.817139900Z",
     "start_time": "2024-10-29T08:11:06.800139900Z"
    }
   },
   "id": "ddd05633650b0989",
   "execution_count": 17
  },
  {
   "cell_type": "code",
   "outputs": [
    {
     "name": "stdout",
     "output_type": "stream",
     "text": [
      "[[1 0 0 0 0 1 1 1 1 1 1 0 0 0 0 1]\n",
      " [1 0 0 1 0 1 1 1 1 1 1 0 0 0 0 1]\n",
      " [1 0 0 0 0 1 1 1 1 1 1 0 0 0 0 1]\n",
      " [1 0 0 0 0 1 1 1 1 1 1 0 0 0 0 1]\n",
      " [1 0 0 0 0 1 1 1 1 0 1 0 0 0 0 1]]\n"
     ]
    }
   ],
   "source": [
    "from sklearn.preprocessing import Binarizer\n",
    "\n",
    "mydataBinarizer = Binarizer(threshold=0.0).fit(mydata_train)\n",
    "mydatabinarized = mydataBinarizer.transform(mydata_train)\n",
    "set_printoptions(precision = 3)\n",
    "print(mydatabinarized[0:5,:])"
   ],
   "metadata": {
    "collapsed": false,
    "ExecuteTime": {
     "end_time": "2024-10-29T08:11:09.085787200Z",
     "start_time": "2024-10-29T08:11:08.985785700Z"
    }
   },
   "id": "d1446285c582184",
   "execution_count": 18
  },
  {
   "cell_type": "code",
   "outputs": [
    {
     "name": "stdout",
     "output_type": "stream",
     "text": [
      "[2.737e+01 4.599e+01 4.760e+01 7.188e+00 1.195e+01 1.757e+00 6.736e+00\n",
      " 1.313e+01 4.078e-03 6.581e+01 4.434e+02 1.707e+02 2.538e+02 5.471e+01\n",
      " 9.628e+01 3.850e+02]\n"
     ]
    }
   ],
   "source": [
    "from sklearn.feature_selection import SelectKBest, f_regression\n",
    "\n",
    "myData.replace([np.inf, -np.inf], np.nan, inplace=True)\n",
    "myData.dropna(inplace=True)\n",
    "\n",
    "min_value = myData.drop('Recurred', axis=1).min().min()\n",
    "if min_value < 0:\n",
    "    myData += abs(min_value)\n",
    "\n",
    "mydata_train = myData.drop('Recurred', axis=1).values\n",
    "mydata_label = myData['Recurred'].values\n",
    "\n",
    "myFeature = SelectKBest(score_func=f_regression, k=4)\n",
    "fit = myFeature.fit(mydata_train, mydata_label)\n",
    "\n",
    "set_printoptions(precision=3)\n",
    "print(fit.scores_)"
   ],
   "metadata": {
    "collapsed": false,
    "ExecuteTime": {
     "end_time": "2024-10-29T08:11:15.943217400Z",
     "start_time": "2024-10-29T08:11:15.853190200Z"
    }
   },
   "id": "77297c4e396677d7",
   "execution_count": 19
  },
  {
   "cell_type": "code",
   "outputs": [
    {
     "name": "stdout",
     "output_type": "stream",
     "text": [
      "Number of features selected: 4\n",
      "Selected features are denoted by True: [False  True False  True False False False False False False  True False\n",
      " False False False  True]\n",
      "Feature Ranking: [10  1  9  1  3 12  7 13  8  6  1  4  2  5 11  1]\n"
     ]
    }
   ],
   "source": [
    "from sklearn.feature_selection import RFE\n",
    "from sklearn.linear_model import LinearRegression\n",
    "\n",
    "model = LinearRegression()\n",
    "mydataRFE = RFE(model, n_features_to_select=4)\n",
    "mydataFit = mydataRFE.fit(mydata_train, mydata_label)\n",
    "\n",
    "print(\"Number of features selected: %d\" % mydataFit.n_features_)\n",
    "print(\"Selected features are denoted by True: %s\" % mydataFit.support_)\n",
    "print(\"Feature Ranking: %s\" % mydataFit.ranking_)"
   ],
   "metadata": {
    "collapsed": false,
    "ExecuteTime": {
     "end_time": "2024-10-29T08:11:19.181860300Z",
     "start_time": "2024-10-29T08:11:19.149859300Z"
    }
   },
   "id": "b09d63185809d4cf",
   "execution_count": 20
  },
  {
   "cell_type": "code",
   "outputs": [
    {
     "name": "stdout",
     "output_type": "stream",
     "text": [
      "Explained Variance: [0.962 0.013 0.007]\n",
      "[[ 0.999  0.005  0.007  0.002  0.002  0.002 -0.008 -0.008 -0.009 -0.007\n",
      "  -0.013  0.022  0.004  0.003  0.027  0.011]\n",
      " [-0.035  0.072  0.064  0.017  0.015  0.019 -0.364 -0.309  0.053 -0.146\n",
      "  -0.278  0.625  0.335  0.044  0.2    0.339]\n",
      " [-0.006  0.018  0.033  0.01   0.012  0.071  0.83   0.306  0.028  0.008\n",
      "  -0.13   0.359  0.152  0.038  0.123  0.156]]\n"
     ]
    }
   ],
   "source": [
    "from sklearn.decomposition import PCA\n",
    "\n",
    "pca = PCA(n_components = 3)\n",
    "fit = pca.fit(mydata_train)\n",
    "print(\"Explained Variance: %s\" % fit.explained_variance_ratio_)\n",
    "print(fit.components_)"
   ],
   "metadata": {
    "collapsed": false,
    "ExecuteTime": {
     "end_time": "2024-10-29T08:11:23.378630400Z",
     "start_time": "2024-10-29T08:11:23.362632700Z"
    }
   },
   "id": "c86acca8b82f8d8",
   "execution_count": 21
  },
  {
   "cell_type": "code",
   "outputs": [
    {
     "name": "stdout",
     "output_type": "stream",
     "text": [
      "(383, 1)\n"
     ]
    }
   ],
   "source": [
    "pca=PCA(0.92)\n",
    "selectedFeatures = pca.fit_transform(mydata_train)\n",
    "print (selectedFeatures.shape)"
   ],
   "metadata": {
    "collapsed": false,
    "ExecuteTime": {
     "end_time": "2024-10-29T08:11:24.227534300Z",
     "start_time": "2024-10-29T08:11:24.200535Z"
    }
   },
   "id": "f4b123f9ef30e6e6",
   "execution_count": 22
  },
  {
   "cell_type": "code",
   "outputs": [
    {
     "name": "stdout",
     "output_type": "stream",
     "text": [
      "(383, 3)\n"
     ]
    }
   ],
   "source": [
    "pca=PCA(0.98)\n",
    "selectedFeatures=pca.fit_transform(mydata_train)\n",
    "print (selectedFeatures.shape)"
   ],
   "metadata": {
    "collapsed": false,
    "ExecuteTime": {
     "end_time": "2024-10-29T08:11:24.824180100Z",
     "start_time": "2024-10-29T08:11:24.817182800Z"
    }
   },
   "id": "12909b653d36d221",
   "execution_count": 23
  },
  {
   "cell_type": "code",
   "outputs": [
    {
     "name": "stdout",
     "output_type": "stream",
     "text": [
      "[4.080e-02 2.231e-02 1.603e-02 5.400e-03 2.283e-04 2.030e-02 2.355e-02\n",
      " 5.304e-02 1.312e-02 3.517e-02 1.753e-01 5.243e-02 1.455e-01 1.299e-02\n",
      " 4.657e-02 3.373e-01]\n"
     ]
    }
   ],
   "source": [
    "import pandas as pd\n",
    "from sklearn.ensemble import ExtraTreesClassifier, ExtraTreesRegressor\n",
    "\n",
    "myData['Recurred'] = pd.cut(myData['Recurred'], bins=3, labels=[0, 1, 2])\n",
    "mydata_label = myData['Recurred'].values\n",
    "\n",
    "model = ExtraTreesClassifier()\n",
    "model.fit(mydata_train, mydata_label)\n",
    "print(model.feature_importances_)"
   ],
   "metadata": {
    "collapsed": false,
    "ExecuteTime": {
     "end_time": "2024-10-29T08:11:34.623330400Z",
     "start_time": "2024-10-29T08:11:34.515330100Z"
    }
   },
   "id": "522e63e0ac85fc3b",
   "execution_count": 24
  },
  {
   "cell_type": "code",
   "outputs": [],
   "source": [],
   "metadata": {
    "collapsed": false
   },
   "id": "50f99d5f57132186"
  }
 ],
 "metadata": {
  "kernelspec": {
   "display_name": "Python 3",
   "language": "python",
   "name": "python3"
  },
  "language_info": {
   "codemirror_mode": {
    "name": "ipython",
    "version": 2
   },
   "file_extension": ".py",
   "mimetype": "text/x-python",
   "name": "python",
   "nbconvert_exporter": "python",
   "pygments_lexer": "ipython2",
   "version": "2.7.6"
  }
 },
 "nbformat": 4,
 "nbformat_minor": 5
}
