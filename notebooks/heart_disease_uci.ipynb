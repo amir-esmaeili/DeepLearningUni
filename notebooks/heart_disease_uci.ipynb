{
 "cells": [
  {
   "cell_type": "code",
   "execution_count": 83,
   "id": "initial_id",
   "metadata": {
    "collapsed": true,
    "ExecuteTime": {
     "end_time": "2024-10-29T12:50:57.042738200Z",
     "start_time": "2024-10-29T12:50:57.021300200Z"
    }
   },
   "outputs": [
    {
     "name": "stdout",
     "output_type": "stream",
     "text": [
      "(920, 16)\n"
     ]
    }
   ],
   "source": [
    "import numpy as np\n",
    "import pandas as pd\n",
    "myData = pd.read_csv('../data/heart_disease_uci.csv')\n",
    "print(myData.shape)"
   ]
  },
  {
   "cell_type": "code",
   "outputs": [
    {
     "name": "stdout",
     "output_type": "stream",
     "text": [
      "   id  age     sex    dataset               cp  trestbps   chol    fbs         restecg  thalch  \\\n",
      "0   1   63    Male  Cleveland   typical angina     145.0  233.0   True  lv hypertrophy   150.0   \n",
      "1   2   67    Male  Cleveland     asymptomatic     160.0  286.0  False  lv hypertrophy   108.0   \n",
      "2   3   67    Male  Cleveland     asymptomatic     120.0  229.0  False  lv hypertrophy   129.0   \n",
      "3   4   37    Male  Cleveland      non-anginal     130.0  250.0  False          normal   187.0   \n",
      "4   5   41  Female  Cleveland  atypical angina     130.0  204.0  False  lv hypertrophy   172.0   \n",
      "5   6   56    Male  Cleveland  atypical angina     120.0  236.0  False          normal   178.0   \n",
      "6   7   62  Female  Cleveland     asymptomatic     140.0  268.0  False  lv hypertrophy   160.0   \n",
      "7   8   57  Female  Cleveland     asymptomatic     120.0  354.0  False          normal   163.0   \n",
      "8   9   63    Male  Cleveland     asymptomatic     130.0  254.0  False  lv hypertrophy   147.0   \n",
      "9  10   53    Male  Cleveland     asymptomatic     140.0  203.0   True  lv hypertrophy   155.0   \n",
      "\n",
      "   exang  oldpeak        slope   ca               thal  num  \n",
      "0  False      2.3  downsloping  0.0       fixed defect    0  \n",
      "1   True      1.5         flat  3.0             normal    2  \n",
      "2   True      2.6         flat  2.0  reversable defect    1  \n",
      "3  False      3.5  downsloping  0.0             normal    0  \n",
      "4  False      1.4    upsloping  0.0             normal    0  \n",
      "5  False      0.8    upsloping  0.0             normal    0  \n",
      "6  False      3.6  downsloping  2.0             normal    3  \n",
      "7   True      0.6    upsloping  0.0             normal    0  \n",
      "8  False      1.4         flat  1.0  reversable defect    2  \n",
      "9   True      3.1  downsloping  0.0  reversable defect    1  \n"
     ]
    }
   ],
   "source": [
    "peek = myData.head(10)\n",
    "print(peek)"
   ],
   "metadata": {
    "collapsed": false,
    "ExecuteTime": {
     "end_time": "2024-10-29T12:50:57.327662300Z",
     "start_time": "2024-10-29T12:50:57.303138800Z"
    }
   },
   "id": "f9e165253c8f0c5f",
   "execution_count": 84
  },
  {
   "cell_type": "code",
   "outputs": [
    {
     "name": "stdout",
     "output_type": "stream",
     "text": [
      "(920, 16)\n"
     ]
    }
   ],
   "source": [
    "shape = myData.shape\n",
    "print(shape)"
   ],
   "metadata": {
    "collapsed": false,
    "ExecuteTime": {
     "end_time": "2024-10-29T12:50:57.659207100Z",
     "start_time": "2024-10-29T12:50:57.640214300Z"
    }
   },
   "id": "3c4da3a492eb3c79",
   "execution_count": 85
  },
  {
   "cell_type": "code",
   "outputs": [
    {
     "name": "stdout",
     "output_type": "stream",
     "text": [
      "id            int64\n",
      "age           int64\n",
      "sex          object\n",
      "dataset      object\n",
      "cp           object\n",
      "trestbps    float64\n",
      "chol        float64\n",
      "fbs          object\n",
      "restecg      object\n",
      "thalch      float64\n",
      "exang        object\n",
      "oldpeak     float64\n",
      "slope        object\n",
      "ca          float64\n",
      "thal         object\n",
      "num           int64\n",
      "dtype: object\n"
     ]
    }
   ],
   "source": [
    "types = myData.dtypes\n",
    "print(types)"
   ],
   "metadata": {
    "collapsed": false,
    "ExecuteTime": {
     "end_time": "2024-10-29T12:50:58.091315200Z",
     "start_time": "2024-10-29T12:50:58.049523Z"
    }
   },
   "id": "f2355301eef161ef",
   "execution_count": 86
  },
  {
   "cell_type": "code",
   "outputs": [
    {
     "name": "stdout",
     "output_type": "stream",
     "text": [
      "num\n",
      "0    411\n",
      "1    265\n",
      "2    109\n",
      "3    107\n",
      "4     28\n",
      "dtype: int64\n"
     ]
    }
   ],
   "source": [
    "outcome_counts = myData.groupby('num').size()\n",
    "print(outcome_counts)"
   ],
   "metadata": {
    "collapsed": false,
    "ExecuteTime": {
     "end_time": "2024-10-29T12:50:58.495557900Z",
     "start_time": "2024-10-29T12:50:58.484582300Z"
    }
   },
   "id": "c37eb3e2836bd018",
   "execution_count": 87
  },
  {
   "cell_type": "code",
   "outputs": [
    {
     "name": "stdout",
     "output_type": "stream",
     "text": [
      "             id    age  trestbps   chol  thalch  oldpeak     ca    num\n",
      "id        1.000  0.239     0.053 -0.377  -0.466    0.050  0.061  0.274\n",
      "age       0.239  1.000     0.244 -0.086  -0.366    0.258  0.370  0.340\n",
      "trestbps  0.053  0.244     1.000  0.093  -0.105    0.162  0.094  0.122\n",
      "chol     -0.377 -0.086     0.093  1.000   0.236    0.048  0.052 -0.232\n",
      "thalch   -0.466 -0.366    -0.105  0.236   1.000   -0.151 -0.264 -0.366\n",
      "oldpeak   0.050  0.258     0.162  0.048  -0.151    1.000  0.282  0.443\n",
      "ca        0.061  0.370     0.094  0.052  -0.264    0.282  1.000  0.516\n",
      "num       0.274  0.340     0.122 -0.232  -0.366    0.443  0.516  1.000\n"
     ]
    }
   ],
   "source": [
    "from pandas import set_option\n",
    "\n",
    "set_option('display.width', 100)\n",
    "set_option('precision', 3)\n",
    "correlations = myData.corr(method = 'pearson')\n",
    "print(correlations)"
   ],
   "metadata": {
    "collapsed": false,
    "ExecuteTime": {
     "end_time": "2024-10-29T12:50:59.032721700Z",
     "start_time": "2024-10-29T12:50:59.012942Z"
    }
   },
   "id": "1a2de44d2b9cecaf",
   "execution_count": 88
  },
  {
   "cell_type": "code",
   "outputs": [
    {
     "data": {
      "text/plain": "<AxesSubplot:ylabel='Frequency'>"
     },
     "execution_count": 89,
     "metadata": {},
     "output_type": "execute_result"
    },
    {
     "data": {
      "text/plain": "<Figure size 640x480 with 1 Axes>",
      "image/png": "[encoded data removed]"
     },
     "metadata": {},
     "output_type": "display_data"
    }
   ],
   "source": [
    "import matplotlib.pyplot as plt\n",
    "myData.plot.hist()"
   ],
   "metadata": {
    "collapsed": false,
    "ExecuteTime": {
     "end_time": "2024-10-29T12:50:59.870832400Z",
     "start_time": "2024-10-29T12:50:59.587594600Z"
    }
   },
   "id": "8e41194f39bdcb37",
   "execution_count": 89
  },
  {
   "cell_type": "code",
   "outputs": [
    {
     "data": {
      "text/plain": "<Figure size 1000x1000 with 9 Axes>",
      "image/png": "[encoded data removed]"
     },
     "metadata": {},
     "output_type": "display_data"
    }
   ],
   "source": [
    "myData.plot(kind='box', subplots=True, layout=(3,3), sharex=False, sharey=False, figsize = (10,10))\n",
    "plt.show()"
   ],
   "metadata": {
    "collapsed": false,
    "ExecuteTime": {
     "end_time": "2024-10-29T12:51:01.091575Z",
     "start_time": "2024-10-29T12:51:00.501549200Z"
    }
   },
   "id": "4859f4939b692114",
   "execution_count": 90
  },
  {
   "cell_type": "code",
   "outputs": [
    {
     "data": {
      "text/plain": "<Figure size 640x480 with 2 Axes>",
      "image/png": "[encoded data removed]"
     },
     "metadata": {},
     "output_type": "display_data"
    }
   ],
   "source": [
    "correlations = myData.corr()\n",
    "# plot correlation matrix\n",
    "myfig = plt.figure()\n",
    "axis = myfig.add_subplot(111)\n",
    "cax = axis.matshow(correlations, vmin = -1, vmax = 1)\n",
    "myfig.colorbar(cax)\n",
    "ticks = np.arange(0, 9, 1)"
   ],
   "metadata": {
    "collapsed": false,
    "ExecuteTime": {
     "end_time": "2024-10-29T12:51:02.164573500Z",
     "start_time": "2024-10-29T12:51:01.862575100Z"
    }
   },
   "id": "1eb668224cf017e0",
   "execution_count": 91
  },
  {
   "cell_type": "code",
   "outputs": [],
   "source": [
    "from sklearn.preprocessing import LabelEncoder, MinMaxScaler\n",
    "from numpy import set_printoptions\n",
    "\n",
    "label_encoder = LabelEncoder()\n",
    "\n",
    "categorical_columns = ['sex', 'dataset', 'cp', 'fbs', 'restecg', 'exang', 'slope', 'thal']\n",
    "\n",
    "for col in categorical_columns:\n",
    "    myData[col] = label_encoder.fit_transform(myData[col])"
   ],
   "metadata": {
    "collapsed": false,
    "ExecuteTime": {
     "end_time": "2024-10-29T12:51:02.678211100Z",
     "start_time": "2024-10-29T12:51:02.656307500Z"
    }
   },
   "id": "2a17e22b60c24825",
   "execution_count": 92
  },
  {
   "cell_type": "code",
   "outputs": [
    {
     "name": "stdout",
     "output_type": "stream",
     "text": [
      "[[0.022 0.735 1.    0.    1.    0.55  0.35  0.    0.    0.592 0.5   0.5\n",
      "  0.333 0.    0.333]\n",
      " [0.023 0.612 0.    0.    1.    0.75  0.469 0.5   0.    0.718 0.    0.409\n",
      "  0.667 0.    0.333]\n",
      " [0.024 0.612 1.    0.    0.333 0.6   0.471 0.    0.    0.704 0.    0.5\n",
      "  0.333 0.    0.333]\n",
      " [0.025 0.612 1.    0.    0.667 0.66  0.371 0.    0.    0.796 0.    0.659\n",
      "  0.667 0.667 0.667]\n",
      " [0.026 0.653 1.    0.    0.    0.65  0.342 0.    0.    0.507 0.5   0.568\n",
      "  0.333 0.667 0.667]]\n"
     ]
    }
   ],
   "source": [
    "X = myData.drop('num', axis=1).values\n",
    "Y = myData['num'].values\n",
    "\n",
    "mydataScaler = MinMaxScaler(feature_range=(0, 1))\n",
    "mydataRescaled = mydataScaler.fit_transform(X)\n",
    "\n",
    "set_printoptions(precision=3)\n",
    "print(mydataRescaled[20:25, :])"
   ],
   "metadata": {
    "collapsed": false,
    "ExecuteTime": {
     "end_time": "2024-10-29T12:51:03.399145300Z",
     "start_time": "2024-10-29T12:51:03.372512200Z"
    }
   },
   "id": "fc7d20d1d52c2898",
   "execution_count": 93
  },
  {
   "cell_type": "code",
   "outputs": [
    {
     "name": "stdout",
     "output_type": "stream",
     "text": [
      "[[0.073 0.224 0.003 0.    0.01  0.384 0.737 0.    0.    0.503 0.003 0.006\n",
      "  0.003 0.    0.003]\n",
      " [0.06  0.159 0.    0.    0.008 0.412 0.777 0.003 0.    0.445 0.    0.003\n",
      "  0.005 0.    0.003]\n",
      " [0.065 0.164 0.003 0.    0.003 0.34  0.805 0.    0.    0.453 0.    0.005\n",
      "  0.003 0.    0.003]\n",
      " [0.075 0.182 0.003 0.    0.006 0.414 0.703 0.    0.    0.543 0.    0.01\n",
      "  0.006 0.006 0.006]\n",
      " [0.088 0.211 0.004 0.    0.    0.457 0.724 0.    0.    0.464 0.004 0.008\n",
      "  0.004 0.007 0.007]]\n"
     ]
    }
   ],
   "source": [
    "from sklearn.preprocessing import LabelEncoder, Normalizer\n",
    "\n",
    "myData.replace([np.inf, -np.inf], np.nan, inplace=True)\n",
    "myData.dropna(inplace=True)\n",
    "\n",
    "mydata_train = myData.drop('num', axis=1).values\n",
    "mydata_label = myData['num'].values\n",
    "\n",
    "mydataScaler = Normalizer().fit(mydata_train)\n",
    "mydataNormalized = mydataScaler.transform(mydata_train)\n",
    "\n",
    "set_printoptions(precision=3)\n",
    "print(mydataNormalized[20:25, :])"
   ],
   "metadata": {
    "collapsed": false,
    "ExecuteTime": {
     "end_time": "2024-10-29T12:51:04.000985900Z",
     "start_time": "2024-10-29T12:51:03.957063200Z"
    }
   },
   "id": "ddd05633650b0989",
   "execution_count": 94
  },
  {
   "cell_type": "code",
   "outputs": [
    {
     "name": "stdout",
     "output_type": "stream",
     "text": [
      "[[1. 1. 1. 0. 1. 1. 1. 1. 0. 1. 0. 1. 0. 0. 0.]\n",
      " [1. 1. 1. 0. 0. 1. 1. 0. 0. 1. 1. 1. 1. 1. 1.]\n",
      " [1. 1. 1. 0. 0. 1. 1. 0. 0. 1. 1. 1. 1. 1. 1.]\n",
      " [1. 1. 1. 0. 1. 1. 1. 0. 1. 1. 0. 1. 0. 0. 1.]\n",
      " [1. 1. 0. 0. 1. 1. 1. 0. 0. 1. 0. 1. 1. 0. 1.]]\n"
     ]
    }
   ],
   "source": [
    "from sklearn.preprocessing import Binarizer\n",
    "\n",
    "mydataBinarizer = Binarizer(threshold=0.0).fit(mydata_train)\n",
    "mydatabinarized = mydataBinarizer.transform(mydata_train)\n",
    "set_printoptions(precision = 3)\n",
    "print(mydatabinarized[0:5,:])"
   ],
   "metadata": {
    "collapsed": false,
    "ExecuteTime": {
     "end_time": "2024-10-29T12:51:04.646927900Z",
     "start_time": "2024-10-29T12:51:04.627987700Z"
    }
   },
   "id": "d1446285c582184",
   "execution_count": 95
  },
  {
   "cell_type": "code",
   "outputs": [
    {
     "name": "stdout",
     "output_type": "stream",
     "text": [
      "[  0.63   15.016  16.982   0.14   63.235   6.193   0.31    2.262   3.537\n",
      "  61.235  53.854  96.204  45.876 110.651  35.041]\n"
     ]
    }
   ],
   "source": [
    "from sklearn.feature_selection import SelectKBest, f_regression\n",
    "\n",
    "myData.replace([np.inf, -np.inf], np.nan, inplace=True)\n",
    "myData.dropna(inplace=True)\n",
    "\n",
    "min_value = myData.drop('num', axis=1).min().min()\n",
    "if min_value < 0:\n",
    "    myData += abs(min_value)\n",
    "\n",
    "mydata_train = myData.drop('num', axis=1).values\n",
    "mydata_label = myData['num'].values\n",
    "\n",
    "myFeature = SelectKBest(score_func=f_regression, k=4)\n",
    "fit = myFeature.fit(mydata_train, mydata_label)\n",
    "\n",
    "set_printoptions(precision=3)\n",
    "print(fit.scores_)"
   ],
   "metadata": {
    "collapsed": false,
    "ExecuteTime": {
     "end_time": "2024-10-29T12:51:05.590355900Z",
     "start_time": "2024-10-29T12:51:05.555695700Z"
    }
   },
   "id": "77297c4e396677d7",
   "execution_count": 96
  },
  {
   "cell_type": "code",
   "outputs": [
    {
     "name": "stdout",
     "output_type": "stream",
     "text": [
      "Number of features selected: 4\n",
      "Selected features are denoted by True: [False False False False False False False False False False  True False\n",
      "  True  True  True]\n",
      "Feature Ranking: [11  9  3  2  4 10 12  7  6  8  1  5  1  1  1]\n"
     ]
    }
   ],
   "source": [
    "from sklearn.feature_selection import RFE\n",
    "from sklearn.linear_model import LinearRegression\n",
    "\n",
    "model = LinearRegression()\n",
    "mydataRFE = RFE(model, n_features_to_select=4)\n",
    "mydataFit = mydataRFE.fit(mydata_train, mydata_label)\n",
    "\n",
    "print(\"Number of features selected: %d\" % mydataFit.n_features_)\n",
    "print(\"Selected features are denoted by True: %s\" % mydataFit.support_)\n",
    "print(\"Feature Ranking: %s\" % mydataFit.ranking_)"
   ],
   "metadata": {
    "collapsed": false,
    "ExecuteTime": {
     "end_time": "2024-10-29T12:51:06.443983200Z",
     "start_time": "2024-10-29T12:51:06.262083Z"
    }
   },
   "id": "b09d63185809d4cf",
   "execution_count": 97
  },
  {
   "cell_type": "code",
   "outputs": [
    {
     "name": "stdout",
     "output_type": "stream",
     "text": [
      "Explained Variance: [0.804 0.15  0.027]\n",
      "[[ 9.627e-01  3.599e-03  1.956e-04  2.054e-03 -6.278e-04 -3.201e-03\n",
      "  -2.677e-01  9.503e-04  1.143e-03 -3.868e-02  2.367e-04 -8.188e-04\n",
      "   1.678e-04  4.388e-04  1.153e-03]\n",
      " [ 2.671e-01  2.767e-02 -1.966e-03 -1.121e-03 -1.843e-03  4.164e-02\n",
      "   9.623e-01 -1.004e-03 -8.685e-04 -1.257e-02  4.557e-04  9.558e-05\n",
      "   8.513e-05  1.761e-03 -6.020e-04]\n",
      " [-4.265e-02  1.820e-01  1.188e-03  4.939e-04 -1.175e-02  1.385e-01\n",
      "  -1.213e-02  8.930e-04 -1.757e-03 -9.721e-01  7.574e-03  1.904e-02\n",
      "  -1.069e-02  1.134e-02  3.681e-03]]\n"
     ]
    }
   ],
   "source": [
    "from sklearn.decomposition import PCA\n",
    "\n",
    "pca = PCA(n_components = 3)\n",
    "fit = pca.fit(mydata_train)\n",
    "print(\"Explained Variance: %s\" % fit.explained_variance_ratio_)\n",
    "print(fit.components_)"
   ],
   "metadata": {
    "collapsed": false,
    "ExecuteTime": {
     "end_time": "2024-10-29T12:51:07.435212200Z",
     "start_time": "2024-10-29T12:51:07.409086200Z"
    }
   },
   "id": "c86acca8b82f8d8",
   "execution_count": 98
  },
  {
   "cell_type": "code",
   "outputs": [
    {
     "name": "stdout",
     "output_type": "stream",
     "text": [
      "(308, 2)\n"
     ]
    }
   ],
   "source": [
    "pca=PCA(0.92)\n",
    "selectedFeatures = pca.fit_transform(mydata_train)\n",
    "print (selectedFeatures.shape)"
   ],
   "metadata": {
    "collapsed": false,
    "ExecuteTime": {
     "end_time": "2024-10-29T12:51:08.125151200Z",
     "start_time": "2024-10-29T12:51:08.100970600Z"
    }
   },
   "id": "f4b123f9ef30e6e6",
   "execution_count": 99
  },
  {
   "cell_type": "code",
   "outputs": [
    {
     "name": "stdout",
     "output_type": "stream",
     "text": [
      "(308, 3)\n"
     ]
    }
   ],
   "source": [
    "pca=PCA(0.98)\n",
    "selectedFeatures=pca.fit_transform(mydata_train)\n",
    "print (selectedFeatures.shape)"
   ],
   "metadata": {
    "collapsed": false,
    "ExecuteTime": {
     "end_time": "2024-10-29T12:51:08.744408600Z",
     "start_time": "2024-10-29T12:51:08.716247500Z"
    }
   },
   "id": "12909b653d36d221",
   "execution_count": 100
  },
  {
   "cell_type": "code",
   "outputs": [
    {
     "name": "stdout",
     "output_type": "stream",
     "text": [
      "[0.077 0.075 0.029 0.007 0.075 0.073 0.076 0.034 0.038 0.095 0.052 0.114\n",
      " 0.058 0.129 0.068]\n"
     ]
    }
   ],
   "source": [
    "import pandas as pd\n",
    "from sklearn.ensemble import ExtraTreesClassifier\n",
    "\n",
    "\n",
    "myData['num'] = pd.cut(myData['num'], bins=3, labels=[0, 1, 2])\n",
    "mydata_label = myData['num'].values\n",
    "\n",
    "model = ExtraTreesClassifier()\n",
    "model.fit(mydata_train, mydata_label)\n",
    "print(model.feature_importances_)"
   ],
   "metadata": {
    "collapsed": false,
    "ExecuteTime": {
     "end_time": "2024-10-29T12:51:09.582765700Z",
     "start_time": "2024-10-29T12:51:09.467383Z"
    }
   },
   "id": "522e63e0ac85fc3b",
   "execution_count": 101
  },
  {
   "cell_type": "code",
   "outputs": [],
   "source": [],
   "metadata": {
    "collapsed": false
   },
   "id": "50f99d5f57132186"
  }
 ],
 "metadata": {
  "kernelspec": {
   "display_name": "Python 3",
   "language": "python",
   "name": "python3"
  },
  "language_info": {
   "codemirror_mode": {
    "name": "ipython",
    "version": 2
   },
   "file_extension": ".py",
   "mimetype": "text/x-python",
   "name": "python",
   "nbconvert_exporter": "python",
   "pygments_lexer": "ipython2",
   "version": "2.7.6"
  }
 },
 "nbformat": 4,
 "nbformat_minor": 5
}
