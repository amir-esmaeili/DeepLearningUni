{
 "cells": [
  {
   "cell_type": "code",
   "execution_count": 1,
   "id": "initial_id",
   "metadata": {
    "collapsed": true,
    "ExecuteTime": {
     "end_time": "2024-10-29T07:55:42.162407700Z",
     "start_time": "2024-10-29T07:55:41.844951600Z"
    }
   },
   "outputs": [
    {
     "name": "stdout",
     "output_type": "stream",
     "text": [
      "(395, 33)\n"
     ]
    }
   ],
   "source": [
    "import numpy as np\n",
    "import pandas as pd\n",
    "myData = pd.read_csv('../data/student-mat.csv')\n",
    "print(myData.shape)"
   ]
  },
  {
   "cell_type": "code",
   "outputs": [
    {
     "name": "stdout",
     "output_type": "stream",
     "text": [
      "  school sex  age address famsize Pstatus  Medu  Fedu      Mjob      Fjob  \\\n",
      "0     GP   F   18       U     GT3       A     4     4   at_home   teacher   \n",
      "1     GP   F   17       U     GT3       T     1     1   at_home     other   \n",
      "2     GP   F   15       U     LE3       T     1     1   at_home     other   \n",
      "3     GP   F   15       U     GT3       T     4     2    health  services   \n",
      "4     GP   F   16       U     GT3       T     3     3     other     other   \n",
      "5     GP   M   16       U     LE3       T     4     3  services     other   \n",
      "6     GP   M   16       U     LE3       T     2     2     other     other   \n",
      "7     GP   F   17       U     GT3       A     4     4     other   teacher   \n",
      "8     GP   M   15       U     LE3       A     3     2  services     other   \n",
      "9     GP   M   15       U     GT3       T     3     4     other     other   \n",
      "\n",
      "   ... famrel freetime  goout  Dalc  Walc health absences  G1  G2  G3  \n",
      "0  ...      4        3      4     1     1      3        6   5   6   6  \n",
      "1  ...      5        3      3     1     1      3        4   5   5   6  \n",
      "2  ...      4        3      2     2     3      3       10   7   8  10  \n",
      "3  ...      3        2      2     1     1      5        2  15  14  15  \n",
      "4  ...      4        3      2     1     2      5        4   6  10  10  \n",
      "5  ...      5        4      2     1     2      5       10  15  15  15  \n",
      "6  ...      4        4      4     1     1      3        0  12  12  11  \n",
      "7  ...      4        1      4     1     1      1        6   6   5   6  \n",
      "8  ...      4        2      2     1     1      1        0  16  18  19  \n",
      "9  ...      5        5      1     1     1      5        0  14  15  15  \n",
      "\n",
      "[10 rows x 33 columns]\n"
     ]
    }
   ],
   "source": [
    "peek = myData.head(10)\n",
    "print(peek)"
   ],
   "metadata": {
    "collapsed": false,
    "ExecuteTime": {
     "end_time": "2024-10-29T07:55:43.124833300Z",
     "start_time": "2024-10-29T07:55:43.111833Z"
    }
   },
   "id": "f9e165253c8f0c5f",
   "execution_count": 2
  },
  {
   "cell_type": "code",
   "outputs": [
    {
     "name": "stdout",
     "output_type": "stream",
     "text": [
      "(395, 33)\n"
     ]
    }
   ],
   "source": [
    "shape = myData.shape\n",
    "print(shape)"
   ],
   "metadata": {
    "collapsed": false,
    "ExecuteTime": {
     "end_time": "2024-10-29T07:55:44.549878200Z",
     "start_time": "2024-10-29T07:55:44.521878600Z"
    }
   },
   "id": "3c4da3a492eb3c79",
   "execution_count": 3
  },
  {
   "cell_type": "code",
   "outputs": [
    {
     "name": "stdout",
     "output_type": "stream",
     "text": [
      "school        object\n",
      "sex           object\n",
      "age            int64\n",
      "address       object\n",
      "famsize       object\n",
      "Pstatus       object\n",
      "Medu           int64\n",
      "Fedu           int64\n",
      "Mjob          object\n",
      "Fjob          object\n",
      "reason        object\n",
      "guardian      object\n",
      "traveltime     int64\n",
      "studytime      int64\n",
      "failures       int64\n",
      "schoolsup     object\n",
      "famsup        object\n",
      "paid          object\n",
      "activities    object\n",
      "nursery       object\n",
      "higher        object\n",
      "internet      object\n",
      "romantic      object\n",
      "famrel         int64\n",
      "freetime       int64\n",
      "goout          int64\n",
      "Dalc           int64\n",
      "Walc           int64\n",
      "health         int64\n",
      "absences       int64\n",
      "G1             int64\n",
      "G2             int64\n",
      "G3             int64\n",
      "dtype: object\n"
     ]
    }
   ],
   "source": [
    "types = myData.dtypes\n",
    "print(types)"
   ],
   "metadata": {
    "collapsed": false,
    "ExecuteTime": {
     "end_time": "2024-10-29T07:55:45.202220Z",
     "start_time": "2024-10-29T07:55:45.170224Z"
    }
   },
   "id": "f2355301eef161ef",
   "execution_count": 4
  },
  {
   "cell_type": "code",
   "outputs": [
    {
     "name": "stdout",
     "output_type": "stream",
     "text": [
      "sex\n",
      "F    208\n",
      "M    187\n",
      "dtype: int64\n"
     ]
    }
   ],
   "source": [
    "outcome_counts = myData.groupby('sex').size()\n",
    "print(outcome_counts)"
   ],
   "metadata": {
    "collapsed": false,
    "ExecuteTime": {
     "end_time": "2024-10-29T07:59:10.736994700Z",
     "start_time": "2024-10-29T07:59:10.711941Z"
    }
   },
   "id": "c37eb3e2836bd018",
   "execution_count": 6
  },
  {
   "cell_type": "code",
   "outputs": [
    {
     "name": "stdout",
     "output_type": "stream",
     "text": [
      "              age   Medu   Fedu  traveltime  studytime  failures  famrel  freetime  goout   Dalc  \\\n",
      "age         1.000 -0.164 -0.163       0.071     -0.004     0.244   0.054     0.016  0.127  0.131   \n",
      "Medu       -0.164  1.000  0.623      -0.172      0.065    -0.237  -0.004     0.031  0.064  0.020   \n",
      "Fedu       -0.163  0.623  1.000      -0.158     -0.009    -0.250  -0.001    -0.013  0.043  0.002   \n",
      "traveltime  0.071 -0.172 -0.158       1.000     -0.101     0.092  -0.017    -0.017  0.029  0.138   \n",
      "studytime  -0.004  0.065 -0.009      -0.101      1.000    -0.174   0.040    -0.143 -0.064 -0.196   \n",
      "failures    0.244 -0.237 -0.250       0.092     -0.174     1.000  -0.044     0.092  0.125  0.136   \n",
      "famrel      0.054 -0.004 -0.001      -0.017      0.040    -0.044   1.000     0.151  0.065 -0.078   \n",
      "freetime    0.016  0.031 -0.013      -0.017     -0.143     0.092   0.151     1.000  0.285  0.209   \n",
      "goout       0.127  0.064  0.043       0.029     -0.064     0.125   0.065     0.285  1.000  0.267   \n",
      "Dalc        0.131  0.020  0.002       0.138     -0.196     0.136  -0.078     0.209  0.267  1.000   \n",
      "Walc        0.117 -0.047 -0.013       0.134     -0.254     0.142  -0.113     0.148  0.420  0.648   \n",
      "health     -0.062 -0.047  0.015       0.008     -0.076     0.066   0.094     0.076 -0.010  0.077   \n",
      "absences    0.175  0.100  0.024      -0.013     -0.063     0.064  -0.044    -0.058  0.044  0.112   \n",
      "G1         -0.064  0.205  0.190      -0.093      0.161    -0.355   0.022     0.013 -0.149 -0.094   \n",
      "G2         -0.143  0.216  0.165      -0.153      0.136    -0.356  -0.018    -0.014 -0.162 -0.064   \n",
      "G3         -0.162  0.217  0.152      -0.117      0.098    -0.360   0.051     0.011 -0.133 -0.055   \n",
      "\n",
      "             Walc  health  absences     G1     G2     G3  \n",
      "age         0.117  -0.062     0.175 -0.064 -0.143 -0.162  \n",
      "Medu       -0.047  -0.047     0.100  0.205  0.216  0.217  \n",
      "Fedu       -0.013   0.015     0.024  0.190  0.165  0.152  \n",
      "traveltime  0.134   0.008    -0.013 -0.093 -0.153 -0.117  \n",
      "studytime  -0.254  -0.076    -0.063  0.161  0.136  0.098  \n",
      "failures    0.142   0.066     0.064 -0.355 -0.356 -0.360  \n",
      "famrel     -0.113   0.094    -0.044  0.022 -0.018  0.051  \n",
      "freetime    0.148   0.076    -0.058  0.013 -0.014  0.011  \n",
      "goout       0.420  -0.010     0.044 -0.149 -0.162 -0.133  \n",
      "Dalc        0.648   0.077     0.112 -0.094 -0.064 -0.055  \n",
      "Walc        1.000   0.092     0.136 -0.126 -0.085 -0.052  \n",
      "health      0.092   1.000    -0.030 -0.073 -0.098 -0.061  \n",
      "absences    0.136  -0.030     1.000 -0.031 -0.032  0.034  \n",
      "G1         -0.126  -0.073    -0.031  1.000  0.852  0.801  \n",
      "G2         -0.085  -0.098    -0.032  0.852  1.000  0.905  \n",
      "G3         -0.052  -0.061     0.034  0.801  0.905  1.000  \n"
     ]
    }
   ],
   "source": [
    "from pandas import set_option\n",
    "\n",
    "set_option('display.width', 100)\n",
    "set_option('precision', 3)\n",
    "correlations = myData.corr(method = 'pearson')\n",
    "print(correlations)"
   ],
   "metadata": {
    "collapsed": false,
    "ExecuteTime": {
     "end_time": "2024-10-29T07:59:14.046010200Z",
     "start_time": "2024-10-29T07:59:14.010009700Z"
    }
   },
   "id": "1a2de44d2b9cecaf",
   "execution_count": 7
  },
  {
   "cell_type": "code",
   "outputs": [
    {
     "data": {
      "text/plain": "<AxesSubplot:ylabel='Frequency'>"
     },
     "execution_count": 8,
     "metadata": {},
     "output_type": "execute_result"
    },
    {
     "data": {
      "text/plain": "<Figure size 640x480 with 1 Axes>",
      "image/png": "[encoded data removed]"
     },
     "metadata": {},
     "output_type": "display_data"
    }
   ],
   "source": [
    "import matplotlib.pyplot as plt\n",
    "myData.plot.hist()"
   ],
   "metadata": {
    "collapsed": false,
    "ExecuteTime": {
     "end_time": "2024-10-29T07:59:16.507531600Z",
     "start_time": "2024-10-29T07:59:15.517224Z"
    }
   },
   "id": "8e41194f39bdcb37",
   "execution_count": 8
  },
  {
   "cell_type": "code",
   "outputs": [
    {
     "ename": "ValueError",
     "evalue": "Layout of 3x3 must be larger than required size 16",
     "output_type": "error",
     "traceback": [
      "\u001B[1;31m---------------------------------------------------------------------------\u001B[0m",
      "\u001B[1;31mValueError\u001B[0m                                Traceback (most recent call last)",
      "\u001B[1;32m~\\AppData\\Local\\Temp\\ipykernel_29504\\909650294.py\u001B[0m in \u001B[0;36m<module>\u001B[1;34m\u001B[0m\n\u001B[1;32m----> 1\u001B[1;33m \u001B[0mmyData\u001B[0m\u001B[1;33m.\u001B[0m\u001B[0mplot\u001B[0m\u001B[1;33m(\u001B[0m\u001B[0mkind\u001B[0m\u001B[1;33m=\u001B[0m\u001B[1;34m'box'\u001B[0m\u001B[1;33m,\u001B[0m \u001B[0msubplots\u001B[0m\u001B[1;33m=\u001B[0m\u001B[1;32mTrue\u001B[0m\u001B[1;33m,\u001B[0m \u001B[0mlayout\u001B[0m\u001B[1;33m=\u001B[0m\u001B[1;33m(\u001B[0m\u001B[1;36m3\u001B[0m\u001B[1;33m,\u001B[0m\u001B[1;36m3\u001B[0m\u001B[1;33m)\u001B[0m\u001B[1;33m,\u001B[0m \u001B[0msharex\u001B[0m\u001B[1;33m=\u001B[0m\u001B[1;32mFalse\u001B[0m\u001B[1;33m,\u001B[0m \u001B[0msharey\u001B[0m\u001B[1;33m=\u001B[0m\u001B[1;32mFalse\u001B[0m\u001B[1;33m,\u001B[0m \u001B[0mfigsize\u001B[0m \u001B[1;33m=\u001B[0m \u001B[1;33m(\u001B[0m\u001B[1;36m10\u001B[0m\u001B[1;33m,\u001B[0m\u001B[1;36m10\u001B[0m\u001B[1;33m)\u001B[0m\u001B[1;33m)\u001B[0m\u001B[1;33m\u001B[0m\u001B[1;33m\u001B[0m\u001B[0m\n\u001B[0m\u001B[0;32m      2\u001B[0m \u001B[0mplt\u001B[0m\u001B[1;33m.\u001B[0m\u001B[0mshow\u001B[0m\u001B[1;33m(\u001B[0m\u001B[1;33m)\u001B[0m\u001B[1;33m\u001B[0m\u001B[1;33m\u001B[0m\u001B[0m\n",
      "\u001B[1;32m~\\Documents\\Uni\\DeepLearninProject\\.venv\\lib\\site-packages\\pandas\\plotting\\_core.py\u001B[0m in \u001B[0;36m__call__\u001B[1;34m(self, *args, **kwargs)\u001B[0m\n\u001B[0;32m    970\u001B[0m                     \u001B[0mdata\u001B[0m\u001B[1;33m.\u001B[0m\u001B[0mcolumns\u001B[0m \u001B[1;33m=\u001B[0m \u001B[0mlabel_name\u001B[0m\u001B[1;33m\u001B[0m\u001B[1;33m\u001B[0m\u001B[0m\n\u001B[0;32m    971\u001B[0m \u001B[1;33m\u001B[0m\u001B[0m\n\u001B[1;32m--> 972\u001B[1;33m         \u001B[1;32mreturn\u001B[0m \u001B[0mplot_backend\u001B[0m\u001B[1;33m.\u001B[0m\u001B[0mplot\u001B[0m\u001B[1;33m(\u001B[0m\u001B[0mdata\u001B[0m\u001B[1;33m,\u001B[0m \u001B[0mkind\u001B[0m\u001B[1;33m=\u001B[0m\u001B[0mkind\u001B[0m\u001B[1;33m,\u001B[0m \u001B[1;33m**\u001B[0m\u001B[0mkwargs\u001B[0m\u001B[1;33m)\u001B[0m\u001B[1;33m\u001B[0m\u001B[1;33m\u001B[0m\u001B[0m\n\u001B[0m\u001B[0;32m    973\u001B[0m \u001B[1;33m\u001B[0m\u001B[0m\n\u001B[0;32m    974\u001B[0m     \u001B[0m__call__\u001B[0m\u001B[1;33m.\u001B[0m\u001B[0m__doc__\u001B[0m \u001B[1;33m=\u001B[0m \u001B[0m__doc__\u001B[0m\u001B[1;33m\u001B[0m\u001B[1;33m\u001B[0m\u001B[0m\n",
      "\u001B[1;32m~\\Documents\\Uni\\DeepLearninProject\\.venv\\lib\\site-packages\\pandas\\plotting\\_matplotlib\\__init__.py\u001B[0m in \u001B[0;36mplot\u001B[1;34m(data, kind, **kwargs)\u001B[0m\n\u001B[0;32m     69\u001B[0m             \u001B[0mkwargs\u001B[0m\u001B[1;33m[\u001B[0m\u001B[1;34m\"ax\"\u001B[0m\u001B[1;33m]\u001B[0m \u001B[1;33m=\u001B[0m \u001B[0mgetattr\u001B[0m\u001B[1;33m(\u001B[0m\u001B[0max\u001B[0m\u001B[1;33m,\u001B[0m \u001B[1;34m\"left_ax\"\u001B[0m\u001B[1;33m,\u001B[0m \u001B[0max\u001B[0m\u001B[1;33m)\u001B[0m\u001B[1;33m\u001B[0m\u001B[1;33m\u001B[0m\u001B[0m\n\u001B[0;32m     70\u001B[0m     \u001B[0mplot_obj\u001B[0m \u001B[1;33m=\u001B[0m \u001B[0mPLOT_CLASSES\u001B[0m\u001B[1;33m[\u001B[0m\u001B[0mkind\u001B[0m\u001B[1;33m]\u001B[0m\u001B[1;33m(\u001B[0m\u001B[0mdata\u001B[0m\u001B[1;33m,\u001B[0m \u001B[1;33m**\u001B[0m\u001B[0mkwargs\u001B[0m\u001B[1;33m)\u001B[0m\u001B[1;33m\u001B[0m\u001B[1;33m\u001B[0m\u001B[0m\n\u001B[1;32m---> 71\u001B[1;33m     \u001B[0mplot_obj\u001B[0m\u001B[1;33m.\u001B[0m\u001B[0mgenerate\u001B[0m\u001B[1;33m(\u001B[0m\u001B[1;33m)\u001B[0m\u001B[1;33m\u001B[0m\u001B[1;33m\u001B[0m\u001B[0m\n\u001B[0m\u001B[0;32m     72\u001B[0m     \u001B[0mplot_obj\u001B[0m\u001B[1;33m.\u001B[0m\u001B[0mdraw\u001B[0m\u001B[1;33m(\u001B[0m\u001B[1;33m)\u001B[0m\u001B[1;33m\u001B[0m\u001B[1;33m\u001B[0m\u001B[0m\n\u001B[0;32m     73\u001B[0m     \u001B[1;32mreturn\u001B[0m \u001B[0mplot_obj\u001B[0m\u001B[1;33m.\u001B[0m\u001B[0mresult\u001B[0m\u001B[1;33m\u001B[0m\u001B[1;33m\u001B[0m\u001B[0m\n",
      "\u001B[1;32m~\\Documents\\Uni\\DeepLearninProject\\.venv\\lib\\site-packages\\pandas\\plotting\\_matplotlib\\core.py\u001B[0m in \u001B[0;36mgenerate\u001B[1;34m(self)\u001B[0m\n\u001B[0;32m    285\u001B[0m         \u001B[0mself\u001B[0m\u001B[1;33m.\u001B[0m\u001B[0m_args_adjust\u001B[0m\u001B[1;33m(\u001B[0m\u001B[1;33m)\u001B[0m\u001B[1;33m\u001B[0m\u001B[1;33m\u001B[0m\u001B[0m\n\u001B[0;32m    286\u001B[0m         \u001B[0mself\u001B[0m\u001B[1;33m.\u001B[0m\u001B[0m_compute_plot_data\u001B[0m\u001B[1;33m(\u001B[0m\u001B[1;33m)\u001B[0m\u001B[1;33m\u001B[0m\u001B[1;33m\u001B[0m\u001B[0m\n\u001B[1;32m--> 287\u001B[1;33m         \u001B[0mself\u001B[0m\u001B[1;33m.\u001B[0m\u001B[0m_setup_subplots\u001B[0m\u001B[1;33m(\u001B[0m\u001B[1;33m)\u001B[0m\u001B[1;33m\u001B[0m\u001B[1;33m\u001B[0m\u001B[0m\n\u001B[0m\u001B[0;32m    288\u001B[0m         \u001B[0mself\u001B[0m\u001B[1;33m.\u001B[0m\u001B[0m_make_plot\u001B[0m\u001B[1;33m(\u001B[0m\u001B[1;33m)\u001B[0m\u001B[1;33m\u001B[0m\u001B[1;33m\u001B[0m\u001B[0m\n\u001B[0;32m    289\u001B[0m         \u001B[0mself\u001B[0m\u001B[1;33m.\u001B[0m\u001B[0m_add_table\u001B[0m\u001B[1;33m(\u001B[0m\u001B[1;33m)\u001B[0m\u001B[1;33m\u001B[0m\u001B[1;33m\u001B[0m\u001B[0m\n",
      "\u001B[1;32m~\\Documents\\Uni\\DeepLearninProject\\.venv\\lib\\site-packages\\pandas\\plotting\\_matplotlib\\core.py\u001B[0m in \u001B[0;36m_setup_subplots\u001B[1;34m(self)\u001B[0m\n\u001B[0;32m    339\u001B[0m                 \u001B[0max\u001B[0m\u001B[1;33m=\u001B[0m\u001B[0mself\u001B[0m\u001B[1;33m.\u001B[0m\u001B[0max\u001B[0m\u001B[1;33m,\u001B[0m\u001B[1;33m\u001B[0m\u001B[1;33m\u001B[0m\u001B[0m\n\u001B[0;32m    340\u001B[0m                 \u001B[0mlayout\u001B[0m\u001B[1;33m=\u001B[0m\u001B[0mself\u001B[0m\u001B[1;33m.\u001B[0m\u001B[0mlayout\u001B[0m\u001B[1;33m,\u001B[0m\u001B[1;33m\u001B[0m\u001B[1;33m\u001B[0m\u001B[0m\n\u001B[1;32m--> 341\u001B[1;33m                 \u001B[0mlayout_type\u001B[0m\u001B[1;33m=\u001B[0m\u001B[0mself\u001B[0m\u001B[1;33m.\u001B[0m\u001B[0m_layout_type\u001B[0m\u001B[1;33m,\u001B[0m\u001B[1;33m\u001B[0m\u001B[1;33m\u001B[0m\u001B[0m\n\u001B[0m\u001B[0;32m    342\u001B[0m             )\n\u001B[0;32m    343\u001B[0m         \u001B[1;32melse\u001B[0m\u001B[1;33m:\u001B[0m\u001B[1;33m\u001B[0m\u001B[1;33m\u001B[0m\u001B[0m\n",
      "\u001B[1;32m~\\Documents\\Uni\\DeepLearninProject\\.venv\\lib\\site-packages\\pandas\\plotting\\_matplotlib\\tools.py\u001B[0m in \u001B[0;36mcreate_subplots\u001B[1;34m(naxes, sharex, sharey, squeeze, subplot_kw, ax, layout, layout_type, **fig_kw)\u001B[0m\n\u001B[0;32m    257\u001B[0m             \u001B[0mfig\u001B[0m\u001B[1;33m.\u001B[0m\u001B[0mclear\u001B[0m\u001B[1;33m(\u001B[0m\u001B[1;33m)\u001B[0m\u001B[1;33m\u001B[0m\u001B[1;33m\u001B[0m\u001B[0m\n\u001B[0;32m    258\u001B[0m \u001B[1;33m\u001B[0m\u001B[0m\n\u001B[1;32m--> 259\u001B[1;33m     \u001B[0mnrows\u001B[0m\u001B[1;33m,\u001B[0m \u001B[0mncols\u001B[0m \u001B[1;33m=\u001B[0m \u001B[0m_get_layout\u001B[0m\u001B[1;33m(\u001B[0m\u001B[0mnaxes\u001B[0m\u001B[1;33m,\u001B[0m \u001B[0mlayout\u001B[0m\u001B[1;33m=\u001B[0m\u001B[0mlayout\u001B[0m\u001B[1;33m,\u001B[0m \u001B[0mlayout_type\u001B[0m\u001B[1;33m=\u001B[0m\u001B[0mlayout_type\u001B[0m\u001B[1;33m)\u001B[0m\u001B[1;33m\u001B[0m\u001B[1;33m\u001B[0m\u001B[0m\n\u001B[0m\u001B[0;32m    260\u001B[0m     \u001B[0mnplots\u001B[0m \u001B[1;33m=\u001B[0m \u001B[0mnrows\u001B[0m \u001B[1;33m*\u001B[0m \u001B[0mncols\u001B[0m\u001B[1;33m\u001B[0m\u001B[1;33m\u001B[0m\u001B[0m\n\u001B[0;32m    261\u001B[0m \u001B[1;33m\u001B[0m\u001B[0m\n",
      "\u001B[1;32m~\\Documents\\Uni\\DeepLearninProject\\.venv\\lib\\site-packages\\pandas\\plotting\\_matplotlib\\tools.py\u001B[0m in \u001B[0;36m_get_layout\u001B[1;34m(nplots, layout, layout_type)\u001B[0m\n\u001B[0;32m     96\u001B[0m         \u001B[1;32mif\u001B[0m \u001B[0mnrows\u001B[0m \u001B[1;33m*\u001B[0m \u001B[0mncols\u001B[0m \u001B[1;33m<\u001B[0m \u001B[0mnplots\u001B[0m\u001B[1;33m:\u001B[0m\u001B[1;33m\u001B[0m\u001B[1;33m\u001B[0m\u001B[0m\n\u001B[0;32m     97\u001B[0m             raise ValueError(\n\u001B[1;32m---> 98\u001B[1;33m                 \u001B[1;34mf\"Layout of {nrows}x{ncols} must be larger than required size {nplots}\"\u001B[0m\u001B[1;33m\u001B[0m\u001B[1;33m\u001B[0m\u001B[0m\n\u001B[0m\u001B[0;32m     99\u001B[0m             )\n\u001B[0;32m    100\u001B[0m \u001B[1;33m\u001B[0m\u001B[0m\n",
      "\u001B[1;31mValueError\u001B[0m: Layout of 3x3 must be larger than required size 16"
     ]
    },
    {
     "data": {
      "text/plain": "<Figure size 1000x1000 with 0 Axes>"
     },
     "metadata": {},
     "output_type": "display_data"
    }
   ],
   "source": [
    "myData.plot(kind='box', subplots=True, layout=(3,3), sharex=False, sharey=False, figsize = (10,10))\n",
    "plt.show()"
   ],
   "metadata": {
    "collapsed": false,
    "ExecuteTime": {
     "end_time": "2024-10-29T07:59:19.700272900Z",
     "start_time": "2024-10-29T07:59:19.651671700Z"
    }
   },
   "id": "4859f4939b692114",
   "execution_count": 9
  },
  {
   "cell_type": "code",
   "outputs": [
    {
     "data": {
      "text/plain": "<Figure size 640x480 with 2 Axes>",
      "image/png": "[encoded data removed]"
     },
     "metadata": {},
     "output_type": "display_data"
    }
   ],
   "source": [
    "correlations = myData.corr()\n",
    "# plot correlation matrix\n",
    "myfig = plt.figure()\n",
    "axis = myfig.add_subplot(111) # There is only one subplot or graph;\n",
    "# \"111\" means \"1x1 grid, first subplot\"\n",
    "cax = axis.matshow(correlations, vmin = -1, vmax = 1)\n",
    "myfig.colorbar(cax)\n",
    "ticks = np.arange(0, 9, 1)"
   ],
   "metadata": {
    "collapsed": false,
    "ExecuteTime": {
     "end_time": "2024-10-29T07:59:23.593450700Z",
     "start_time": "2024-10-29T07:59:23.409450100Z"
    }
   },
   "id": "1eb668224cf017e0",
   "execution_count": 10
  },
  {
   "cell_type": "code",
   "outputs": [],
   "source": [
    "from sklearn.preprocessing import LabelEncoder, MinMaxScaler\n",
    "from numpy import set_printoptions\n",
    "\n",
    "label_encoder = LabelEncoder()\n",
    "\n",
    "categorical_columns = ['sex', 'school', 'address', 'famsize', 'Pstatus', 'Mjob', 'Fjob', 'reason', 'guardian', 'schoolsup', 'famsup', 'paid', 'activities', 'nursery', 'higher', 'internet', 'romantic']\n",
    "\n",
    "for col in categorical_columns:\n",
    "    myData[col] = label_encoder.fit_transform(myData[col])"
   ],
   "metadata": {
    "collapsed": false,
    "ExecuteTime": {
     "end_time": "2024-10-29T08:01:14.868097800Z",
     "start_time": "2024-10-29T08:01:14.467381400Z"
    }
   },
   "id": "2a17e22b60c24825",
   "execution_count": 11
  },
  {
   "cell_type": "code",
   "outputs": [
    {
     "name": "stdout",
     "output_type": "stream",
     "text": [
      "[[0.    0.    1.    0.    1.    1.    0.75  1.    0.5   1.    0.5   0.\n",
      "  0.333 0.    0.    0.    0.    0.    1.    1.    1.    0.    0.75  0.75\n",
      "  0.    0.    0.    0.    0.    0.625 0.737 0.75 ]\n",
      " [0.    0.    1.    0.    1.    1.    1.    0.25  0.25  0.667 0.    0.\n",
      "  0.    0.    0.    1.    1.    0.    1.    1.    1.    0.    1.    0.75\n",
      "  0.25  0.    0.    1.    0.    0.562 0.789 0.75 ]\n",
      " [0.    0.143 1.    1.    1.    1.    0.5   1.    0.5   0.    0.5   0.\n",
      "  0.333 0.    0.    0.    0.    1.    1.    1.    1.    0.    0.75  1.\n",
      "  0.    0.    0.5   1.    0.027 0.75  0.789 0.8  ]\n",
      " [0.    0.143 1.    1.    1.    0.5   0.5   0.5   0.5   1.    0.5   0.333\n",
      "  0.333 0.    0.    1.    0.    1.    1.    1.    1.    0.    1.    0.75\n",
      "  0.75  0.25  0.75  1.    0.    0.625 0.684 0.6  ]\n",
      " [0.    0.    0.    0.    1.    0.5   1.    0.75  0.25  0.    0.5   0.\n",
      "  0.667 0.    1.    1.    1.    1.    1.    1.    1.    0.    0.75  0.5\n",
      "  0.25  0.    0.    1.    0.027 0.438 0.474 0.4  ]]\n"
     ]
    }
   ],
   "source": [
    "X = myData.drop('sex', axis=1).values\n",
    "Y = myData['sex'].values\n",
    "\n",
    "mydataScaler = MinMaxScaler(feature_range=(0, 1))\n",
    "mydataRescaled = mydataScaler.fit_transform(X)\n",
    "\n",
    "set_printoptions(precision=3)\n",
    "print(mydataRescaled[20:25, :])"
   ],
   "metadata": {
    "collapsed": false,
    "ExecuteTime": {
     "end_time": "2024-10-29T08:01:21.274451400Z",
     "start_time": "2024-10-29T08:01:21.250418500Z"
    }
   },
   "id": "fc7d20d1d52c2898",
   "execution_count": 13
  },
  {
   "cell_type": "code",
   "outputs": [
    {
     "name": "stdout",
     "output_type": "stream",
     "text": [
      "[[0.    0.496 0.033 0.    0.033 0.132 0.099 0.132 0.066 0.099 0.033 0.033\n",
      "  0.066 0.    0.    0.    0.    0.    0.033 0.033 0.033 0.    0.132 0.132\n",
      "  0.033 0.033 0.033 0.033 0.    0.43  0.463 0.496]\n",
      " [0.    0.49  0.033 0.    0.033 0.131 0.131 0.033 0.033 0.065 0.    0.033\n",
      "  0.033 0.    0.    0.033 0.033 0.    0.033 0.033 0.033 0.    0.163 0.131\n",
      "  0.065 0.033 0.033 0.163 0.    0.392 0.49  0.49 ]\n",
      " [0.    0.483 0.03  0.03  0.03  0.121 0.06  0.121 0.06  0.    0.03  0.03\n",
      "  0.06  0.    0.    0.    0.    0.03  0.03  0.03  0.03  0.    0.121 0.151\n",
      "  0.03  0.03  0.091 0.151 0.06  0.453 0.453 0.483]\n",
      " [0.    0.539 0.034 0.034 0.034 0.067 0.067 0.067 0.067 0.101 0.034 0.067\n",
      "  0.067 0.    0.    0.034 0.    0.034 0.034 0.034 0.034 0.    0.168 0.135\n",
      "  0.135 0.067 0.135 0.168 0.    0.438 0.438 0.404]\n",
      " [0.    0.623 0.    0.    0.042 0.083 0.166 0.125 0.042 0.    0.042 0.042\n",
      "  0.125 0.    0.042 0.042 0.042 0.042 0.042 0.042 0.042 0.    0.166 0.125\n",
      "  0.083 0.042 0.042 0.208 0.083 0.416 0.374 0.332]]\n"
     ]
    }
   ],
   "source": [
    "from sklearn.preprocessing import LabelEncoder, Normalizer\n",
    "\n",
    "myData.replace([np.inf, -np.inf], np.nan, inplace=True)\n",
    "myData.dropna(inplace=True)\n",
    "\n",
    "mydata_train = myData.drop('sex', axis=1).values\n",
    "mydata_label = myData['sex'].values\n",
    "\n",
    "mydataScaler = Normalizer().fit(mydata_train)\n",
    "mydataNormalized = mydataScaler.transform(mydata_train)\n",
    "\n",
    "set_printoptions(precision=3)\n",
    "print(mydataNormalized[20:25, :])"
   ],
   "metadata": {
    "collapsed": false,
    "ExecuteTime": {
     "end_time": "2024-10-29T08:01:28.179950500Z",
     "start_time": "2024-10-29T08:01:28.156947600Z"
    }
   },
   "id": "ddd05633650b0989",
   "execution_count": 14
  },
  {
   "cell_type": "code",
   "outputs": [
    {
     "name": "stdout",
     "output_type": "stream",
     "text": [
      "[[0 1 1 0 0 1 1 0 1 0 1 1 1 0 1 0 0 0 1 1 0 0 1 1 1 1 1 1 1 1 1 1]\n",
      " [0 1 1 0 1 1 1 0 1 0 0 1 1 0 0 1 0 0 0 1 1 0 1 1 1 1 1 1 1 1 1 1]\n",
      " [0 1 1 1 1 1 1 0 1 1 1 1 1 1 1 0 1 0 1 1 1 0 1 1 1 1 1 1 1 1 1 1]\n",
      " [0 1 1 0 1 1 1 1 1 1 1 1 1 0 0 1 1 1 1 1 1 1 1 1 1 1 1 1 1 1 1 1]\n",
      " [0 1 1 0 1 1 1 1 1 1 0 1 1 0 0 1 1 0 1 1 0 0 1 1 1 1 1 1 1 1 1 1]]\n"
     ]
    }
   ],
   "source": [
    "from sklearn.preprocessing import Binarizer\n",
    "\n",
    "mydataBinarizer = Binarizer(threshold=0.0).fit(mydata_train)\n",
    "mydatabinarized = mydataBinarizer.transform(mydata_train)\n",
    "set_printoptions(precision = 3)\n",
    "print(mydatabinarized[0:5,:])"
   ],
   "metadata": {
    "collapsed": false,
    "ExecuteTime": {
     "end_time": "2024-10-29T08:01:31.758229300Z",
     "start_time": "2024-10-29T08:01:31.746225500Z"
    }
   },
   "id": "d1446285c582184",
   "execution_count": 15
  },
  {
   "cell_type": "code",
   "outputs": [
    {
     "name": "stdout",
     "output_type": "stream",
     "text": [
      "[5.933e-02 3.219e-01 3.196e-01 3.199e+00 2.161e-01 2.420e+00 4.787e-01\n",
      " 1.495e+01 2.857e+00 3.645e+00 2.011e+00 1.407e+00 4.068e+01 7.775e-01\n",
      " 7.660e+00 9.247e+00 6.664e+00 3.956e+00 2.644e-02 9.177e+00 7.662e-01\n",
      " 4.134e+00 1.371e+00 2.375e+01 2.277e+00 3.045e+01 3.195e+01 8.273e+00\n",
      " 1.770e+00 3.343e+00 3.289e+00 4.252e+00]\n"
     ]
    }
   ],
   "source": [
    "from sklearn.feature_selection import SelectKBest, f_regression\n",
    "\n",
    "myData.replace([np.inf, -np.inf], np.nan, inplace=True)\n",
    "myData.dropna(inplace=True)\n",
    "\n",
    "min_value = myData.drop('sex', axis=1).min().min()\n",
    "if min_value < 0:\n",
    "    myData += abs(min_value)\n",
    "\n",
    "mydata_train = myData.drop('sex', axis=1).values\n",
    "mydata_label = myData['sex'].values\n",
    "\n",
    "myFeature = SelectKBest(score_func=f_regression, k=4)\n",
    "fit = myFeature.fit(mydata_train, mydata_label)\n",
    "\n",
    "set_printoptions(precision=3)\n",
    "print(fit.scores_)"
   ],
   "metadata": {
    "collapsed": false,
    "ExecuteTime": {
     "end_time": "2024-10-29T08:01:38.068932300Z",
     "start_time": "2024-10-29T08:01:37.957926400Z"
    }
   },
   "id": "77297c4e396677d7",
   "execution_count": 16
  },
  {
   "cell_type": "code",
   "outputs": [
    {
     "name": "stdout",
     "output_type": "stream",
     "text": [
      "Number of features selected: 4\n",
      "Selected features are denoted by True: [False False False False False False False False False False False False\n",
      "  True False  True False False  True False  True False False False False\n",
      " False False False False False False False False]\n",
      "Feature Ranking: [ 4 21 10 16 17 18 24  9 29 22  7 20  1 27  1  5  8  1 12  1 11  2 15  6\n",
      " 14  3 13 19 26 23 28 25]\n"
     ]
    }
   ],
   "source": [
    "from sklearn.feature_selection import RFE\n",
    "from sklearn.linear_model import LinearRegression\n",
    "\n",
    "model = LinearRegression()\n",
    "mydataRFE = RFE(model, n_features_to_select=4)\n",
    "mydataFit = mydataRFE.fit(mydata_train, mydata_label)\n",
    "\n",
    "print(\"Number of features selected: %d\" % mydataFit.n_features_)\n",
    "print(\"Selected features are denoted by True: %s\" % mydataFit.support_)\n",
    "print(\"Feature Ranking: %s\" % mydataFit.ranking_)"
   ],
   "metadata": {
    "collapsed": false,
    "ExecuteTime": {
     "end_time": "2024-10-29T08:01:48.812503600Z",
     "start_time": "2024-10-29T08:01:48.776485900Z"
    }
   },
   "id": "b09d63185809d4cf",
   "execution_count": 17
  },
  {
   "cell_type": "code",
   "outputs": [
    {
     "name": "stdout",
     "output_type": "stream",
     "text": [
      "Explained Variance: [0.497 0.327 0.024]\n",
      "[[-3.469e-03  2.859e-02 -1.503e-03  2.052e-03 -5.154e-03  1.385e-02\n",
      "   3.348e-03  7.922e-03  9.279e-04  1.793e-02  1.107e-02 -1.041e-03\n",
      "  -6.795e-03  6.178e-03  9.324e-04  1.493e-03  5.224e-04 -8.989e-04\n",
      "   9.310e-04 -1.578e-03  4.737e-03  9.078e-03 -5.002e-03 -7.153e-03\n",
      "   6.708e-03  1.297e-02  2.283e-02 -5.294e-03  9.983e-01 -1.488e-02\n",
      "  -1.687e-02  1.825e-02]\n",
      " [ 2.460e-03  2.919e-02 -7.173e-03 -5.681e-03  2.241e-03 -4.008e-02\n",
      "  -3.088e-02 -2.065e-02 -7.833e-03 -2.382e-02  6.163e-03  1.438e-02\n",
      "  -1.733e-02  4.386e-02  6.492e-03  3.998e-03 -7.429e-03 -3.153e-03\n",
      "  -4.230e-03 -6.553e-03 -6.209e-03  7.866e-03 -3.337e-03 -1.019e-04\n",
      "   2.713e-02  1.035e-02  1.798e-02  1.785e-02 -4.542e-03 -4.609e-01\n",
      "  -5.589e-01 -6.829e-01]\n",
      " [ 4.823e-03  1.509e-01 -9.272e-03 -1.235e-02  6.620e-03 -6.438e-03\n",
      "   2.588e-02 -6.144e-02 -7.817e-03  5.526e-02  3.082e-02 -1.199e-02\n",
      "   1.220e-01 -2.808e-02 -3.140e-02 -1.241e-02 -2.303e-02  1.635e-02\n",
      "   1.439e-02  3.007e-03 -8.778e-03  4.580e-02 -2.404e-02 -1.029e-01\n",
      "  -1.737e-01 -1.795e-01 -3.458e-01 -1.701e-01  2.558e-02  6.748e-01\n",
      "   4.899e-02 -5.174e-01]]\n"
     ]
    }
   ],
   "source": [
    "from sklearn.decomposition import PCA\n",
    "\n",
    "pca = PCA(n_components = 3)\n",
    "fit = pca.fit(mydata_train)\n",
    "print(\"Explained Variance: %s\" % fit.explained_variance_ratio_)\n",
    "print(fit.components_)"
   ],
   "metadata": {
    "collapsed": false,
    "ExecuteTime": {
     "end_time": "2024-10-29T08:01:50.455310400Z",
     "start_time": "2024-10-29T08:01:50.430310100Z"
    }
   },
   "id": "c86acca8b82f8d8",
   "execution_count": 18
  },
  {
   "cell_type": "code",
   "outputs": [
    {
     "name": "stdout",
     "output_type": "stream",
     "text": [
      "(395, 8)\n"
     ]
    }
   ],
   "source": [
    "pca=PCA(0.92)\n",
    "selectedFeatures = pca.fit_transform(mydata_train)\n",
    "print (selectedFeatures.shape)"
   ],
   "metadata": {
    "collapsed": false,
    "ExecuteTime": {
     "end_time": "2024-10-29T08:01:51.502360Z",
     "start_time": "2024-10-29T08:01:51.482342500Z"
    }
   },
   "id": "f4b123f9ef30e6e6",
   "execution_count": 19
  },
  {
   "cell_type": "code",
   "outputs": [
    {
     "name": "stdout",
     "output_type": "stream",
     "text": [
      "(395, 18)\n"
     ]
    }
   ],
   "source": [
    "pca=PCA(0.98)\n",
    "selectedFeatures=pca.fit_transform(mydata_train)\n",
    "print (selectedFeatures.shape)"
   ],
   "metadata": {
    "collapsed": false,
    "ExecuteTime": {
     "end_time": "2024-10-29T08:01:52.513141100Z",
     "start_time": "2024-10-29T08:01:52.494118600Z"
    }
   },
   "id": "12909b653d36d221",
   "execution_count": 20
  },
  {
   "cell_type": "code",
   "outputs": [
    {
     "name": "stdout",
     "output_type": "stream",
     "text": [
      "[0.014 0.036 0.018 0.021 0.015 0.032 0.031 0.046 0.03  0.032 0.026 0.025\n",
      " 0.078 0.019 0.02  0.029 0.028 0.029 0.018 0.011 0.018 0.022 0.032 0.047\n",
      " 0.032 0.043 0.061 0.042 0.034 0.04  0.033 0.036]\n"
     ]
    }
   ],
   "source": [
    "import pandas as pd\n",
    "from sklearn.ensemble import ExtraTreesClassifier\n",
    "\n",
    "myData['num'] = pd.cut(myData['sex'], bins=3, labels=[0, 1, 2])\n",
    "mydata_label = myData['sex'].values\n",
    "\n",
    "model = ExtraTreesClassifier()\n",
    "model.fit(mydata_train, mydata_label)\n",
    "print(model.feature_importances_)"
   ],
   "metadata": {
    "collapsed": false,
    "ExecuteTime": {
     "end_time": "2024-10-29T08:01:58.811311400Z",
     "start_time": "2024-10-29T08:01:58.716303600Z"
    }
   },
   "id": "522e63e0ac85fc3b",
   "execution_count": 22
  },
  {
   "cell_type": "code",
   "outputs": [],
   "source": [],
   "metadata": {
    "collapsed": false
   },
   "id": "50f99d5f57132186"
  }
 ],
 "metadata": {
  "kernelspec": {
   "display_name": "Python 3",
   "language": "python",
   "name": "python3"
  },
  "language_info": {
   "codemirror_mode": {
    "name": "ipython",
    "version": 2
   },
   "file_extension": ".py",
   "mimetype": "text/x-python",
   "name": "python",
   "nbconvert_exporter": "python",
   "pygments_lexer": "ipython2",
   "version": "2.7.6"
  }
 },
 "nbformat": 4,
 "nbformat_minor": 5
}
