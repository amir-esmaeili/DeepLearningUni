{
 "cells": [
  {
   "cell_type": "code",
   "execution_count": 1,
   "id": "initial_id",
   "metadata": {
    "collapsed": true,
    "ExecuteTime": {
     "end_time": "2024-10-29T08:02:43.625346500Z",
     "start_time": "2024-10-29T08:02:43.318076100Z"
    }
   },
   "outputs": [
    {
     "name": "stdout",
     "output_type": "stream",
     "text": [
      "(195, 24)\n"
     ]
    }
   ],
   "source": [
    "import numpy as np\n",
    "import pandas as pd\n",
    "myData = pd.read_csv('../data/parkinsons data.csv')\n",
    "print(myData.shape)"
   ]
  },
  {
   "cell_type": "code",
   "outputs": [
    {
     "name": "stdout",
     "output_type": "stream",
     "text": [
      "             name  MDVP:Fo(Hz)  MDVP:Fhi(Hz)  MDVP:Flo(Hz)  MDVP:Jitter(%)  \\\n",
      "0  phon_R01_S01_1      119.992       157.302        74.997         0.00784   \n",
      "1  phon_R01_S01_2      122.400       148.650       113.819         0.00968   \n",
      "2  phon_R01_S01_3      116.682       131.111       111.555         0.01050   \n",
      "3  phon_R01_S01_4      116.676       137.871       111.366         0.00997   \n",
      "4  phon_R01_S01_5      116.014       141.781       110.655         0.01284   \n",
      "5  phon_R01_S01_6      120.552       131.162       113.787         0.00968   \n",
      "6  phon_R01_S02_1      120.267       137.244       114.820         0.00333   \n",
      "7  phon_R01_S02_2      107.332       113.840       104.315         0.00290   \n",
      "8  phon_R01_S02_3       95.730       132.068        91.754         0.00551   \n",
      "9  phon_R01_S02_4       95.056       120.103        91.226         0.00532   \n",
      "\n",
      "   MDVP:Jitter(Abs)  MDVP:RAP  MDVP:PPQ  Jitter:DDP  MDVP:Shimmer  ...  \\\n",
      "0           0.00007   0.00370   0.00554     0.01109       0.04374  ...   \n",
      "1           0.00008   0.00465   0.00696     0.01394       0.06134  ...   \n",
      "2           0.00009   0.00544   0.00781     0.01633       0.05233  ...   \n",
      "3           0.00009   0.00502   0.00698     0.01505       0.05492  ...   \n",
      "4           0.00011   0.00655   0.00908     0.01966       0.06425  ...   \n",
      "5           0.00008   0.00463   0.00750     0.01388       0.04701  ...   \n",
      "6           0.00003   0.00155   0.00202     0.00466       0.01608  ...   \n",
      "7           0.00003   0.00144   0.00182     0.00431       0.01567  ...   \n",
      "8           0.00006   0.00293   0.00332     0.00880       0.02093  ...   \n",
      "9           0.00006   0.00268   0.00332     0.00803       0.02838  ...   \n",
      "\n",
      "   Shimmer:DDA      NHR     HNR  status      RPDE       DFA   spread1  \\\n",
      "0      0.06545  0.02211  21.033       1  0.414783  0.815285 -4.813031   \n",
      "1      0.09403  0.01929  19.085       1  0.458359  0.819521 -4.075192   \n",
      "2      0.08270  0.01309  20.651       1  0.429895  0.825288 -4.443179   \n",
      "3      0.08771  0.01353  20.644       1  0.434969  0.819235 -4.117501   \n",
      "4      0.10470  0.01767  19.649       1  0.417356  0.823484 -3.747787   \n",
      "5      0.06985  0.01222  21.378       1  0.415564  0.825069 -4.242867   \n",
      "6      0.02337  0.00607  24.886       1  0.596040  0.764112 -5.634322   \n",
      "7      0.02487  0.00344  26.892       1  0.637420  0.763262 -6.167603   \n",
      "8      0.03218  0.01070  21.812       1  0.615551  0.773587 -5.498678   \n",
      "9      0.04324  0.01022  21.862       1  0.547037  0.798463 -5.011879   \n",
      "\n",
      "    spread2        D2       PPE  \n",
      "0  0.266482  2.301442  0.284654  \n",
      "1  0.335590  2.486855  0.368674  \n",
      "2  0.311173  2.342259  0.332634  \n",
      "3  0.334147  2.405554  0.368975  \n",
      "4  0.234513  2.332180  0.410335  \n",
      "5  0.299111  2.187560  0.357775  \n",
      "6  0.257682  1.854785  0.211756  \n",
      "7  0.183721  2.064693  0.163755  \n",
      "8  0.327769  2.322511  0.231571  \n",
      "9  0.325996  2.432792  0.271362  \n",
      "\n",
      "[10 rows x 24 columns]\n"
     ]
    }
   ],
   "source": [
    "peek = myData.head(10)\n",
    "print(peek)"
   ],
   "metadata": {
    "collapsed": false,
    "ExecuteTime": {
     "end_time": "2024-10-29T08:02:44.717583700Z",
     "start_time": "2024-10-29T08:02:44.696564500Z"
    }
   },
   "id": "f9e165253c8f0c5f",
   "execution_count": 2
  },
  {
   "cell_type": "code",
   "outputs": [
    {
     "name": "stdout",
     "output_type": "stream",
     "text": [
      "(195, 24)\n"
     ]
    }
   ],
   "source": [
    "shape = myData.shape\n",
    "print(shape)"
   ],
   "metadata": {
    "collapsed": false,
    "ExecuteTime": {
     "end_time": "2024-10-29T08:02:45.452634600Z",
     "start_time": "2024-10-29T08:02:45.442574500Z"
    }
   },
   "id": "3c4da3a492eb3c79",
   "execution_count": 3
  },
  {
   "cell_type": "code",
   "outputs": [
    {
     "name": "stdout",
     "output_type": "stream",
     "text": [
      "name                 object\n",
      "MDVP:Fo(Hz)         float64\n",
      "MDVP:Fhi(Hz)        float64\n",
      "MDVP:Flo(Hz)        float64\n",
      "MDVP:Jitter(%)      float64\n",
      "MDVP:Jitter(Abs)    float64\n",
      "MDVP:RAP            float64\n",
      "MDVP:PPQ            float64\n",
      "Jitter:DDP          float64\n",
      "MDVP:Shimmer        float64\n",
      "MDVP:Shimmer(dB)    float64\n",
      "Shimmer:APQ3        float64\n",
      "Shimmer:APQ5        float64\n",
      "MDVP:APQ            float64\n",
      "Shimmer:DDA         float64\n",
      "NHR                 float64\n",
      "HNR                 float64\n",
      "status                int64\n",
      "RPDE                float64\n",
      "DFA                 float64\n",
      "spread1             float64\n",
      "spread2             float64\n",
      "D2                  float64\n",
      "PPE                 float64\n",
      "dtype: object\n"
     ]
    }
   ],
   "source": [
    "types = myData.dtypes\n",
    "print(types)"
   ],
   "metadata": {
    "collapsed": false,
    "ExecuteTime": {
     "end_time": "2024-10-29T08:02:46.355684Z",
     "start_time": "2024-10-29T08:02:46.324686800Z"
    }
   },
   "id": "f2355301eef161ef",
   "execution_count": 4
  },
  {
   "cell_type": "code",
   "outputs": [
    {
     "name": "stdout",
     "output_type": "stream",
     "text": [
      "status\n",
      "0     48\n",
      "1    147\n",
      "dtype: int64\n"
     ]
    }
   ],
   "source": [
    "outcome_counts = myData.groupby('status').size()\n",
    "print(outcome_counts)"
   ],
   "metadata": {
    "collapsed": false,
    "ExecuteTime": {
     "end_time": "2024-10-29T08:02:56.938607600Z",
     "start_time": "2024-10-29T08:02:56.919608400Z"
    }
   },
   "id": "c37eb3e2836bd018",
   "execution_count": 5
  },
  {
   "cell_type": "code",
   "outputs": [
    {
     "name": "stdout",
     "output_type": "stream",
     "text": [
      "                  MDVP:Fo(Hz)  MDVP:Fhi(Hz)  MDVP:Flo(Hz)  MDVP:Jitter(%)  MDVP:Jitter(Abs)  \\\n",
      "MDVP:Fo(Hz)             1.000         0.401         0.597          -0.118            -0.382   \n",
      "MDVP:Fhi(Hz)            0.401         1.000         0.085           0.102            -0.029   \n",
      "MDVP:Flo(Hz)            0.597         0.085         1.000          -0.140            -0.278   \n",
      "MDVP:Jitter(%)         -0.118         0.102        -0.140           1.000             0.936   \n",
      "MDVP:Jitter(Abs)       -0.382        -0.029        -0.278           0.936             1.000   \n",
      "MDVP:RAP               -0.076         0.097        -0.101           0.990             0.923   \n",
      "MDVP:PPQ               -0.112         0.091        -0.096           0.974             0.898   \n",
      "Jitter:DDP             -0.076         0.097        -0.100           0.990             0.923   \n",
      "MDVP:Shimmer           -0.098         0.002        -0.145           0.769             0.703   \n",
      "MDVP:Shimmer(dB)       -0.074         0.043        -0.119           0.804             0.717   \n",
      "Shimmer:APQ3           -0.095        -0.004        -0.151           0.747             0.697   \n",
      "Shimmer:APQ5           -0.071        -0.010        -0.101           0.726             0.649   \n",
      "MDVP:APQ               -0.078         0.005        -0.107           0.758             0.649   \n",
      "Shimmer:DDA            -0.095        -0.004        -0.151           0.747             0.697   \n",
      "NHR                    -0.022         0.164        -0.109           0.907             0.835   \n",
      "HNR                     0.059        -0.025         0.211          -0.728            -0.657   \n",
      "status                 -0.384        -0.166        -0.380           0.278             0.339   \n",
      "RPDE                   -0.384        -0.112        -0.400           0.361             0.442   \n",
      "DFA                    -0.446        -0.343        -0.050           0.099             0.175   \n",
      "spread1                -0.414        -0.077        -0.395           0.694             0.736   \n",
      "spread2                -0.249        -0.003        -0.244           0.385             0.389   \n",
      "D2                      0.178         0.176        -0.101           0.433             0.311   \n",
      "PPE                    -0.372        -0.070        -0.340           0.722             0.748   \n",
      "\n",
      "                  MDVP:RAP  MDVP:PPQ  Jitter:DDP  MDVP:Shimmer  MDVP:Shimmer(dB)  ...  \\\n",
      "MDVP:Fo(Hz)         -0.076    -0.112      -0.076        -0.098            -0.074  ...   \n",
      "MDVP:Fhi(Hz)         0.097     0.091       0.097         0.002             0.043  ...   \n",
      "MDVP:Flo(Hz)        -0.101    -0.096      -0.100        -0.145            -0.119  ...   \n",
      "MDVP:Jitter(%)       0.990     0.974       0.990         0.769             0.804  ...   \n",
      "MDVP:Jitter(Abs)     0.923     0.898       0.923         0.703             0.717  ...   \n",
      "MDVP:RAP             1.000     0.957       1.000         0.760             0.791  ...   \n",
      "MDVP:PPQ             0.957     1.000       0.957         0.798             0.839  ...   \n",
      "Jitter:DDP           1.000     0.957       1.000         0.760             0.791  ...   \n",
      "MDVP:Shimmer         0.760     0.798       0.760         1.000             0.987  ...   \n",
      "MDVP:Shimmer(dB)     0.791     0.839       0.791         0.987             1.000  ...   \n",
      "Shimmer:APQ3         0.745     0.764       0.745         0.988             0.963  ...   \n",
      "Shimmer:APQ5         0.710     0.787       0.710         0.983             0.974  ...   \n",
      "MDVP:APQ             0.737     0.804       0.737         0.950             0.961  ...   \n",
      "Shimmer:DDA          0.745     0.764       0.745         0.988             0.963  ...   \n",
      "NHR                  0.920     0.845       0.920         0.722             0.744  ...   \n",
      "HNR                 -0.722    -0.732      -0.721        -0.835            -0.828  ...   \n",
      "status               0.267     0.289       0.267         0.367             0.351  ...   \n",
      "RPDE                 0.342     0.333       0.342         0.447             0.411  ...   \n",
      "DFA                  0.064     0.196       0.064         0.160             0.165  ...   \n",
      "spread1              0.648     0.716       0.648         0.655             0.653  ...   \n",
      "spread2              0.324     0.408       0.324         0.452             0.454  ...   \n",
      "D2                   0.427     0.413       0.427         0.507             0.512  ...   \n",
      "PPE                  0.671     0.770       0.671         0.694             0.695  ...   \n",
      "\n",
      "                  Shimmer:DDA    NHR    HNR  status   RPDE    DFA  spread1  spread2     D2    PPE  \n",
      "MDVP:Fo(Hz)            -0.095 -0.022  0.059  -0.384 -0.384 -0.446   -0.414   -0.249  0.178 -0.372  \n",
      "MDVP:Fhi(Hz)           -0.004  0.164 -0.025  -0.166 -0.112 -0.343   -0.077   -0.003  0.176 -0.070  \n",
      "MDVP:Flo(Hz)           -0.151 -0.109  0.211  -0.380 -0.400 -0.050   -0.395   -0.244 -0.101 -0.340  \n",
      "MDVP:Jitter(%)          0.747  0.907 -0.728   0.278  0.361  0.099    0.694    0.385  0.433  0.722  \n",
      "MDVP:Jitter(Abs)        0.697  0.835 -0.657   0.339  0.442  0.175    0.736    0.389  0.311  0.748  \n",
      "MDVP:RAP                0.745  0.920 -0.722   0.267  0.342  0.064    0.648    0.324  0.427  0.671  \n",
      "MDVP:PPQ                0.764  0.845 -0.732   0.289  0.333  0.196    0.716    0.408  0.413  0.770  \n",
      "Jitter:DDP              0.745  0.920 -0.721   0.267  0.342  0.064    0.648    0.324  0.427  0.671  \n",
      "MDVP:Shimmer            0.988  0.722 -0.835   0.367  0.447  0.160    0.655    0.452  0.507  0.694  \n",
      "MDVP:Shimmer(dB)        0.963  0.744 -0.828   0.351  0.411  0.165    0.653    0.454  0.512  0.695  \n",
      "Shimmer:APQ3            1.000  0.716 -0.827   0.348  0.435  0.151    0.611    0.402  0.467  0.645  \n",
      "Shimmer:APQ5            0.960  0.658 -0.814   0.351  0.400  0.214    0.647    0.457  0.502  0.702  \n",
      "MDVP:APQ                0.897  0.694 -0.800   0.364  0.451  0.157    0.673    0.502  0.537  0.722  \n",
      "Shimmer:DDA             1.000  0.716 -0.827   0.348  0.435  0.151    0.611    0.402  0.467  0.645  \n",
      "NHR                     0.716  1.000 -0.714   0.189  0.371 -0.132    0.541    0.318  0.471  0.553  \n",
      "HNR                    -0.827 -0.714  1.000  -0.362 -0.599 -0.009   -0.673   -0.432 -0.601 -0.693  \n",
      "status                  0.348  0.189 -0.362   1.000  0.309  0.232    0.565    0.455  0.340  0.531  \n",
      "RPDE                    0.435  0.371 -0.599   0.309  1.000 -0.111    0.591    0.480  0.237  0.546  \n",
      "DFA                     0.151 -0.132 -0.009   0.232 -0.111  1.000    0.196    0.167 -0.165  0.270  \n",
      "spread1                 0.611  0.541 -0.673   0.565  0.591  0.196    1.000    0.652  0.495  0.962  \n",
      "spread2                 0.402  0.318 -0.432   0.455  0.480  0.167    0.652    1.000  0.524  0.645  \n",
      "D2                      0.467  0.471 -0.601   0.340  0.237 -0.165    0.495    0.524  1.000  0.481  \n",
      "PPE                     0.645  0.553 -0.693   0.531  0.546  0.270    0.962    0.645  0.481  1.000  \n",
      "\n",
      "[23 rows x 23 columns]\n"
     ]
    }
   ],
   "source": [
    "from pandas import set_option\n",
    "\n",
    "set_option('display.width', 100)\n",
    "set_option('precision', 3)\n",
    "correlations = myData.corr(method = 'pearson')\n",
    "print(correlations)"
   ],
   "metadata": {
    "collapsed": false,
    "ExecuteTime": {
     "end_time": "2024-10-29T08:03:00.400771300Z",
     "start_time": "2024-10-29T08:03:00.368673100Z"
    }
   },
   "id": "1a2de44d2b9cecaf",
   "execution_count": 6
  },
  {
   "cell_type": "code",
   "outputs": [
    {
     "data": {
      "text/plain": "<AxesSubplot:ylabel='Frequency'>"
     },
     "execution_count": 7,
     "metadata": {},
     "output_type": "execute_result"
    },
    {
     "data": {
      "text/plain": "<Figure size 640x480 with 1 Axes>",
      "image/png": "[encoded data removed]"
     },
     "metadata": {},
     "output_type": "display_data"
    }
   ],
   "source": [
    "import matplotlib.pyplot as plt\n",
    "myData.plot.hist()"
   ],
   "metadata": {
    "collapsed": false,
    "ExecuteTime": {
     "end_time": "2024-10-29T08:03:03.468400100Z",
     "start_time": "2024-10-29T08:03:02.091145300Z"
    }
   },
   "id": "8e41194f39bdcb37",
   "execution_count": 7
  },
  {
   "cell_type": "code",
   "outputs": [
    {
     "ename": "ValueError",
     "evalue": "Layout of 3x3 must be larger than required size 23",
     "output_type": "error",
     "traceback": [
      "\u001B[1;31m---------------------------------------------------------------------------\u001B[0m",
      "\u001B[1;31mValueError\u001B[0m                                Traceback (most recent call last)",
      "\u001B[1;32m~\\AppData\\Local\\Temp\\ipykernel_5540\\909650294.py\u001B[0m in \u001B[0;36m<module>\u001B[1;34m\u001B[0m\n\u001B[1;32m----> 1\u001B[1;33m \u001B[0mmyData\u001B[0m\u001B[1;33m.\u001B[0m\u001B[0mplot\u001B[0m\u001B[1;33m(\u001B[0m\u001B[0mkind\u001B[0m\u001B[1;33m=\u001B[0m\u001B[1;34m'box'\u001B[0m\u001B[1;33m,\u001B[0m \u001B[0msubplots\u001B[0m\u001B[1;33m=\u001B[0m\u001B[1;32mTrue\u001B[0m\u001B[1;33m,\u001B[0m \u001B[0mlayout\u001B[0m\u001B[1;33m=\u001B[0m\u001B[1;33m(\u001B[0m\u001B[1;36m3\u001B[0m\u001B[1;33m,\u001B[0m\u001B[1;36m3\u001B[0m\u001B[1;33m)\u001B[0m\u001B[1;33m,\u001B[0m \u001B[0msharex\u001B[0m\u001B[1;33m=\u001B[0m\u001B[1;32mFalse\u001B[0m\u001B[1;33m,\u001B[0m \u001B[0msharey\u001B[0m\u001B[1;33m=\u001B[0m\u001B[1;32mFalse\u001B[0m\u001B[1;33m,\u001B[0m \u001B[0mfigsize\u001B[0m \u001B[1;33m=\u001B[0m \u001B[1;33m(\u001B[0m\u001B[1;36m10\u001B[0m\u001B[1;33m,\u001B[0m\u001B[1;36m10\u001B[0m\u001B[1;33m)\u001B[0m\u001B[1;33m)\u001B[0m\u001B[1;33m\u001B[0m\u001B[1;33m\u001B[0m\u001B[0m\n\u001B[0m\u001B[0;32m      2\u001B[0m \u001B[0mplt\u001B[0m\u001B[1;33m.\u001B[0m\u001B[0mshow\u001B[0m\u001B[1;33m(\u001B[0m\u001B[1;33m)\u001B[0m\u001B[1;33m\u001B[0m\u001B[1;33m\u001B[0m\u001B[0m\n",
      "\u001B[1;32m~\\Documents\\Uni\\DeepLearninProject\\.venv\\lib\\site-packages\\pandas\\plotting\\_core.py\u001B[0m in \u001B[0;36m__call__\u001B[1;34m(self, *args, **kwargs)\u001B[0m\n\u001B[0;32m    970\u001B[0m                     \u001B[0mdata\u001B[0m\u001B[1;33m.\u001B[0m\u001B[0mcolumns\u001B[0m \u001B[1;33m=\u001B[0m \u001B[0mlabel_name\u001B[0m\u001B[1;33m\u001B[0m\u001B[1;33m\u001B[0m\u001B[0m\n\u001B[0;32m    971\u001B[0m \u001B[1;33m\u001B[0m\u001B[0m\n\u001B[1;32m--> 972\u001B[1;33m         \u001B[1;32mreturn\u001B[0m \u001B[0mplot_backend\u001B[0m\u001B[1;33m.\u001B[0m\u001B[0mplot\u001B[0m\u001B[1;33m(\u001B[0m\u001B[0mdata\u001B[0m\u001B[1;33m,\u001B[0m \u001B[0mkind\u001B[0m\u001B[1;33m=\u001B[0m\u001B[0mkind\u001B[0m\u001B[1;33m,\u001B[0m \u001B[1;33m**\u001B[0m\u001B[0mkwargs\u001B[0m\u001B[1;33m)\u001B[0m\u001B[1;33m\u001B[0m\u001B[1;33m\u001B[0m\u001B[0m\n\u001B[0m\u001B[0;32m    973\u001B[0m \u001B[1;33m\u001B[0m\u001B[0m\n\u001B[0;32m    974\u001B[0m     \u001B[0m__call__\u001B[0m\u001B[1;33m.\u001B[0m\u001B[0m__doc__\u001B[0m \u001B[1;33m=\u001B[0m \u001B[0m__doc__\u001B[0m\u001B[1;33m\u001B[0m\u001B[1;33m\u001B[0m\u001B[0m\n",
      "\u001B[1;32m~\\Documents\\Uni\\DeepLearninProject\\.venv\\lib\\site-packages\\pandas\\plotting\\_matplotlib\\__init__.py\u001B[0m in \u001B[0;36mplot\u001B[1;34m(data, kind, **kwargs)\u001B[0m\n\u001B[0;32m     69\u001B[0m             \u001B[0mkwargs\u001B[0m\u001B[1;33m[\u001B[0m\u001B[1;34m\"ax\"\u001B[0m\u001B[1;33m]\u001B[0m \u001B[1;33m=\u001B[0m \u001B[0mgetattr\u001B[0m\u001B[1;33m(\u001B[0m\u001B[0max\u001B[0m\u001B[1;33m,\u001B[0m \u001B[1;34m\"left_ax\"\u001B[0m\u001B[1;33m,\u001B[0m \u001B[0max\u001B[0m\u001B[1;33m)\u001B[0m\u001B[1;33m\u001B[0m\u001B[1;33m\u001B[0m\u001B[0m\n\u001B[0;32m     70\u001B[0m     \u001B[0mplot_obj\u001B[0m \u001B[1;33m=\u001B[0m \u001B[0mPLOT_CLASSES\u001B[0m\u001B[1;33m[\u001B[0m\u001B[0mkind\u001B[0m\u001B[1;33m]\u001B[0m\u001B[1;33m(\u001B[0m\u001B[0mdata\u001B[0m\u001B[1;33m,\u001B[0m \u001B[1;33m**\u001B[0m\u001B[0mkwargs\u001B[0m\u001B[1;33m)\u001B[0m\u001B[1;33m\u001B[0m\u001B[1;33m\u001B[0m\u001B[0m\n\u001B[1;32m---> 71\u001B[1;33m     \u001B[0mplot_obj\u001B[0m\u001B[1;33m.\u001B[0m\u001B[0mgenerate\u001B[0m\u001B[1;33m(\u001B[0m\u001B[1;33m)\u001B[0m\u001B[1;33m\u001B[0m\u001B[1;33m\u001B[0m\u001B[0m\n\u001B[0m\u001B[0;32m     72\u001B[0m     \u001B[0mplot_obj\u001B[0m\u001B[1;33m.\u001B[0m\u001B[0mdraw\u001B[0m\u001B[1;33m(\u001B[0m\u001B[1;33m)\u001B[0m\u001B[1;33m\u001B[0m\u001B[1;33m\u001B[0m\u001B[0m\n\u001B[0;32m     73\u001B[0m     \u001B[1;32mreturn\u001B[0m \u001B[0mplot_obj\u001B[0m\u001B[1;33m.\u001B[0m\u001B[0mresult\u001B[0m\u001B[1;33m\u001B[0m\u001B[1;33m\u001B[0m\u001B[0m\n",
      "\u001B[1;32m~\\Documents\\Uni\\DeepLearninProject\\.venv\\lib\\site-packages\\pandas\\plotting\\_matplotlib\\core.py\u001B[0m in \u001B[0;36mgenerate\u001B[1;34m(self)\u001B[0m\n\u001B[0;32m    285\u001B[0m         \u001B[0mself\u001B[0m\u001B[1;33m.\u001B[0m\u001B[0m_args_adjust\u001B[0m\u001B[1;33m(\u001B[0m\u001B[1;33m)\u001B[0m\u001B[1;33m\u001B[0m\u001B[1;33m\u001B[0m\u001B[0m\n\u001B[0;32m    286\u001B[0m         \u001B[0mself\u001B[0m\u001B[1;33m.\u001B[0m\u001B[0m_compute_plot_data\u001B[0m\u001B[1;33m(\u001B[0m\u001B[1;33m)\u001B[0m\u001B[1;33m\u001B[0m\u001B[1;33m\u001B[0m\u001B[0m\n\u001B[1;32m--> 287\u001B[1;33m         \u001B[0mself\u001B[0m\u001B[1;33m.\u001B[0m\u001B[0m_setup_subplots\u001B[0m\u001B[1;33m(\u001B[0m\u001B[1;33m)\u001B[0m\u001B[1;33m\u001B[0m\u001B[1;33m\u001B[0m\u001B[0m\n\u001B[0m\u001B[0;32m    288\u001B[0m         \u001B[0mself\u001B[0m\u001B[1;33m.\u001B[0m\u001B[0m_make_plot\u001B[0m\u001B[1;33m(\u001B[0m\u001B[1;33m)\u001B[0m\u001B[1;33m\u001B[0m\u001B[1;33m\u001B[0m\u001B[0m\n\u001B[0;32m    289\u001B[0m         \u001B[0mself\u001B[0m\u001B[1;33m.\u001B[0m\u001B[0m_add_table\u001B[0m\u001B[1;33m(\u001B[0m\u001B[1;33m)\u001B[0m\u001B[1;33m\u001B[0m\u001B[1;33m\u001B[0m\u001B[0m\n",
      "\u001B[1;32m~\\Documents\\Uni\\DeepLearninProject\\.venv\\lib\\site-packages\\pandas\\plotting\\_matplotlib\\core.py\u001B[0m in \u001B[0;36m_setup_subplots\u001B[1;34m(self)\u001B[0m\n\u001B[0;32m    339\u001B[0m                 \u001B[0max\u001B[0m\u001B[1;33m=\u001B[0m\u001B[0mself\u001B[0m\u001B[1;33m.\u001B[0m\u001B[0max\u001B[0m\u001B[1;33m,\u001B[0m\u001B[1;33m\u001B[0m\u001B[1;33m\u001B[0m\u001B[0m\n\u001B[0;32m    340\u001B[0m                 \u001B[0mlayout\u001B[0m\u001B[1;33m=\u001B[0m\u001B[0mself\u001B[0m\u001B[1;33m.\u001B[0m\u001B[0mlayout\u001B[0m\u001B[1;33m,\u001B[0m\u001B[1;33m\u001B[0m\u001B[1;33m\u001B[0m\u001B[0m\n\u001B[1;32m--> 341\u001B[1;33m                 \u001B[0mlayout_type\u001B[0m\u001B[1;33m=\u001B[0m\u001B[0mself\u001B[0m\u001B[1;33m.\u001B[0m\u001B[0m_layout_type\u001B[0m\u001B[1;33m,\u001B[0m\u001B[1;33m\u001B[0m\u001B[1;33m\u001B[0m\u001B[0m\n\u001B[0m\u001B[0;32m    342\u001B[0m             )\n\u001B[0;32m    343\u001B[0m         \u001B[1;32melse\u001B[0m\u001B[1;33m:\u001B[0m\u001B[1;33m\u001B[0m\u001B[1;33m\u001B[0m\u001B[0m\n",
      "\u001B[1;32m~\\Documents\\Uni\\DeepLearninProject\\.venv\\lib\\site-packages\\pandas\\plotting\\_matplotlib\\tools.py\u001B[0m in \u001B[0;36mcreate_subplots\u001B[1;34m(naxes, sharex, sharey, squeeze, subplot_kw, ax, layout, layout_type, **fig_kw)\u001B[0m\n\u001B[0;32m    257\u001B[0m             \u001B[0mfig\u001B[0m\u001B[1;33m.\u001B[0m\u001B[0mclear\u001B[0m\u001B[1;33m(\u001B[0m\u001B[1;33m)\u001B[0m\u001B[1;33m\u001B[0m\u001B[1;33m\u001B[0m\u001B[0m\n\u001B[0;32m    258\u001B[0m \u001B[1;33m\u001B[0m\u001B[0m\n\u001B[1;32m--> 259\u001B[1;33m     \u001B[0mnrows\u001B[0m\u001B[1;33m,\u001B[0m \u001B[0mncols\u001B[0m \u001B[1;33m=\u001B[0m \u001B[0m_get_layout\u001B[0m\u001B[1;33m(\u001B[0m\u001B[0mnaxes\u001B[0m\u001B[1;33m,\u001B[0m \u001B[0mlayout\u001B[0m\u001B[1;33m=\u001B[0m\u001B[0mlayout\u001B[0m\u001B[1;33m,\u001B[0m \u001B[0mlayout_type\u001B[0m\u001B[1;33m=\u001B[0m\u001B[0mlayout_type\u001B[0m\u001B[1;33m)\u001B[0m\u001B[1;33m\u001B[0m\u001B[1;33m\u001B[0m\u001B[0m\n\u001B[0m\u001B[0;32m    260\u001B[0m     \u001B[0mnplots\u001B[0m \u001B[1;33m=\u001B[0m \u001B[0mnrows\u001B[0m \u001B[1;33m*\u001B[0m \u001B[0mncols\u001B[0m\u001B[1;33m\u001B[0m\u001B[1;33m\u001B[0m\u001B[0m\n\u001B[0;32m    261\u001B[0m \u001B[1;33m\u001B[0m\u001B[0m\n",
      "\u001B[1;32m~\\Documents\\Uni\\DeepLearninProject\\.venv\\lib\\site-packages\\pandas\\plotting\\_matplotlib\\tools.py\u001B[0m in \u001B[0;36m_get_layout\u001B[1;34m(nplots, layout, layout_type)\u001B[0m\n\u001B[0;32m     96\u001B[0m         \u001B[1;32mif\u001B[0m \u001B[0mnrows\u001B[0m \u001B[1;33m*\u001B[0m \u001B[0mncols\u001B[0m \u001B[1;33m<\u001B[0m \u001B[0mnplots\u001B[0m\u001B[1;33m:\u001B[0m\u001B[1;33m\u001B[0m\u001B[1;33m\u001B[0m\u001B[0m\n\u001B[0;32m     97\u001B[0m             raise ValueError(\n\u001B[1;32m---> 98\u001B[1;33m                 \u001B[1;34mf\"Layout of {nrows}x{ncols} must be larger than required size {nplots}\"\u001B[0m\u001B[1;33m\u001B[0m\u001B[1;33m\u001B[0m\u001B[0m\n\u001B[0m\u001B[0;32m     99\u001B[0m             )\n\u001B[0;32m    100\u001B[0m \u001B[1;33m\u001B[0m\u001B[0m\n",
      "\u001B[1;31mValueError\u001B[0m: Layout of 3x3 must be larger than required size 23"
     ]
    },
    {
     "data": {
      "text/plain": "<Figure size 1000x1000 with 0 Axes>"
     },
     "metadata": {},
     "output_type": "display_data"
    }
   ],
   "source": [
    "myData.plot(kind='box', subplots=True, layout=(3,3), sharex=False, sharey=False, figsize = (10,10))\n",
    "plt.show()"
   ],
   "metadata": {
    "collapsed": false,
    "ExecuteTime": {
     "end_time": "2024-10-29T08:03:05.515987800Z",
     "start_time": "2024-10-29T08:03:05.410977200Z"
    }
   },
   "id": "4859f4939b692114",
   "execution_count": 8
  },
  {
   "cell_type": "code",
   "outputs": [
    {
     "data": {
      "text/plain": "<Figure size 640x480 with 2 Axes>",
      "image/png": "[encoded data removed]"
     },
     "metadata": {},
     "output_type": "display_data"
    }
   ],
   "source": [
    "correlations = myData.corr()\n",
    "# plot correlation matrix\n",
    "myfig = plt.figure()\n",
    "axis = myfig.add_subplot(111) # There is only one subplot or graph;\n",
    "# \"111\" means \"1x1 grid, first subplot\"\n",
    "cax = axis.matshow(correlations, vmin = -1, vmax = 1)\n",
    "myfig.colorbar(cax)\n",
    "ticks = np.arange(0, 9, 1)"
   ],
   "metadata": {
    "collapsed": false,
    "ExecuteTime": {
     "end_time": "2024-10-29T08:03:07.838247400Z",
     "start_time": "2024-10-29T08:03:07.668248300Z"
    }
   },
   "id": "1eb668224cf017e0",
   "execution_count": 9
  },
  {
   "cell_type": "code",
   "outputs": [],
   "source": [
    "from sklearn.preprocessing import LabelEncoder, MinMaxScaler\n",
    "from numpy import set_printoptions\n",
    "\n",
    "label_encoder = LabelEncoder()\n",
    "\n",
    "categorical_columns = ['name']\n",
    "\n",
    "for col in categorical_columns:\n",
    "    myData[col] = label_encoder.fit_transform(myData[col])"
   ],
   "metadata": {
    "collapsed": false,
    "ExecuteTime": {
     "end_time": "2024-10-29T08:03:27.293757800Z",
     "start_time": "2024-10-29T08:03:26.811935300Z"
    }
   },
   "id": "2a17e22b60c24825",
   "execution_count": 10
  },
  {
   "cell_type": "code",
   "outputs": [
    {
     "name": "stdout",
     "output_type": "stream",
     "text": [
      "[[0.103 0.381 0.13  0.002 0.213 0.17  0.173 0.192 0.174 0.261 0.2   0.233\n",
      "  0.246 0.255 0.233 0.121 0.37  0.942 0.517 0.7   0.577 0.586 0.665]\n",
      " [0.108 0.382 0.144 0.073 0.099 0.091 0.079 0.094 0.079 0.291 0.234 0.302\n",
      "  0.274 0.291 0.302 0.057 0.449 0.869 0.497 0.502 0.521 0.505 0.446]\n",
      " [0.113 0.463 0.186 0.078 0.087 0.091 0.073 0.083 0.073 0.31  0.24  0.341\n",
      "  0.267 0.27  0.342 0.039 0.57  0.846 0.421 0.657 0.577 0.664 0.499]\n",
      " [0.119 0.498 0.185 0.119 0.098 0.091 0.074 0.089 0.074 0.296 0.229 0.334\n",
      "  0.258 0.234 0.334 0.056 0.487 0.655 0.449 0.491 0.459 0.5   0.433]\n",
      " [0.124 0.439 0.201 0.065 0.182 0.17  0.15  0.16  0.15  0.064 0.065 0.055\n",
      "  0.051 0.06  0.055 0.055 0.625 0.33  0.63  0.435 0.483 0.564 0.355]]\n"
     ]
    }
   ],
   "source": [
    "X = myData.drop('status', axis=1).values\n",
    "Y = myData['status'].values\n",
    "\n",
    "mydataScaler = MinMaxScaler(feature_range=(0, 1))\n",
    "mydataRescaled = mydataScaler.fit_transform(X)\n",
    "\n",
    "set_printoptions(precision=3)\n",
    "print(mydataRescaled[20:25, :])"
   ],
   "metadata": {
    "collapsed": false,
    "ExecuteTime": {
     "end_time": "2024-10-29T08:03:32.330120100Z",
     "start_time": "2024-10-29T08:03:32.308116900Z"
    }
   },
   "id": "fc7d20d1d52c2898",
   "execution_count": 12
  },
  {
   "cell_type": "code",
   "outputs": [
    {
     "name": "stdout",
     "output_type": "stream",
     "text": [
      "[[ 8.437e-02  6.490e-01  6.991e-01  2.775e-01  3.543e-05  2.109e-07\n",
      "   1.805e-05  1.898e-05  5.421e-05  1.607e-04  1.384e-03  7.032e-05\n",
      "   1.005e-04  1.711e-04  2.109e-04  1.633e-04  7.397e-02  2.785e-03\n",
      "   2.970e-03 -1.728e-02  1.108e-03  1.156e-02  1.541e-03]\n",
      " [ 8.536e-02  6.255e-01  7.027e-01  3.176e-01  1.951e-05  1.219e-07\n",
      "   9.431e-06  1.085e-05  2.829e-05  1.682e-04  1.504e-03  8.215e-05\n",
      "   1.053e-04  1.839e-04  2.464e-04  7.516e-05  7.924e-02  2.557e-03\n",
      "   2.841e-03 -2.108e-02  9.659e-04  1.040e-02  1.056e-03]\n",
      " [ 8.154e-02  6.224e-01  7.161e-01  2.930e-01  1.638e-05  1.112e-07\n",
      "   8.154e-06  9.154e-06  2.450e-05  1.613e-04  1.397e-03  8.257e-05\n",
      "   9.414e-05  1.574e-04  2.478e-04  4.744e-05  8.327e-02  2.294e-03\n",
      "   2.520e-03 -1.605e-02  9.724e-04  1.081e-02  1.059e-03]\n",
      " [ 8.354e-02  6.317e-01  7.000e-01  3.130e-01  1.729e-05  1.090e-07\n",
      "   8.027e-06  9.371e-06  2.408e-05  1.523e-04  1.322e-03  7.943e-05\n",
      "   8.971e-05  1.370e-04  2.383e-04  6.683e-05  7.418e-02  1.951e-03\n",
      "   2.495e-03 -1.906e-02  7.638e-04  9.253e-03  9.209e-04]\n",
      " [ 8.811e-02  6.008e-01  7.373e-01  2.819e-01  2.724e-05  1.836e-07\n",
      "   1.395e-05  1.432e-05  4.185e-05  6.090e-05  6.021e-04  2.709e-05\n",
      "   3.480e-05  5.496e-05  8.128e-05  6.527e-05  8.749e-02  1.461e-03\n",
      "   2.689e-03 -2.040e-02  8.109e-04  9.883e-03  7.928e-04]]\n"
     ]
    }
   ],
   "source": [
    "from sklearn.preprocessing import LabelEncoder, Normalizer\n",
    "\n",
    "myData.replace([np.inf, -np.inf], np.nan, inplace=True)\n",
    "myData.dropna(inplace=True)\n",
    "\n",
    "mydata_train = myData.drop('status', axis=1).values\n",
    "mydata_label = myData['status'].values\n",
    "\n",
    "mydataScaler = Normalizer().fit(mydata_train)\n",
    "mydataNormalized = mydataScaler.transform(mydata_train)\n",
    "\n",
    "set_printoptions(precision=3)\n",
    "print(mydataNormalized[20:25, :])"
   ],
   "metadata": {
    "collapsed": false,
    "ExecuteTime": {
     "end_time": "2024-10-29T08:03:38.099101800Z",
     "start_time": "2024-10-29T08:03:38.074956400Z"
    }
   },
   "id": "ddd05633650b0989",
   "execution_count": 14
  },
  {
   "cell_type": "code",
   "outputs": [
    {
     "name": "stdout",
     "output_type": "stream",
     "text": [
      "[[0. 1. 1. 1. 1. 1. 1. 1. 1. 1. 1. 1. 1. 1. 1. 1. 1. 1. 1. 0. 1. 1. 1.]\n",
      " [1. 1. 1. 1. 1. 1. 1. 1. 1. 1. 1. 1. 1. 1. 1. 1. 1. 1. 1. 0. 1. 1. 1.]\n",
      " [1. 1. 1. 1. 1. 1. 1. 1. 1. 1. 1. 1. 1. 1. 1. 1. 1. 1. 1. 0. 1. 1. 1.]\n",
      " [1. 1. 1. 1. 1. 1. 1. 1. 1. 1. 1. 1. 1. 1. 1. 1. 1. 1. 1. 0. 1. 1. 1.]\n",
      " [1. 1. 1. 1. 1. 1. 1. 1. 1. 1. 1. 1. 1. 1. 1. 1. 1. 1. 1. 0. 1. 1. 1.]]\n"
     ]
    }
   ],
   "source": [
    "from sklearn.preprocessing import Binarizer\n",
    "\n",
    "mydataBinarizer = Binarizer(threshold=0.0).fit(mydata_train)\n",
    "mydatabinarized = mydataBinarizer.transform(mydata_train)\n",
    "set_printoptions(precision = 3)\n",
    "print(mydatabinarized[0:5,:])"
   ],
   "metadata": {
    "collapsed": false,
    "ExecuteTime": {
     "end_time": "2024-10-29T08:03:41.143725100Z",
     "start_time": "2024-10-29T08:03:41.131661200Z"
    }
   },
   "id": "d1446285c582184",
   "execution_count": 15
  },
  {
   "cell_type": "code",
   "outputs": [
    {
     "name": "stdout",
     "output_type": "stream",
     "text": [
      "[ 5.571 33.287  5.478 32.613 16.193 25.003 14.775 17.549 14.773 30.123\n",
      " 27.065 26.527 27.145 29.536 26.526  7.183 29.016 20.31  10.953 90.424\n",
      " 50.343 25.266 75.803]\n"
     ]
    }
   ],
   "source": [
    "from sklearn.feature_selection import SelectKBest, f_regression\n",
    "\n",
    "myData.replace([np.inf, -np.inf], np.nan, inplace=True)\n",
    "myData.dropna(inplace=True)\n",
    "\n",
    "min_value = myData.drop('status', axis=1).min().min()\n",
    "if min_value < 0:\n",
    "    myData += abs(min_value)\n",
    "\n",
    "mydata_train = myData.drop('status', axis=1).values\n",
    "mydata_label = myData['status'].values\n",
    "\n",
    "myFeature = SelectKBest(score_func=f_regression, k=4)\n",
    "fit = myFeature.fit(mydata_train, mydata_label)\n",
    "\n",
    "set_printoptions(precision=3)\n",
    "print(fit.scores_)"
   ],
   "metadata": {
    "collapsed": false,
    "ExecuteTime": {
     "end_time": "2024-10-29T08:03:47.711113Z",
     "start_time": "2024-10-29T08:03:47.590114100Z"
    }
   },
   "id": "77297c4e396677d7",
   "execution_count": 16
  },
  {
   "cell_type": "code",
   "outputs": [
    {
     "name": "stdout",
     "output_type": "stream",
     "text": [
      "Number of features selected: 4\n",
      "Selected features are denoted by True: [False False False False False  True  True False False False False  True\n",
      " False False  True False False False False False False False False]\n",
      "Feature Ranking: [18 17 20 19  3  1  1  5  2  4  9  1  6 14  1  8 16 12 10 13 11 15  7]\n"
     ]
    }
   ],
   "source": [
    "from sklearn.feature_selection import RFE\n",
    "from sklearn.linear_model import LinearRegression\n",
    "\n",
    "model = LinearRegression()\n",
    "mydataRFE = RFE(model, n_features_to_select=4)\n",
    "mydataFit = mydataRFE.fit(mydata_train, mydata_label)\n",
    "\n",
    "print(\"Number of features selected: %d\" % mydataFit.n_features_)\n",
    "print(\"Selected features are denoted by True: %s\" % mydataFit.support_)\n",
    "print(\"Feature Ranking: %s\" % mydataFit.ranking_)"
   ],
   "metadata": {
    "collapsed": false,
    "ExecuteTime": {
     "end_time": "2024-10-29T08:03:49.416925300Z",
     "start_time": "2024-10-29T08:03:49.380947400Z"
    }
   },
   "id": "b09d63185809d4cf",
   "execution_count": 17
  },
  {
   "cell_type": "code",
   "outputs": [
    {
     "name": "stdout",
     "output_type": "stream",
     "text": [
      "Explained Variance: [0.582 0.209 0.168]\n",
      "[[ 1.238e-01  2.190e-01  9.647e-01  7.852e-02  4.493e-06 -2.665e-08\n",
      "   2.839e-06  2.227e-06  8.513e-06 -2.342e-06  6.700e-05 -1.846e-06\n",
      "  -2.672e-06 -8.444e-07 -5.535e-06  6.920e-05 -1.223e-03 -1.670e-04\n",
      "  -2.299e-04 -1.447e-03 -3.784e-05  7.600e-04 -1.132e-04]\n",
      " [ 9.330e-01 -2.094e-01 -4.878e-02 -2.880e-01  1.197e-05  9.525e-08\n",
      "   7.834e-06  4.415e-06  2.351e-05  1.997e-05  2.502e-04  1.125e-05\n",
      "   4.774e-06  1.881e-05  3.374e-05  1.305e-04 -2.012e-02  4.322e-04\n",
      "  -1.848e-04  3.416e-03  8.939e-06  5.205e-04  1.331e-04]\n",
      " [ 3.368e-01  5.544e-01 -2.282e-01  7.260e-01 -1.395e-05 -2.236e-07\n",
      "  -5.271e-06 -6.897e-06 -1.581e-05 -4.947e-05 -4.326e-04 -2.646e-05\n",
      "  -2.318e-05 -3.187e-05 -7.938e-05 -6.366e-05  7.831e-03 -7.176e-04\n",
      "  -2.318e-04 -8.579e-03 -4.967e-04 -1.322e-04 -6.730e-04]]\n"
     ]
    }
   ],
   "source": [
    "from sklearn.decomposition import PCA\n",
    "\n",
    "pca = PCA(n_components = 3)\n",
    "fit = pca.fit(mydata_train)\n",
    "print(\"Explained Variance: %s\" % fit.explained_variance_ratio_)\n",
    "print(fit.components_)"
   ],
   "metadata": {
    "collapsed": false,
    "ExecuteTime": {
     "end_time": "2024-10-29T08:03:53.647204400Z",
     "start_time": "2024-10-29T08:03:53.637204700Z"
    }
   },
   "id": "c86acca8b82f8d8",
   "execution_count": 18
  },
  {
   "cell_type": "code",
   "outputs": [
    {
     "name": "stdout",
     "output_type": "stream",
     "text": [
      "(195, 3)\n"
     ]
    }
   ],
   "source": [
    "pca=PCA(0.92)\n",
    "selectedFeatures = pca.fit_transform(mydata_train)\n",
    "print (selectedFeatures.shape)"
   ],
   "metadata": {
    "collapsed": false,
    "ExecuteTime": {
     "end_time": "2024-10-29T08:03:54.900116Z",
     "start_time": "2024-10-29T08:03:54.892117700Z"
    }
   },
   "id": "f4b123f9ef30e6e6",
   "execution_count": 19
  },
  {
   "cell_type": "code",
   "outputs": [
    {
     "name": "stdout",
     "output_type": "stream",
     "text": [
      "(195, 4)\n"
     ]
    }
   ],
   "source": [
    "pca=PCA(0.98)\n",
    "selectedFeatures=pca.fit_transform(mydata_train)\n",
    "print (selectedFeatures.shape)"
   ],
   "metadata": {
    "collapsed": false,
    "ExecuteTime": {
     "end_time": "2024-10-29T08:03:55.963921700Z",
     "start_time": "2024-10-29T08:03:55.931922300Z"
    }
   },
   "id": "12909b653d36d221",
   "execution_count": 20
  },
  {
   "cell_type": "code",
   "outputs": [
    {
     "name": "stdout",
     "output_type": "stream",
     "text": [
      "[0.106 0.096 0.037 0.059 0.02  0.045 0.026 0.03  0.029 0.028 0.026 0.022\n",
      " 0.028 0.032 0.029 0.026 0.032 0.039 0.036 0.095 0.039 0.039 0.083]\n"
     ]
    }
   ],
   "source": [
    "import pandas as pd\n",
    "from sklearn.ensemble import ExtraTreesClassifier\n",
    "\n",
    "myData['status'] = pd.cut(myData['status'], bins=3, labels=[0, 1, 2])\n",
    "mydata_label = myData['status'].values\n",
    "\n",
    "model = ExtraTreesClassifier()\n",
    "model.fit(mydata_train, mydata_label)\n",
    "print(model.feature_importances_)"
   ],
   "metadata": {
    "collapsed": false,
    "ExecuteTime": {
     "end_time": "2024-10-29T08:04:16.447564500Z",
     "start_time": "2024-10-29T08:04:16.345562800Z"
    }
   },
   "id": "522e63e0ac85fc3b",
   "execution_count": 21
  },
  {
   "cell_type": "code",
   "outputs": [],
   "source": [],
   "metadata": {
    "collapsed": false
   },
   "id": "50f99d5f57132186"
  }
 ],
 "metadata": {
  "kernelspec": {
   "display_name": "Python 3",
   "language": "python",
   "name": "python3"
  },
  "language_info": {
   "codemirror_mode": {
    "name": "ipython",
    "version": 2
   },
   "file_extension": ".py",
   "mimetype": "text/x-python",
   "name": "python",
   "nbconvert_exporter": "python",
   "pygments_lexer": "ipython2",
   "version": "2.7.6"
  }
 },
 "nbformat": 4,
 "nbformat_minor": 5
}
