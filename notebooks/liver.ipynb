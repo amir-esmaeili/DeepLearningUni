{
 "cells": [
  {
   "cell_type": "code",
   "execution_count": 2,
   "id": "initial_id",
   "metadata": {
    "collapsed": true,
    "ExecuteTime": {
     "end_time": "2024-10-29T08:05:06.403204200Z",
     "start_time": "2024-10-29T08:05:06.373196400Z"
    }
   },
   "outputs": [
    {
     "name": "stdout",
     "output_type": "stream",
     "text": [
      "(583, 11)\n"
     ]
    }
   ],
   "source": [
    "import numpy as np\n",
    "import pandas as pd\n",
    "myData = pd.read_csv('../data/indian_liver_patient.csv')\n",
    "print(myData.shape)"
   ]
  },
  {
   "cell_type": "code",
   "outputs": [
    {
     "name": "stdout",
     "output_type": "stream",
     "text": [
      "   Age  Gender  Total_Bilirubin  Direct_Bilirubin  Alkaline_Phosphotase  \\\n",
      "0   65  Female              0.7               0.1                   187   \n",
      "1   62    Male             10.9               5.5                   699   \n",
      "2   62    Male              7.3               4.1                   490   \n",
      "3   58    Male              1.0               0.4                   182   \n",
      "4   72    Male              3.9               2.0                   195   \n",
      "5   46    Male              1.8               0.7                   208   \n",
      "6   26  Female              0.9               0.2                   154   \n",
      "7   29  Female              0.9               0.3                   202   \n",
      "8   17    Male              0.9               0.3                   202   \n",
      "9   55    Male              0.7               0.2                   290   \n",
      "\n",
      "   Alamine_Aminotransferase  Aspartate_Aminotransferase  Total_Protiens  \\\n",
      "0                        16                          18             6.8   \n",
      "1                        64                         100             7.5   \n",
      "2                        60                          68             7.0   \n",
      "3                        14                          20             6.8   \n",
      "4                        27                          59             7.3   \n",
      "5                        19                          14             7.6   \n",
      "6                        16                          12             7.0   \n",
      "7                        14                          11             6.7   \n",
      "8                        22                          19             7.4   \n",
      "9                        53                          58             6.8   \n",
      "\n",
      "   Albumin  Albumin_and_Globulin_Ratio  Dataset  \n",
      "0      3.3                        0.90        1  \n",
      "1      3.2                        0.74        1  \n",
      "2      3.3                        0.89        1  \n",
      "3      3.4                        1.00        1  \n",
      "4      2.4                        0.40        1  \n",
      "5      4.4                        1.30        1  \n",
      "6      3.5                        1.00        1  \n",
      "7      3.6                        1.10        1  \n",
      "8      4.1                        1.20        2  \n",
      "9      3.4                        1.00        1  \n"
     ]
    }
   ],
   "source": [
    "peek = myData.head(10)\n",
    "print(peek)"
   ],
   "metadata": {
    "collapsed": false,
    "ExecuteTime": {
     "end_time": "2024-10-29T08:05:07.388357900Z",
     "start_time": "2024-10-29T08:05:07.352292400Z"
    }
   },
   "id": "f9e165253c8f0c5f",
   "execution_count": 3
  },
  {
   "cell_type": "code",
   "outputs": [
    {
     "name": "stdout",
     "output_type": "stream",
     "text": [
      "(583, 11)\n"
     ]
    }
   ],
   "source": [
    "shape = myData.shape\n",
    "print(shape)"
   ],
   "metadata": {
    "collapsed": false,
    "ExecuteTime": {
     "end_time": "2024-10-29T08:05:09.001049600Z",
     "start_time": "2024-10-29T08:05:08.971314100Z"
    }
   },
   "id": "3c4da3a492eb3c79",
   "execution_count": 4
  },
  {
   "cell_type": "code",
   "outputs": [
    {
     "name": "stdout",
     "output_type": "stream",
     "text": [
      "Age                             int64\n",
      "Gender                         object\n",
      "Total_Bilirubin               float64\n",
      "Direct_Bilirubin              float64\n",
      "Alkaline_Phosphotase            int64\n",
      "Alamine_Aminotransferase        int64\n",
      "Aspartate_Aminotransferase      int64\n",
      "Total_Protiens                float64\n",
      "Albumin                       float64\n",
      "Albumin_and_Globulin_Ratio    float64\n",
      "Dataset                         int64\n",
      "dtype: object\n"
     ]
    }
   ],
   "source": [
    "types = myData.dtypes\n",
    "print(types)"
   ],
   "metadata": {
    "collapsed": false,
    "ExecuteTime": {
     "end_time": "2024-10-29T08:05:09.583316Z",
     "start_time": "2024-10-29T08:05:09.578322800Z"
    }
   },
   "id": "f2355301eef161ef",
   "execution_count": 5
  },
  {
   "cell_type": "code",
   "outputs": [
    {
     "name": "stdout",
     "output_type": "stream",
     "text": [
      "Dataset\n",
      "1    416\n",
      "2    167\n",
      "dtype: int64\n"
     ]
    }
   ],
   "source": [
    "outcome_counts = myData.groupby('Dataset').size()\n",
    "print(outcome_counts)"
   ],
   "metadata": {
    "collapsed": false,
    "ExecuteTime": {
     "end_time": "2024-10-29T08:05:40.018605Z",
     "start_time": "2024-10-29T08:05:39.988604800Z"
    }
   },
   "id": "c37eb3e2836bd018",
   "execution_count": 7
  },
  {
   "cell_type": "code",
   "outputs": [
    {
     "name": "stdout",
     "output_type": "stream",
     "text": [
      "                              Age  Total_Bilirubin  Direct_Bilirubin  Alkaline_Phosphotase  \\\n",
      "Age                         1.000            0.012         7.529e-03                 0.080   \n",
      "Total_Bilirubin             0.012            1.000         8.746e-01                 0.207   \n",
      "Direct_Bilirubin            0.008            0.875         1.000e+00                 0.235   \n",
      "Alkaline_Phosphotase        0.080            0.207         2.349e-01                 1.000   \n",
      "Alamine_Aminotransferase   -0.087            0.214         2.339e-01                 0.126   \n",
      "Aspartate_Aminotransferase -0.020            0.238         2.575e-01                 0.167   \n",
      "Total_Protiens             -0.187           -0.008        -1.387e-04                -0.029   \n",
      "Albumin                    -0.266           -0.222        -2.285e-01                -0.165   \n",
      "Albumin_and_Globulin_Ratio -0.216           -0.206        -2.001e-01                -0.234   \n",
      "Dataset                    -0.137           -0.220        -2.460e-01                -0.185   \n",
      "\n",
      "                            Alamine_Aminotransferase  Aspartate_Aminotransferase  Total_Protiens  \\\n",
      "Age                                           -0.087                      -0.020      -1.875e-01   \n",
      "Total_Bilirubin                                0.214                       0.238      -8.099e-03   \n",
      "Direct_Bilirubin                               0.234                       0.258      -1.387e-04   \n",
      "Alkaline_Phosphotase                           0.126                       0.167      -2.851e-02   \n",
      "Alamine_Aminotransferase                       1.000                       0.792      -4.252e-02   \n",
      "Aspartate_Aminotransferase                     0.792                       1.000      -2.565e-02   \n",
      "Total_Protiens                                -0.043                      -0.026       1.000e+00   \n",
      "Albumin                                       -0.030                      -0.085       7.841e-01   \n",
      "Albumin_and_Globulin_Ratio                    -0.002                      -0.070       2.349e-01   \n",
      "Dataset                                       -0.163                      -0.152       3.501e-02   \n",
      "\n",
      "                            Albumin  Albumin_and_Globulin_Ratio  Dataset  \n",
      "Age                          -0.266                      -0.216   -0.137  \n",
      "Total_Bilirubin              -0.222                      -0.206   -0.220  \n",
      "Direct_Bilirubin             -0.229                      -0.200   -0.246  \n",
      "Alkaline_Phosphotase         -0.165                      -0.234   -0.185  \n",
      "Alamine_Aminotransferase     -0.030                      -0.002   -0.163  \n",
      "Aspartate_Aminotransferase   -0.085                      -0.070   -0.152  \n",
      "Total_Protiens                0.784                       0.235    0.035  \n",
      "Albumin                       1.000                       0.690    0.161  \n",
      "Albumin_and_Globulin_Ratio    0.690                       1.000    0.163  \n",
      "Dataset                       0.161                       0.163    1.000  \n"
     ]
    }
   ],
   "source": [
    "from pandas import set_option\n",
    "\n",
    "set_option('display.width', 100)\n",
    "set_option('precision', 3)\n",
    "correlations = myData.corr(method = 'pearson')\n",
    "print(correlations)"
   ],
   "metadata": {
    "collapsed": false,
    "ExecuteTime": {
     "end_time": "2024-10-29T08:05:41.869930900Z",
     "start_time": "2024-10-29T08:05:41.833865800Z"
    }
   },
   "id": "1a2de44d2b9cecaf",
   "execution_count": 8
  },
  {
   "cell_type": "code",
   "outputs": [
    {
     "data": {
      "text/plain": "<AxesSubplot:ylabel='Frequency'>"
     },
     "execution_count": 9,
     "metadata": {},
     "output_type": "execute_result"
    },
    {
     "data": {
      "text/plain": "<Figure size 640x480 with 1 Axes>",
      "image/png": "[encoded data removed]"
     },
     "metadata": {},
     "output_type": "display_data"
    }
   ],
   "source": [
    "import matplotlib.pyplot as plt\n",
    "myData.plot.hist()"
   ],
   "metadata": {
    "collapsed": false,
    "ExecuteTime": {
     "end_time": "2024-10-29T08:05:43.802354800Z",
     "start_time": "2024-10-29T08:05:42.841965100Z"
    }
   },
   "id": "8e41194f39bdcb37",
   "execution_count": 9
  },
  {
   "cell_type": "code",
   "outputs": [
    {
     "ename": "ValueError",
     "evalue": "Layout of 3x3 must be larger than required size 10",
     "output_type": "error",
     "traceback": [
      "\u001B[1;31m---------------------------------------------------------------------------\u001B[0m",
      "\u001B[1;31mValueError\u001B[0m                                Traceback (most recent call last)",
      "\u001B[1;32m~\\AppData\\Local\\Temp\\ipykernel_32220\\909650294.py\u001B[0m in \u001B[0;36m<module>\u001B[1;34m\u001B[0m\n\u001B[1;32m----> 1\u001B[1;33m \u001B[0mmyData\u001B[0m\u001B[1;33m.\u001B[0m\u001B[0mplot\u001B[0m\u001B[1;33m(\u001B[0m\u001B[0mkind\u001B[0m\u001B[1;33m=\u001B[0m\u001B[1;34m'box'\u001B[0m\u001B[1;33m,\u001B[0m \u001B[0msubplots\u001B[0m\u001B[1;33m=\u001B[0m\u001B[1;32mTrue\u001B[0m\u001B[1;33m,\u001B[0m \u001B[0mlayout\u001B[0m\u001B[1;33m=\u001B[0m\u001B[1;33m(\u001B[0m\u001B[1;36m3\u001B[0m\u001B[1;33m,\u001B[0m\u001B[1;36m3\u001B[0m\u001B[1;33m)\u001B[0m\u001B[1;33m,\u001B[0m \u001B[0msharex\u001B[0m\u001B[1;33m=\u001B[0m\u001B[1;32mFalse\u001B[0m\u001B[1;33m,\u001B[0m \u001B[0msharey\u001B[0m\u001B[1;33m=\u001B[0m\u001B[1;32mFalse\u001B[0m\u001B[1;33m,\u001B[0m \u001B[0mfigsize\u001B[0m \u001B[1;33m=\u001B[0m \u001B[1;33m(\u001B[0m\u001B[1;36m10\u001B[0m\u001B[1;33m,\u001B[0m\u001B[1;36m10\u001B[0m\u001B[1;33m)\u001B[0m\u001B[1;33m)\u001B[0m\u001B[1;33m\u001B[0m\u001B[1;33m\u001B[0m\u001B[0m\n\u001B[0m\u001B[0;32m      2\u001B[0m \u001B[0mplt\u001B[0m\u001B[1;33m.\u001B[0m\u001B[0mshow\u001B[0m\u001B[1;33m(\u001B[0m\u001B[1;33m)\u001B[0m\u001B[1;33m\u001B[0m\u001B[1;33m\u001B[0m\u001B[0m\n",
      "\u001B[1;32m~\\Documents\\Uni\\DeepLearninProject\\.venv\\lib\\site-packages\\pandas\\plotting\\_core.py\u001B[0m in \u001B[0;36m__call__\u001B[1;34m(self, *args, **kwargs)\u001B[0m\n\u001B[0;32m    970\u001B[0m                     \u001B[0mdata\u001B[0m\u001B[1;33m.\u001B[0m\u001B[0mcolumns\u001B[0m \u001B[1;33m=\u001B[0m \u001B[0mlabel_name\u001B[0m\u001B[1;33m\u001B[0m\u001B[1;33m\u001B[0m\u001B[0m\n\u001B[0;32m    971\u001B[0m \u001B[1;33m\u001B[0m\u001B[0m\n\u001B[1;32m--> 972\u001B[1;33m         \u001B[1;32mreturn\u001B[0m \u001B[0mplot_backend\u001B[0m\u001B[1;33m.\u001B[0m\u001B[0mplot\u001B[0m\u001B[1;33m(\u001B[0m\u001B[0mdata\u001B[0m\u001B[1;33m,\u001B[0m \u001B[0mkind\u001B[0m\u001B[1;33m=\u001B[0m\u001B[0mkind\u001B[0m\u001B[1;33m,\u001B[0m \u001B[1;33m**\u001B[0m\u001B[0mkwargs\u001B[0m\u001B[1;33m)\u001B[0m\u001B[1;33m\u001B[0m\u001B[1;33m\u001B[0m\u001B[0m\n\u001B[0m\u001B[0;32m    973\u001B[0m \u001B[1;33m\u001B[0m\u001B[0m\n\u001B[0;32m    974\u001B[0m     \u001B[0m__call__\u001B[0m\u001B[1;33m.\u001B[0m\u001B[0m__doc__\u001B[0m \u001B[1;33m=\u001B[0m \u001B[0m__doc__\u001B[0m\u001B[1;33m\u001B[0m\u001B[1;33m\u001B[0m\u001B[0m\n",
      "\u001B[1;32m~\\Documents\\Uni\\DeepLearninProject\\.venv\\lib\\site-packages\\pandas\\plotting\\_matplotlib\\__init__.py\u001B[0m in \u001B[0;36mplot\u001B[1;34m(data, kind, **kwargs)\u001B[0m\n\u001B[0;32m     69\u001B[0m             \u001B[0mkwargs\u001B[0m\u001B[1;33m[\u001B[0m\u001B[1;34m\"ax\"\u001B[0m\u001B[1;33m]\u001B[0m \u001B[1;33m=\u001B[0m \u001B[0mgetattr\u001B[0m\u001B[1;33m(\u001B[0m\u001B[0max\u001B[0m\u001B[1;33m,\u001B[0m \u001B[1;34m\"left_ax\"\u001B[0m\u001B[1;33m,\u001B[0m \u001B[0max\u001B[0m\u001B[1;33m)\u001B[0m\u001B[1;33m\u001B[0m\u001B[1;33m\u001B[0m\u001B[0m\n\u001B[0;32m     70\u001B[0m     \u001B[0mplot_obj\u001B[0m \u001B[1;33m=\u001B[0m \u001B[0mPLOT_CLASSES\u001B[0m\u001B[1;33m[\u001B[0m\u001B[0mkind\u001B[0m\u001B[1;33m]\u001B[0m\u001B[1;33m(\u001B[0m\u001B[0mdata\u001B[0m\u001B[1;33m,\u001B[0m \u001B[1;33m**\u001B[0m\u001B[0mkwargs\u001B[0m\u001B[1;33m)\u001B[0m\u001B[1;33m\u001B[0m\u001B[1;33m\u001B[0m\u001B[0m\n\u001B[1;32m---> 71\u001B[1;33m     \u001B[0mplot_obj\u001B[0m\u001B[1;33m.\u001B[0m\u001B[0mgenerate\u001B[0m\u001B[1;33m(\u001B[0m\u001B[1;33m)\u001B[0m\u001B[1;33m\u001B[0m\u001B[1;33m\u001B[0m\u001B[0m\n\u001B[0m\u001B[0;32m     72\u001B[0m     \u001B[0mplot_obj\u001B[0m\u001B[1;33m.\u001B[0m\u001B[0mdraw\u001B[0m\u001B[1;33m(\u001B[0m\u001B[1;33m)\u001B[0m\u001B[1;33m\u001B[0m\u001B[1;33m\u001B[0m\u001B[0m\n\u001B[0;32m     73\u001B[0m     \u001B[1;32mreturn\u001B[0m \u001B[0mplot_obj\u001B[0m\u001B[1;33m.\u001B[0m\u001B[0mresult\u001B[0m\u001B[1;33m\u001B[0m\u001B[1;33m\u001B[0m\u001B[0m\n",
      "\u001B[1;32m~\\Documents\\Uni\\DeepLearninProject\\.venv\\lib\\site-packages\\pandas\\plotting\\_matplotlib\\core.py\u001B[0m in \u001B[0;36mgenerate\u001B[1;34m(self)\u001B[0m\n\u001B[0;32m    285\u001B[0m         \u001B[0mself\u001B[0m\u001B[1;33m.\u001B[0m\u001B[0m_args_adjust\u001B[0m\u001B[1;33m(\u001B[0m\u001B[1;33m)\u001B[0m\u001B[1;33m\u001B[0m\u001B[1;33m\u001B[0m\u001B[0m\n\u001B[0;32m    286\u001B[0m         \u001B[0mself\u001B[0m\u001B[1;33m.\u001B[0m\u001B[0m_compute_plot_data\u001B[0m\u001B[1;33m(\u001B[0m\u001B[1;33m)\u001B[0m\u001B[1;33m\u001B[0m\u001B[1;33m\u001B[0m\u001B[0m\n\u001B[1;32m--> 287\u001B[1;33m         \u001B[0mself\u001B[0m\u001B[1;33m.\u001B[0m\u001B[0m_setup_subplots\u001B[0m\u001B[1;33m(\u001B[0m\u001B[1;33m)\u001B[0m\u001B[1;33m\u001B[0m\u001B[1;33m\u001B[0m\u001B[0m\n\u001B[0m\u001B[0;32m    288\u001B[0m         \u001B[0mself\u001B[0m\u001B[1;33m.\u001B[0m\u001B[0m_make_plot\u001B[0m\u001B[1;33m(\u001B[0m\u001B[1;33m)\u001B[0m\u001B[1;33m\u001B[0m\u001B[1;33m\u001B[0m\u001B[0m\n\u001B[0;32m    289\u001B[0m         \u001B[0mself\u001B[0m\u001B[1;33m.\u001B[0m\u001B[0m_add_table\u001B[0m\u001B[1;33m(\u001B[0m\u001B[1;33m)\u001B[0m\u001B[1;33m\u001B[0m\u001B[1;33m\u001B[0m\u001B[0m\n",
      "\u001B[1;32m~\\Documents\\Uni\\DeepLearninProject\\.venv\\lib\\site-packages\\pandas\\plotting\\_matplotlib\\core.py\u001B[0m in \u001B[0;36m_setup_subplots\u001B[1;34m(self)\u001B[0m\n\u001B[0;32m    339\u001B[0m                 \u001B[0max\u001B[0m\u001B[1;33m=\u001B[0m\u001B[0mself\u001B[0m\u001B[1;33m.\u001B[0m\u001B[0max\u001B[0m\u001B[1;33m,\u001B[0m\u001B[1;33m\u001B[0m\u001B[1;33m\u001B[0m\u001B[0m\n\u001B[0;32m    340\u001B[0m                 \u001B[0mlayout\u001B[0m\u001B[1;33m=\u001B[0m\u001B[0mself\u001B[0m\u001B[1;33m.\u001B[0m\u001B[0mlayout\u001B[0m\u001B[1;33m,\u001B[0m\u001B[1;33m\u001B[0m\u001B[1;33m\u001B[0m\u001B[0m\n\u001B[1;32m--> 341\u001B[1;33m                 \u001B[0mlayout_type\u001B[0m\u001B[1;33m=\u001B[0m\u001B[0mself\u001B[0m\u001B[1;33m.\u001B[0m\u001B[0m_layout_type\u001B[0m\u001B[1;33m,\u001B[0m\u001B[1;33m\u001B[0m\u001B[1;33m\u001B[0m\u001B[0m\n\u001B[0m\u001B[0;32m    342\u001B[0m             )\n\u001B[0;32m    343\u001B[0m         \u001B[1;32melse\u001B[0m\u001B[1;33m:\u001B[0m\u001B[1;33m\u001B[0m\u001B[1;33m\u001B[0m\u001B[0m\n",
      "\u001B[1;32m~\\Documents\\Uni\\DeepLearninProject\\.venv\\lib\\site-packages\\pandas\\plotting\\_matplotlib\\tools.py\u001B[0m in \u001B[0;36mcreate_subplots\u001B[1;34m(naxes, sharex, sharey, squeeze, subplot_kw, ax, layout, layout_type, **fig_kw)\u001B[0m\n\u001B[0;32m    257\u001B[0m             \u001B[0mfig\u001B[0m\u001B[1;33m.\u001B[0m\u001B[0mclear\u001B[0m\u001B[1;33m(\u001B[0m\u001B[1;33m)\u001B[0m\u001B[1;33m\u001B[0m\u001B[1;33m\u001B[0m\u001B[0m\n\u001B[0;32m    258\u001B[0m \u001B[1;33m\u001B[0m\u001B[0m\n\u001B[1;32m--> 259\u001B[1;33m     \u001B[0mnrows\u001B[0m\u001B[1;33m,\u001B[0m \u001B[0mncols\u001B[0m \u001B[1;33m=\u001B[0m \u001B[0m_get_layout\u001B[0m\u001B[1;33m(\u001B[0m\u001B[0mnaxes\u001B[0m\u001B[1;33m,\u001B[0m \u001B[0mlayout\u001B[0m\u001B[1;33m=\u001B[0m\u001B[0mlayout\u001B[0m\u001B[1;33m,\u001B[0m \u001B[0mlayout_type\u001B[0m\u001B[1;33m=\u001B[0m\u001B[0mlayout_type\u001B[0m\u001B[1;33m)\u001B[0m\u001B[1;33m\u001B[0m\u001B[1;33m\u001B[0m\u001B[0m\n\u001B[0m\u001B[0;32m    260\u001B[0m     \u001B[0mnplots\u001B[0m \u001B[1;33m=\u001B[0m \u001B[0mnrows\u001B[0m \u001B[1;33m*\u001B[0m \u001B[0mncols\u001B[0m\u001B[1;33m\u001B[0m\u001B[1;33m\u001B[0m\u001B[0m\n\u001B[0;32m    261\u001B[0m \u001B[1;33m\u001B[0m\u001B[0m\n",
      "\u001B[1;32m~\\Documents\\Uni\\DeepLearninProject\\.venv\\lib\\site-packages\\pandas\\plotting\\_matplotlib\\tools.py\u001B[0m in \u001B[0;36m_get_layout\u001B[1;34m(nplots, layout, layout_type)\u001B[0m\n\u001B[0;32m     96\u001B[0m         \u001B[1;32mif\u001B[0m \u001B[0mnrows\u001B[0m \u001B[1;33m*\u001B[0m \u001B[0mncols\u001B[0m \u001B[1;33m<\u001B[0m \u001B[0mnplots\u001B[0m\u001B[1;33m:\u001B[0m\u001B[1;33m\u001B[0m\u001B[1;33m\u001B[0m\u001B[0m\n\u001B[0;32m     97\u001B[0m             raise ValueError(\n\u001B[1;32m---> 98\u001B[1;33m                 \u001B[1;34mf\"Layout of {nrows}x{ncols} must be larger than required size {nplots}\"\u001B[0m\u001B[1;33m\u001B[0m\u001B[1;33m\u001B[0m\u001B[0m\n\u001B[0m\u001B[0;32m     99\u001B[0m             )\n\u001B[0;32m    100\u001B[0m \u001B[1;33m\u001B[0m\u001B[0m\n",
      "\u001B[1;31mValueError\u001B[0m: Layout of 3x3 must be larger than required size 10"
     ]
    },
    {
     "data": {
      "text/plain": "<Figure size 1000x1000 with 0 Axes>"
     },
     "metadata": {},
     "output_type": "display_data"
    }
   ],
   "source": [
    "myData.plot(kind='box', subplots=True, layout=(3,3), sharex=False, sharey=False, figsize = (10,10))\n",
    "plt.show()"
   ],
   "metadata": {
    "collapsed": false,
    "ExecuteTime": {
     "end_time": "2024-10-29T08:05:47.226149400Z",
     "start_time": "2024-10-29T08:05:47.197147600Z"
    }
   },
   "id": "4859f4939b692114",
   "execution_count": 10
  },
  {
   "cell_type": "code",
   "outputs": [
    {
     "data": {
      "text/plain": "<Figure size 640x480 with 2 Axes>",
      "image/png": "[encoded data removed]"
     },
     "metadata": {},
     "output_type": "display_data"
    }
   ],
   "source": [
    "correlations = myData.corr()\n",
    "# plot correlation matrix\n",
    "myfig = plt.figure()\n",
    "axis = myfig.add_subplot(111) # There is only one subplot or graph;\n",
    "# \"111\" means \"1x1 grid, first subplot\"\n",
    "cax = axis.matshow(correlations, vmin = -1, vmax = 1)\n",
    "myfig.colorbar(cax)\n",
    "ticks = np.arange(0, 9, 1)"
   ],
   "metadata": {
    "collapsed": false,
    "ExecuteTime": {
     "end_time": "2024-10-29T08:05:49.872851100Z",
     "start_time": "2024-10-29T08:05:49.680889100Z"
    }
   },
   "id": "1eb668224cf017e0",
   "execution_count": 11
  },
  {
   "cell_type": "code",
   "outputs": [],
   "source": [
    "from sklearn.preprocessing import LabelEncoder, MinMaxScaler\n",
    "from numpy import set_printoptions\n",
    "\n",
    "label_encoder = LabelEncoder()\n",
    "\n",
    "categorical_columns = ['Gender']\n",
    "\n",
    "for col in categorical_columns:\n",
    "    myData[col] = label_encoder.fit_transform(myData[col])"
   ],
   "metadata": {
    "collapsed": false,
    "ExecuteTime": {
     "end_time": "2024-10-29T08:06:32.899773900Z",
     "start_time": "2024-10-29T08:06:32.879772200Z"
    }
   },
   "id": "2a17e22b60c24825",
   "execution_count": 15
  },
  {
   "cell_type": "code",
   "outputs": [
    {
     "name": "stdout",
     "output_type": "stream",
     "text": [
      "[[0.547 1.    0.024 0.046 0.267 0.004 0.004 0.667 0.37  0.1  ]\n",
      " [0.547 1.    0.034 0.061 0.205 0.006 0.005 0.623 0.326 0.08 ]\n",
      " [0.674 1.    0.086 0.148 0.234 0.053 0.011 0.536 0.478 0.24 ]\n",
      " [0.419 1.    0.02  0.046 0.082 0.003 0.009 0.232 0.152 0.12 ]\n",
      " [0.686 1.    0.007 0.005 0.064 0.021 0.007 0.478 0.652 0.62 ]]\n"
     ]
    }
   ],
   "source": [
    "X = myData.drop('Dataset', axis=1).values\n",
    "Y = myData['Dataset'].values\n",
    "\n",
    "mydataScaler = MinMaxScaler(feature_range=(0, 1))\n",
    "mydataRescaled = mydataScaler.fit_transform(X)\n",
    "\n",
    "set_printoptions(precision=3)\n",
    "print(mydataRescaled[20:25, :])"
   ],
   "metadata": {
    "collapsed": false,
    "ExecuteTime": {
     "end_time": "2024-10-29T08:06:33.480226700Z",
     "start_time": "2024-10-29T08:06:33.467225600Z"
    }
   },
   "id": "fc7d20d1d52c2898",
   "execution_count": 16
  },
  {
   "cell_type": "code",
   "outputs": [
    {
     "name": "stdout",
     "output_type": "stream",
     "text": [
      "[[8.319e-02 1.631e-03 3.589e-03 1.631e-03 9.950e-01 2.773e-02 4.567e-02\n",
      "  1.191e-02 4.241e-03 8.971e-04]\n",
      " [1.048e-01 2.056e-03 5.962e-03 2.672e-03 9.909e-01 4.523e-02 6.989e-02\n",
      "  1.439e-02 4.934e-03 1.028e-03]\n",
      " [1.104e-01 1.780e-03 1.211e-02 5.341e-03 9.649e-01 2.065e-01 1.175e-01\n",
      "  1.139e-02 5.519e-03 1.602e-03]\n",
      " [1.657e-01 4.143e-03 7.871e-03 4.143e-03 9.570e-01 6.628e-02 2.278e-01\n",
      "  1.781e-02 6.628e-03 2.486e-03]\n",
      " [2.925e-01 4.643e-03 4.179e-03 9.286e-04 9.007e-01 2.414e-01 2.089e-01\n",
      "  2.786e-02 1.811e-02 8.589e-03]]\n"
     ]
    }
   ],
   "source": [
    "from sklearn.preprocessing import LabelEncoder, Normalizer\n",
    "\n",
    "myData.replace([np.inf, -np.inf], np.nan, inplace=True)\n",
    "myData.dropna(inplace=True)\n",
    "\n",
    "mydata_train = myData.drop('Dataset', axis=1).values\n",
    "mydata_label = myData['Dataset'].values\n",
    "\n",
    "mydataScaler = Normalizer().fit(mydata_train)\n",
    "mydataNormalized = mydataScaler.transform(mydata_train)\n",
    "\n",
    "set_printoptions(precision=3)\n",
    "print(mydataNormalized[20:25, :])"
   ],
   "metadata": {
    "collapsed": false,
    "ExecuteTime": {
     "end_time": "2024-10-29T08:06:40.125967600Z",
     "start_time": "2024-10-29T08:06:40.100953900Z"
    }
   },
   "id": "ddd05633650b0989",
   "execution_count": 17
  },
  {
   "cell_type": "code",
   "outputs": [
    {
     "name": "stdout",
     "output_type": "stream",
     "text": [
      "[[1. 0. 1. 1. 1. 1. 1. 1. 1. 1.]\n",
      " [1. 1. 1. 1. 1. 1. 1. 1. 1. 1.]\n",
      " [1. 1. 1. 1. 1. 1. 1. 1. 1. 1.]\n",
      " [1. 1. 1. 1. 1. 1. 1. 1. 1. 1.]\n",
      " [1. 1. 1. 1. 1. 1. 1. 1. 1. 1.]]\n"
     ]
    }
   ],
   "source": [
    "from sklearn.preprocessing import Binarizer\n",
    "\n",
    "mydataBinarizer = Binarizer(threshold=0.0).fit(mydata_train)\n",
    "mydatabinarized = mydataBinarizer.transform(mydata_train)\n",
    "set_printoptions(precision = 3)\n",
    "print(mydatabinarized[0:5,:])"
   ],
   "metadata": {
    "collapsed": false,
    "ExecuteTime": {
     "end_time": "2024-10-29T08:06:41.338595300Z",
     "start_time": "2024-10-29T08:06:41.310465800Z"
    }
   },
   "id": "d1446285c582184",
   "execution_count": 18
  },
  {
   "cell_type": "code",
   "outputs": [
    {
     "name": "stdout",
     "output_type": "stream",
     "text": [
      "[10.416  3.844 29.408 37.255 20.075 15.772 13.616  0.653 15.115 15.775]\n"
     ]
    }
   ],
   "source": [
    "from sklearn.feature_selection import SelectKBest, f_regression\n",
    "\n",
    "myData.replace([np.inf, -np.inf], np.nan, inplace=True)\n",
    "myData.dropna(inplace=True)\n",
    "\n",
    "min_value = myData.drop('Dataset', axis=1).min().min()\n",
    "if min_value < 0:\n",
    "    myData += abs(min_value)\n",
    "\n",
    "mydata_train = myData.drop('Dataset', axis=1).values\n",
    "mydata_label = myData['Dataset'].values\n",
    "\n",
    "myFeature = SelectKBest(score_func=f_regression, k=4)\n",
    "fit = myFeature.fit(mydata_train, mydata_label)\n",
    "\n",
    "set_printoptions(precision=3)\n",
    "print(fit.scores_)"
   ],
   "metadata": {
    "collapsed": false,
    "ExecuteTime": {
     "end_time": "2024-10-29T08:06:48.133895400Z",
     "start_time": "2024-10-29T08:06:48.086340400Z"
    }
   },
   "id": "77297c4e396677d7",
   "execution_count": 20
  },
  {
   "cell_type": "code",
   "outputs": [
    {
     "name": "stdout",
     "output_type": "stream",
     "text": [
      "Number of features selected: 4\n",
      "Selected features are denoted by True: [False  True False  True False False False  True  True False]\n",
      "Feature Ranking: [3 1 6 1 5 4 7 1 1 2]\n"
     ]
    }
   ],
   "source": [
    "from sklearn.feature_selection import RFE\n",
    "from sklearn.linear_model import LinearRegression\n",
    "\n",
    "model = LinearRegression()\n",
    "mydataRFE = RFE(model, n_features_to_select=4)\n",
    "mydataFit = mydataRFE.fit(mydata_train, mydata_label)\n",
    "\n",
    "print(\"Number of features selected: %d\" % mydataFit.n_features_)\n",
    "print(\"Selected features are denoted by True: %s\" % mydataFit.support_)\n",
    "print(\"Feature Ranking: %s\" % mydataFit.ranking_)"
   ],
   "metadata": {
    "collapsed": false,
    "ExecuteTime": {
     "end_time": "2024-10-29T08:06:50.558134400Z",
     "start_time": "2024-10-29T08:06:50.521316500Z"
    }
   },
   "id": "b09d63185809d4cf",
   "execution_count": 21
  },
  {
   "cell_type": "code",
   "outputs": [
    {
     "name": "stdout",
     "output_type": "stream",
     "text": [
      "Explained Variance: [0.627 0.317 0.055]\n",
      "[[-1.171e-03  9.572e-05  4.988e-03  2.464e-03  2.433e-01  4.759e-01\n",
      "   8.452e-01 -1.133e-04 -2.359e-04 -8.990e-05]\n",
      " [ 6.403e-03 -1.041e-04  3.261e-03  1.727e-03  9.697e-01 -1.372e-01\n",
      "  -2.019e-01 -7.423e-05 -4.666e-04 -2.916e-04]\n",
      " [ 1.823e-02 -6.125e-05 -5.831e-04 -3.979e-04 -1.995e-02 -8.686e-01\n",
      "   4.948e-01  3.492e-04 -5.632e-04 -2.821e-04]]\n"
     ]
    }
   ],
   "source": [
    "from sklearn.decomposition import PCA\n",
    "\n",
    "pca = PCA(n_components = 3)\n",
    "fit = pca.fit(mydata_train)\n",
    "print(\"Explained Variance: %s\" % fit.explained_variance_ratio_)\n",
    "print(fit.components_)"
   ],
   "metadata": {
    "collapsed": false,
    "ExecuteTime": {
     "end_time": "2024-10-29T08:06:51.178215900Z",
     "start_time": "2024-10-29T08:06:51.155152Z"
    }
   },
   "id": "c86acca8b82f8d8",
   "execution_count": 22
  },
  {
   "cell_type": "code",
   "outputs": [
    {
     "name": "stdout",
     "output_type": "stream",
     "text": [
      "(579, 2)\n"
     ]
    }
   ],
   "source": [
    "pca=PCA(0.92)\n",
    "selectedFeatures = pca.fit_transform(mydata_train)\n",
    "print (selectedFeatures.shape)"
   ],
   "metadata": {
    "collapsed": false,
    "ExecuteTime": {
     "end_time": "2024-10-29T08:06:52.082165700Z",
     "start_time": "2024-10-29T08:06:52.049166Z"
    }
   },
   "id": "f4b123f9ef30e6e6",
   "execution_count": 23
  },
  {
   "cell_type": "code",
   "outputs": [
    {
     "name": "stdout",
     "output_type": "stream",
     "text": [
      "(579, 3)\n"
     ]
    }
   ],
   "source": [
    "pca=PCA(0.98)\n",
    "selectedFeatures=pca.fit_transform(mydata_train)\n",
    "print (selectedFeatures.shape)"
   ],
   "metadata": {
    "collapsed": false,
    "ExecuteTime": {
     "end_time": "2024-10-29T08:06:52.706300500Z",
     "start_time": "2024-10-29T08:06:52.682905Z"
    }
   },
   "id": "12909b653d36d221",
   "execution_count": 24
  },
  {
   "cell_type": "code",
   "outputs": [
    {
     "name": "stdout",
     "output_type": "stream",
     "text": [
      "[0.119 0.025 0.113 0.107 0.115 0.111 0.116 0.095 0.102 0.098]\n"
     ]
    }
   ],
   "source": [
    "import pandas as pd\n",
    "from sklearn.ensemble import ExtraTreesClassifier\n",
    "\n",
    "myData['Dataset'] = pd.cut(myData['Dataset'], bins=3, labels=[0, 1, 2])\n",
    "mydata_label = myData['Dataset'].values\n",
    "\n",
    "model = ExtraTreesClassifier()\n",
    "model.fit(mydata_train, mydata_label)\n",
    "print(model.feature_importances_)"
   ],
   "metadata": {
    "collapsed": false,
    "ExecuteTime": {
     "end_time": "2024-10-29T08:07:01.149330600Z",
     "start_time": "2024-10-29T08:07:00.999987800Z"
    }
   },
   "id": "522e63e0ac85fc3b",
   "execution_count": 25
  },
  {
   "cell_type": "code",
   "outputs": [],
   "source": [],
   "metadata": {
    "collapsed": false
   },
   "id": "50f99d5f57132186"
  }
 ],
 "metadata": {
  "kernelspec": {
   "display_name": "Python 3",
   "language": "python",
   "name": "python3"
  },
  "language_info": {
   "codemirror_mode": {
    "name": "ipython",
    "version": 2
   },
   "file_extension": ".py",
   "mimetype": "text/x-python",
   "name": "python",
   "nbconvert_exporter": "python",
   "pygments_lexer": "ipython2",
   "version": "2.7.6"
  }
 },
 "nbformat": 4,
 "nbformat_minor": 5
}
